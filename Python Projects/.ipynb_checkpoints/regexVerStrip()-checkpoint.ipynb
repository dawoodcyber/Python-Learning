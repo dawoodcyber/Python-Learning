{
 "cells": [
  {
   "cell_type": "code",
   "execution_count": 8,
   "id": "83cc24e9-da4a-45a1-acbe-17c408596e9f",
   "metadata": {},
   "outputs": [
    {
     "name": "stdin",
     "output_type": "stream",
     "text": [
      "Enter any string My name is Dawood Shaikh\n",
      "Any optional substitution? -\n"
     ]
    },
    {
     "data": {
      "text/plain": [
       "'My-name-is-Dawood-Shaikh'"
      ]
     },
     "execution_count": 8,
     "metadata": {},
     "output_type": "execute_result"
    }
   ],
   "source": [
    "import re \n",
    "stripRegex = re.compile(r'\\s')\n",
    "\n",
    "def myStrip(string, optional):\n",
    "    if optional == '':\n",
    "        mo = stripRegex.sub('',string)\n",
    "\n",
    "    else:\n",
    "        mo = stripRegex.sub(optional,string)\n",
    "        \n",
    "    return mo\n",
    "\n",
    "string = input('Enter any string')\n",
    "optional = input('Any optional substitution?')\n",
    "\n",
    "\n",
    "myStrip(string,optional)"
   ]
  },
  {
   "cell_type": "code",
   "execution_count": null,
   "id": "940d89d9-e5b8-40e3-a550-172013a85499",
   "metadata": {},
   "outputs": [],
   "source": []
  }
 ],
 "metadata": {
  "kernelspec": {
   "display_name": "Python 3 (ipykernel)",
   "language": "python",
   "name": "python3"
  },
  "language_info": {
   "codemirror_mode": {
    "name": "ipython",
    "version": 3
   },
   "file_extension": ".py",
   "mimetype": "text/x-python",
   "name": "python",
   "nbconvert_exporter": "python",
   "pygments_lexer": "ipython3",
   "version": "3.11.7"
  }
 },
 "nbformat": 4,
 "nbformat_minor": 5
}
