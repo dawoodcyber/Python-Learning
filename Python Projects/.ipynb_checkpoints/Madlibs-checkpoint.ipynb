{
 "cells": [
  {
   "cell_type": "code",
   "execution_count": 33,
   "id": "3e60de25-f1a6-4401-8245-f6de21dc35ee",
   "metadata": {},
   "outputs": [
    {
     "data": {
      "text/plain": [
       "'The ADJECTIVE panda walked to the NOUN1 and then VERB. A nearby NOUN2 was unaffected by these events'"
      ]
     },
     "execution_count": 33,
     "metadata": {},
     "output_type": "execute_result"
    }
   ],
   "source": [
    "file = open('C:\\\\dawood\\\\Madlibs\\\\sentence.txt')\n",
    "sentence = file.read()\n",
    "file.close()\n",
    "sentence"
   ]
  },
  {
   "cell_type": "code",
   "execution_count": 34,
   "id": "7f9a3c38-00fd-45a4-9ade-fcbd0149da44",
   "metadata": {},
   "outputs": [
    {
     "name": "stdin",
     "output_type": "stream",
     "text": [
      "Enter an Adjective silly\n",
      "Enter a noun chandellier\n",
      "Enter a verb screamed\n",
      "Enter a noun pickup truck\n"
     ]
    },
    {
     "data": {
      "text/plain": [
       "['The',\n",
       " 'ADJECTIVE',\n",
       " 'panda',\n",
       " 'walked',\n",
       " 'to',\n",
       " 'the',\n",
       " 'NOUN1',\n",
       " 'and',\n",
       " 'then',\n",
       " 'VERB.',\n",
       " 'A',\n",
       " 'nearby',\n",
       " 'NOUN2',\n",
       " 'was',\n",
       " 'unaffected',\n",
       " 'by',\n",
       " 'these',\n",
       " 'events']"
      ]
     },
     "execution_count": 34,
     "metadata": {},
     "output_type": "execute_result"
    }
   ],
   "source": [
    "adjective = input('Enter an Adjective')\n",
    "noun1 = input('Enter a noun')\n",
    "verb = input('Enter a verb')\n",
    "noun2 =input('Enter a noun')\n",
    "\n",
    "lsSentence = sentence.split(' ')\n",
    "lsSentence"
   ]
  },
  {
   "cell_type": "code",
   "execution_count": 35,
   "id": "a464b07f-0d76-4be9-b8e6-2325842a7a95",
   "metadata": {},
   "outputs": [],
   "source": [
    "for word in range(len(lsSentence)):\n",
    "    if lsSentence[word] == 'ADJECTIVE':\n",
    "        lsSentence[word] = adjective\n",
    "    elif lsSentence[word] == 'NOUN1':\n",
    "        lsSentence[word] = noun1\n",
    "    elif lsSentence[word] == 'VERB':\n",
    "        lsSentence[word] = verb\n",
    "    elif lsSentence[word] == 'NOUN2':\n",
    "        lsSentence[word] = noun2"
   ]
  },
  {
   "cell_type": "code",
   "execution_count": 36,
   "id": "68aa6a2c-f2c1-4d54-825b-e6d52362df62",
   "metadata": {},
   "outputs": [
    {
     "data": {
      "text/plain": [
       "'The silly panda walked to the chandellier and then VERB. A nearby pickup truck was unaffected by these events'"
      ]
     },
     "execution_count": 36,
     "metadata": {},
     "output_type": "execute_result"
    }
   ],
   "source": [
    "sentence = ' '.join(lsSentence)\n",
    "sentence"
   ]
  },
  {
   "cell_type": "code",
   "execution_count": 37,
   "id": "22b9b5ca-2e74-4b28-a7f2-56672aed8efe",
   "metadata": {},
   "outputs": [
    {
     "name": "stdout",
     "output_type": "stream",
     "text": [
      "109\n"
     ]
    }
   ],
   "source": [
    "file = open('C:\\\\dawood\\\\Madlibs\\\\sentenceNew.txt', 'w')\n",
    "print(file.write(sentence))\n",
    "file.close()"
   ]
  },
  {
   "cell_type": "code",
   "execution_count": 38,
   "id": "709e5122-b84a-4753-b446-c35c0282ed38",
   "metadata": {},
   "outputs": [
    {
     "name": "stdout",
     "output_type": "stream",
     "text": [
      "The silly panda walked to the chandellier and then VERB. A nearby pickup truck was unaffected by these events\n"
     ]
    }
   ],
   "source": [
    "file = open('C:\\\\dawood\\\\Madlibs\\\\sentenceNew.txt')\n",
    "content = file.read()\n",
    "print(content)\n",
    "file.close()"
   ]
  },
  {
   "cell_type": "code",
   "execution_count": null,
   "id": "bd82ae46-4c62-4919-9e37-36b39a054cdb",
   "metadata": {},
   "outputs": [],
   "source": []
  },
  {
   "cell_type": "code",
   "execution_count": null,
   "id": "22baa15c-3186-4fc4-9dd4-970297e45c68",
   "metadata": {},
   "outputs": [],
   "source": []
  }
 ],
 "metadata": {
  "kernelspec": {
   "display_name": "Python 3 (ipykernel)",
   "language": "python",
   "name": "python3"
  },
  "language_info": {
   "codemirror_mode": {
    "name": "ipython",
    "version": 3
   },
   "file_extension": ".py",
   "mimetype": "text/x-python",
   "name": "python",
   "nbconvert_exporter": "python",
   "pygments_lexer": "ipython3",
   "version": "3.11.7"
  }
 },
 "nbformat": 4,
 "nbformat_minor": 5
}
