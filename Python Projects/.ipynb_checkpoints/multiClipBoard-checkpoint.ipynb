{
 "cells": [
  {
   "cell_type": "code",
   "execution_count": 5,
   "id": "8405a461-f74b-4201-bbf3-fe74981effbc",
   "metadata": {},
   "outputs": [],
   "source": [
    "import sys, pyperclip, shelve\n",
    "mcbShelf = shelve.open('mcb')\n",
    "\n",
    "\n",
    "if len(sys.argv) == 3 and sys.argv[1].lower() == 'save':\n",
    "    mcbShelf[sys.argv[2]] = pyperclip.paste()\n",
    "\n",
    "elif len(sys.argv) == 2:\n",
    "    if sys.argv[1].lower() == 'list':\n",
    "        pyperclip.copy(str(list(mcbShelf.keys())))\n",
    "    elif sys.argv[1] in mcbShelf:\n",
    "        pyperclip.copy(mcbShelf[sys.argv[1]])\n",
    "\n",
    "mcbShelf.close()\n"
   ]
  },
  {
   "cell_type": "code",
   "execution_count": null,
   "id": "e498763c-4aff-4aab-b5df-d79cc6008ea8",
   "metadata": {},
   "outputs": [],
   "source": []
  }
 ],
 "metadata": {
  "kernelspec": {
   "display_name": "Python 3 (ipykernel)",
   "language": "python",
   "name": "python3"
  },
  "language_info": {
   "codemirror_mode": {
    "name": "ipython",
    "version": 3
   },
   "file_extension": ".py",
   "mimetype": "text/x-python",
   "name": "python",
   "nbconvert_exporter": "python",
   "pygments_lexer": "ipython3",
   "version": "3.11.7"
  }
 },
 "nbformat": 4,
 "nbformat_minor": 5
}
