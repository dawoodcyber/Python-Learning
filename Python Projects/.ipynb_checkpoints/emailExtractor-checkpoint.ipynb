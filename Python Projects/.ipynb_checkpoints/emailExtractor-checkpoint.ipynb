{
 "cells": [
  {
   "cell_type": "code",
   "execution_count": 8,
   "id": "c3291120-f896-4384-ab06-c93a82812a3f",
   "metadata": {},
   "outputs": [
    {
     "name": "stdout",
     "output_type": "stream",
     "text": [
      "Emails are... \n",
      "\n",
      "1.  john.doe@gmail.com\n",
      "2.  jane_smith@gmail.pk\n",
      "3.  admin@website.com\n",
      "4.  contact@university.edu\n",
      "5.  ceo@company.co.uk\n",
      "6.  support@service.ca\n",
      "7.  user123@gmail.com\n",
      "8.  hr@company.khi\n",
      "9.  test.email@gmail.edu\n",
      "10.  info@business.gmail.com\n",
      "11.  john.doe@gmail.com\n",
      "12.  jane.smith@workplace.org\n",
      "13.  admin@site.com\n"
     ]
    }
   ],
   "source": [
    "import re, pyperclip\n",
    "\n",
    "string = str(pyperclip.paste())\n",
    "\n",
    "emailRegex = re.compile(r'[a-zA-Z0-9._%+-]+@[a-zA-Z0-9.-]+\\.[a-zA-Z]{2,4}')\n",
    "mo  = emailRegex.findall(string)\n",
    "if mo:\n",
    "    print('Emails are... \\n')\n",
    "else:\n",
    "    print('No match found')\n",
    "\n",
    "i=1sss\n",
    "for emails in mo:\n",
    "    print(f'{i}. ',''.join(emails))\n",
    "    i+=1"
   ]
  },
  {
   "cell_type": "code",
   "execution_count": null,
   "id": "00642b5f-0e4b-45c1-9188-bb4a4f9e6681",
   "metadata": {},
   "outputs": [],
   "source": []
  }
 ],
 "metadata": {
  "kernelspec": {
   "display_name": "Python 3 (ipykernel)",
   "language": "python",
   "name": "python3"
  },
  "language_info": {
   "codemirror_mode": {
    "name": "ipython",
    "version": 3
   },
   "file_extension": ".py",
   "mimetype": "text/x-python",
   "name": "python",
   "nbconvert_exporter": "python",
   "pygments_lexer": "ipython3",
   "version": "3.11.7"
  }
 },
 "nbformat": 4,
 "nbformat_minor": 5
}
