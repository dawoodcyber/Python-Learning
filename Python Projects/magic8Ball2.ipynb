{
 "cells": [
  {
   "cell_type": "code",
   "execution_count": 3,
   "id": "da1bc32d-d1b8-4fdf-b104-e35b2b5b1bae",
   "metadata": {},
   "outputs": [
    {
     "name": "stdout",
     "output_type": "stream",
     "text": [
      "My reply is no\n"
     ]
    }
   ],
   "source": [
    "from random import *\n",
    "\n",
    "messages = [\n",
    "    'It is decidedly so',\n",
    "    'Yes definitely',\n",
    "    'Reply hazy try agian',\n",
    "    'Ask again later',\n",
    "    'Concentrate and ask again',\n",
    "    'My reply is no',\n",
    "    'Outlook not so good',\n",
    "    'Very doubtful'\n",
    "]\n",
    "\n",
    "print(messages[randint(0,len(messages)-1)])"
   ]
  },
  {
   "cell_type": "code",
   "execution_count": null,
   "id": "b52c284d-3baf-4496-ae36-a35e13a959ca",
   "metadata": {},
   "outputs": [],
   "source": []
  }
 ],
 "metadata": {
  "kernelspec": {
   "display_name": "Python 3 (ipykernel)",
   "language": "python",
   "name": "python3"
  },
  "language_info": {
   "codemirror_mode": {
    "name": "ipython",
    "version": 3
   },
   "file_extension": ".py",
   "mimetype": "text/x-python",
   "name": "python",
   "nbconvert_exporter": "python",
   "pygments_lexer": "ipython3",
   "version": "3.11.7"
  }
 },
 "nbformat": 4,
 "nbformat_minor": 5
}
