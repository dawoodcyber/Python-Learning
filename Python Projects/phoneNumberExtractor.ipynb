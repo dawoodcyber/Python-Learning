{
 "cells": [
  {
   "cell_type": "code",
   "execution_count": 75,
   "id": "32622bfc-c9cd-440d-802b-826dc118d057",
   "metadata": {},
   "outputs": [
    {
     "name": "stdout",
     "output_type": "stream",
     "text": [
      "Numbers are... \n",
      "\n",
      "\t1.  0345-2638954\n",
      "\t2.  +92 301 4567890\n",
      "\t3.  923218765432\n",
      "\t4.  0301 1234567\n",
      "\t5.  +92-321-8765432\n",
      "\t6.  03011234567\n",
      "\t7.  +923451234567\n",
      "\t8.  92300 8765432\n",
      "\t9.  +92 345 1234567\n",
      "\t10.  0321-9876543\n",
      "\t11.  0301 8765432\n",
      "\t12.  +92-300-1234567\n",
      "\t13.  923451234567\n"
     ]
    }
   ],
   "source": [
    "import re, pyperclip\n",
    "\n",
    "string = pyperclip.paste()\n",
    "\n",
    "pakNumRegex = re.compile(r'(0|\\+92|92)(-|\\s)?(\\d{3})(-|\\s)?(\\d{7,8})')\n",
    "mo = pakNumRegex.findall(string)\n",
    "\n",
    "if mo:\n",
    "    print('Numbers are... \\n')\n",
    "else:\n",
    "    print('No match found')\n",
    "\n",
    "mo = pakNumRegex.findall(string)\n",
    "i=1\n",
    "for num in mo:\n",
    "    print(f'\\t{i}. ',''.join(num))\n",
    "    i+=1"
   ]
  },
  {
   "cell_type": "code",
   "execution_count": null,
   "id": "da9fff23-61f1-42c3-b337-50d60150a91b",
   "metadata": {},
   "outputs": [],
   "source": []
  },
  {
   "cell_type": "code",
   "execution_count": null,
   "id": "44459144-82ac-4731-839f-17117a680ebf",
   "metadata": {},
   "outputs": [],
   "source": []
  }
 ],
 "metadata": {
  "kernelspec": {
   "display_name": "Python 3 (ipykernel)",
   "language": "python",
   "name": "python3"
  },
  "language_info": {
   "codemirror_mode": {
    "name": "ipython",
    "version": 3
   },
   "file_extension": ".py",
   "mimetype": "text/x-python",
   "name": "python",
   "nbconvert_exporter": "python",
   "pygments_lexer": "ipython3",
   "version": "3.11.7"
  }
 },
 "nbformat": 4,
 "nbformat_minor": 5
}
