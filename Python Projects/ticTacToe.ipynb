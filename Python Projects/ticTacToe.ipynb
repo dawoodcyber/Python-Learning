{
 "cells": [
  {
   "cell_type": "code",
   "execution_count": 2,
   "id": "8603ee6d-30fe-4256-9d96-6336ca3920be",
   "metadata": {},
   "outputs": [
    {
     "name": "stdout",
     "output_type": "stream",
     "text": [
      " | | \n",
      "-+-+-\n",
      " | | \n",
      "-+-+-\n",
      " | | \n",
      "Enter your move(X)\n"
     ]
    },
    {
     "name": "stdin",
     "output_type": "stream",
     "text": [
      " top-r\n"
     ]
    },
    {
     "name": "stdout",
     "output_type": "stream",
     "text": [
      " | |X\n",
      "-+-+-\n",
      " | | \n",
      "-+-+-\n",
      " | | \n",
      "Enter your move(O)\n"
     ]
    },
    {
     "name": "stdin",
     "output_type": "stream",
     "text": [
      " top-l\n"
     ]
    },
    {
     "name": "stdout",
     "output_type": "stream",
     "text": [
      "O| |X\n",
      "-+-+-\n",
      " | | \n",
      "-+-+-\n",
      " | | \n",
      "Enter your move(X)\n"
     ]
    },
    {
     "name": "stdin",
     "output_type": "stream",
     "text": [
      " med-m\n"
     ]
    },
    {
     "name": "stdout",
     "output_type": "stream",
     "text": [
      "O| |X\n",
      "-+-+-\n",
      " |X| \n",
      "-+-+-\n",
      " | | \n",
      "Enter your move(O)\n"
     ]
    },
    {
     "name": "stdin",
     "output_type": "stream",
     "text": [
      " top-m\n"
     ]
    },
    {
     "name": "stdout",
     "output_type": "stream",
     "text": [
      "O|O|X\n",
      "-+-+-\n",
      " |X| \n",
      "-+-+-\n",
      " | | \n",
      "Enter your move(X)\n"
     ]
    },
    {
     "name": "stdin",
     "output_type": "stream",
     "text": [
      " low-l\n"
     ]
    },
    {
     "name": "stdout",
     "output_type": "stream",
     "text": [
      "Congrats | X | you have won the game.\n"
     ]
    }
   ],
   "source": [
    "theBoard = {'top-l':' ','top-m':' ','top-r':' ',\n",
    "            'med-l':' ','med-m':' ','med-r':' ',\n",
    "            'low-l':' ','low-m':' ','low-r':' '}\n",
    "def myBoard(values):\n",
    "    print(values['top-l'] + '|' + values['top-m'] + '|' + values['top-r'])\n",
    "    print('-+-+-')\n",
    "    print(values['med-l'] + '|' + values['med-m'] + '|' + values['med-r'])\n",
    "    print('-+-+-')\n",
    "    print(values['low-l'] + '|' + values['low-m'] + '|' + values['low-r'])\n",
    "turn = 'X'\n",
    "\n",
    "for i in range(1,10,1):\n",
    "    if (theBoard['top-l'] == theBoard['top-m'] == theBoard['top-r'] != ' '):\n",
    "        print(f'Congrats | {theBoard[\"top-l\"]} | you have won the game.')\n",
    "        break\n",
    "    elif (theBoard['med-l'] == theBoard['med-m'] == theBoard['med-r'] != ' '):\n",
    "        print(f'Congrats | {theBoard[\"med-l\"]} | you have won the game.')\n",
    "        break\n",
    "    elif (theBoard['low-l'] == theBoard['low-m'] == theBoard['low-r'] != ' '):\n",
    "        print(f'Congrats | {theBoard[\"low-l\"]} | you have won the game.')\n",
    "        break\n",
    "    elif (theBoard['low-l'] == theBoard['med-m'] == theBoard['top-r'] != ' '):\n",
    "        print(f'Congrats | {theBoard[\"low-l\"]} | you have won the game.')\n",
    "        break\n",
    "    elif (theBoard['low-r'] == theBoard['med-m'] == theBoard['top-l'] != ' '):\n",
    "        print(f'Congrats | {theBoard[\"low-r\"]} | you have won the game.')\n",
    "        break\n",
    "    myBoard(theBoard)\n",
    "    print(f'Enter your move({turn})')\n",
    "    theBoard[input()] = turn\n",
    "    if turn == 'X':\n",
    "        turn = 'O'\n",
    "    else:\n",
    "        turn = 'X'\n",
    "\n",
    "\n"
   ]
  },
  {
   "cell_type": "code",
   "execution_count": null,
   "id": "cbbd25b5-5a5f-4e85-969e-e4892923695c",
   "metadata": {},
   "outputs": [],
   "source": []
  }
 ],
 "metadata": {
  "kernelspec": {
   "display_name": "Python 3 (ipykernel)",
   "language": "python",
   "name": "python3"
  },
  "language_info": {
   "codemirror_mode": {
    "name": "ipython",
    "version": 3
   },
   "file_extension": ".py",
   "mimetype": "text/x-python",
   "name": "python",
   "nbconvert_exporter": "python",
   "pygments_lexer": "ipython3",
   "version": "3.11.7"
  }
 },
 "nbformat": 4,
 "nbformat_minor": 5
}
