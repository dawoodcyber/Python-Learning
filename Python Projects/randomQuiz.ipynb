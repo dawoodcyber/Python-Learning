{
 "cells": [
  {
   "cell_type": "code",
   "execution_count": 1,
   "id": "e1b8bd46-7373-4426-841c-ac489a3fe3e7",
   "metadata": {},
   "outputs": [],
   "source": [
    "import random\n",
    "capitals = {'Alabama': 'Montgomery', 'Alaska': 'Juneau', 'Arizona': 'Phoenix', \n",
    "'Arkansas': 'Little Rock', 'California': 'Sacramento', 'Colorado': 'Denver', \n",
    "'Connecticut': 'Hartford', 'Delaware': 'Dover', 'Florida': 'Tallahassee', \n",
    "'Georgia': 'Atlanta', 'Hawaii': 'Honolulu', 'Idaho': 'Boise', 'Illinois': \n",
    "'Springfield', 'Indiana': 'Indianapolis', 'Iowa': 'Des Moines', 'Kansas': \n",
    "'Topeka', 'Kentucky': 'Frankfort', 'Louisiana': 'Baton Rouge', 'Maine': \n",
    "'Augusta', 'Maryland': 'Annapolis', 'Massachusetts': 'Boston', 'Michigan': \n",
    "'Lansing', 'Minnesota': 'Saint Paul', 'Mississippi': 'Jackson', 'Missouri': \n",
    "'Jefferson City', 'Montana': 'Helena', 'Nebraska': 'Lincoln', 'Nevada': \n",
    "'Carson City', 'New Hampshire': 'Concord', 'New Jersey': 'Trenton', 'New Mexico': 'Santa Fe', 'New York': 'Albany', 'North Carolina': 'Raleigh', \n",
    "'North Dakota': 'Bismarck', 'Ohio': 'Columbus', 'Oklahoma': 'Oklahoma City', \n",
    "'Oregon': 'Salem', 'Pennsylvania': 'Harrisburg', 'Rhode Island': 'Providence', \n",
    "'South Carolina': 'Columbia', 'South Dakota': 'Pierre', 'Tennessee': \n",
    "'Nashville', 'Texas': 'Austin', 'Utah': 'Salt Lake City', 'Vermont': \n",
    "'Montpelier', 'Virginia': 'Richmond', 'Washington': 'Olympia', 'West Virginia': 'Charleston', 'Wisconsin': 'Madison', 'Wyoming': 'Cheyenne'}"
   ]
  },
  {
   "cell_type": "code",
   "execution_count": 2,
   "id": "7830d507-4772-4f17-8c96-175a3142ba64",
   "metadata": {},
   "outputs": [
    {
     "data": {
      "text/plain": [
       "{'Alabama': 'Montgomery',\n",
       " 'Alaska': 'Juneau',\n",
       " 'Arizona': 'Phoenix',\n",
       " 'Arkansas': 'Little Rock',\n",
       " 'California': 'Sacramento',\n",
       " 'Colorado': 'Denver',\n",
       " 'Connecticut': 'Hartford',\n",
       " 'Delaware': 'Dover',\n",
       " 'Florida': 'Tallahassee',\n",
       " 'Georgia': 'Atlanta',\n",
       " 'Hawaii': 'Honolulu',\n",
       " 'Idaho': 'Boise',\n",
       " 'Illinois': 'Springfield',\n",
       " 'Indiana': 'Indianapolis',\n",
       " 'Iowa': 'Des Moines',\n",
       " 'Kansas': 'Topeka',\n",
       " 'Kentucky': 'Frankfort',\n",
       " 'Louisiana': 'Baton Rouge',\n",
       " 'Maine': 'Augusta',\n",
       " 'Maryland': 'Annapolis',\n",
       " 'Massachusetts': 'Boston',\n",
       " 'Michigan': 'Lansing',\n",
       " 'Minnesota': 'Saint Paul',\n",
       " 'Mississippi': 'Jackson',\n",
       " 'Missouri': 'Jefferson City',\n",
       " 'Montana': 'Helena',\n",
       " 'Nebraska': 'Lincoln',\n",
       " 'Nevada': 'Carson City',\n",
       " 'New Hampshire': 'Concord',\n",
       " 'New Jersey': 'Trenton',\n",
       " 'New Mexico': 'Santa Fe',\n",
       " 'New York': 'Albany',\n",
       " 'North Carolina': 'Raleigh',\n",
       " 'North Dakota': 'Bismarck',\n",
       " 'Ohio': 'Columbus',\n",
       " 'Oklahoma': 'Oklahoma City',\n",
       " 'Oregon': 'Salem',\n",
       " 'Pennsylvania': 'Harrisburg',\n",
       " 'Rhode Island': 'Providence',\n",
       " 'South Carolina': 'Columbia',\n",
       " 'South Dakota': 'Pierre',\n",
       " 'Tennessee': 'Nashville',\n",
       " 'Texas': 'Austin',\n",
       " 'Utah': 'Salt Lake City',\n",
       " 'Vermont': 'Montpelier',\n",
       " 'Virginia': 'Richmond',\n",
       " 'Washington': 'Olympia',\n",
       " 'West Virginia': 'Charleston',\n",
       " 'Wisconsin': 'Madison',\n",
       " 'Wyoming': 'Cheyenne'}"
      ]
     },
     "execution_count": 2,
     "metadata": {},
     "output_type": "execute_result"
    }
   ],
   "source": [
    "capitals"
   ]
  },
  {
   "cell_type": "code",
   "execution_count": 8,
   "id": "d76c74ad-118c-4cca-a3e2-15ec1e313812",
   "metadata": {},
   "outputs": [],
   "source": [
    "for quizNum in range(35):\n",
    "    quizFile = open('C:\\\\dawood\\\\quiz\\\\capitalQuiz%s.txt' % (quizNum+1),'w')\n",
    "    answerkeyFile =open('C:\\\\dawood\\\\quiz\\\\capitalQuizAnswers%s.txt' % (quizNum+1),'w')\n",
    "\n",
    "    quizFile.write('Name:\\n\\nDate:\\n\\nPeriod:\\n\\n')\n",
    "    quizFile.write((''*20) + 'State capitals Quiz (Form %s)' % (quizNum+1))\n",
    "    quizFile.write('\\n\\n')\n",
    "\n",
    "\n",
    "    states = list(capitals.keys())\n",
    "    random.shuffle(states)\n",
    "\n",
    "    for questionNum in range(50):\n",
    "        correctAnswer = capitals[states[questionNum]]\n",
    "        wrongAnswers = list(capitals.values())\n",
    "        del wrongAnswers[wrongAnswers.index(correctAnswer)]\n",
    "        wrongAnswers = random.sample(wrongAnswers, 3)\n",
    "        answerOptions = wrongAnswers + [correctAnswer]\n",
    "        random.shuffle(answerOptions)\n",
    "\n",
    "        quizFile.write('%s. What is the capital of %s?\\n' %(questionNum+1, states[questionNum]))\n",
    "        for i in range(4):\n",
    "            quizFile.write('   %s. %s\\n' %('ABCD'[i], answerOptions[i]))\n",
    "\n",
    "        quizFile.write('\\n')\n",
    "\n",
    "\n",
    "        answerkeyFile.write('%s. %s\\n' %(questionNum + 1, 'ABCD'[answerOptions.index(correctAnswer)]))\n",
    "\n",
    "    quizFile.close()\n",
    "    answerkeyFile.close()\n",
    "        \n",
    "    "
   ]
  },
  {
   "cell_type": "code",
   "execution_count": null,
   "id": "d59688e0-8cfe-448f-ade0-fcc62a99558b",
   "metadata": {},
   "outputs": [],
   "source": []
  }
 ],
 "metadata": {
  "kernelspec": {
   "display_name": "Python 3 (ipykernel)",
   "language": "python",
   "name": "python3"
  },
  "language_info": {
   "codemirror_mode": {
    "name": "ipython",
    "version": 3
   },
   "file_extension": ".py",
   "mimetype": "text/x-python",
   "name": "python",
   "nbconvert_exporter": "python",
   "pygments_lexer": "ipython3",
   "version": "3.11.7"
  }
 },
 "nbformat": 4,
 "nbformat_minor": 5
}
