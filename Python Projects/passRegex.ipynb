{
 "cells": [
  {
   "cell_type": "code",
   "execution_count": 8,
   "id": "83097c6e-a0c3-42a5-a214-b1b71b9842f3",
   "metadata": {},
   "outputs": [
    {
     "name": "stdin",
     "output_type": "stream",
     "text": [
      "Enter password to check the strength Junio6709\n"
     ]
    },
    {
     "name": "stdout",
     "output_type": "stream",
     "text": [
      "Password is strong\n"
     ]
    }
   ],
   "source": [
    "import re\n",
    "passs = input('Enter password to check the strength')\n",
    "\n",
    "passRegex = re.compile(r'[a-zA-Z0-9]{8}')\n",
    "mo = passRegex.search(passs)\n",
    "\n",
    "if mo:\n",
    "    print('Password is strong')\n",
    "\n",
    "else:\n",
    "    print('Not the strong one!')"
   ]
  },
  {
   "cell_type": "code",
   "execution_count": null,
   "id": "de836a07-1773-43c0-894d-261c17578686",
   "metadata": {},
   "outputs": [],
   "source": []
  }
 ],
 "metadata": {
  "kernelspec": {
   "display_name": "Python 3 (ipykernel)",
   "language": "python",
   "name": "python3"
  },
  "language_info": {
   "codemirror_mode": {
    "name": "ipython",
    "version": 3
   },
   "file_extension": ".py",
   "mimetype": "text/x-python",
   "name": "python",
   "nbconvert_exporter": "python",
   "pygments_lexer": "ipython3",
   "version": "3.11.7"
  }
 },
 "nbformat": 4,
 "nbformat_minor": 5
}
