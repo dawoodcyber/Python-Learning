{
 "cells": [
  {
   "cell_type": "code",
   "execution_count": 4,
   "id": "8d6e52f0-0365-4226-bcc8-332e0aaa1a05",
   "metadata": {},
   "outputs": [
    {
     "data": {
      "text/plain": [
       "\"This is Alice's cat.\""
      ]
     },
     "execution_count": 4,
     "metadata": {},
     "output_type": "execute_result"
    }
   ],
   "source": [
    "spam = 'This is Alice\\'s cat.'\n",
    "spam"
   ]
  },
  {
   "cell_type": "code",
   "execution_count": 6,
   "id": "1d78e6fe-23b2-490f-b881-f73cd0532721",
   "metadata": {},
   "outputs": [
    {
     "name": "stdout",
     "output_type": "stream",
     "text": [
      "My name is 'Dawood Shaikh'\n"
     ]
    }
   ],
   "source": [
    "myBio = \"My name is 'Dawood Shaikh'\"\n",
    "print(myBio)"
   ]
  },
  {
   "cell_type": "code",
   "execution_count": 7,
   "id": "59504c3b-2ecb-4760-9497-dcbbb18b3810",
   "metadata": {},
   "outputs": [
    {
     "name": "stdout",
     "output_type": "stream",
     "text": [
      "My name is \"dawood shaikh\"\n",
      "I am 18 yrs old\n"
     ]
    }
   ],
   "source": [
    "myBio='My name is \"dawood shaikh\"\\nI am 18 yrs old'\n",
    "print(myBio)"
   ]
  },
  {
   "cell_type": "code",
   "execution_count": 8,
   "id": "75179549-886e-423b-8fa2-a0d47a7fe81d",
   "metadata": {},
   "outputs": [
    {
     "name": "stdout",
     "output_type": "stream",
     "text": [
      "Hello there!\n",
      "How are you?\n",
      "I'm doing fine.\n"
     ]
    }
   ],
   "source": [
    "print(\"Hello there!\\nHow are you?\\nI\\'m doing fine.\")"
   ]
  },
  {
   "cell_type": "code",
   "execution_count": 9,
   "id": "d2d5958a-c357-4dba-9bd1-0d9fb0ed786e",
   "metadata": {},
   "outputs": [
    {
     "name": "stdout",
     "output_type": "stream",
     "text": [
      "That is Carol\\'s cat.\n"
     ]
    }
   ],
   "source": [
    " print(r'That is Carol\\'s cat.')"
   ]
  },
  {
   "cell_type": "code",
   "execution_count": 10,
   "id": "65693873-2b6a-44bf-b32c-b4edd52b432a",
   "metadata": {},
   "outputs": [
    {
     "name": "stdout",
     "output_type": "stream",
     "text": [
      "Dear Alice,\n",
      " Eve's cat has been arrested for catnapping, cat burglary, and extortion.\n",
      " Sincerely,\n",
      " Bob\n"
     ]
    }
   ],
   "source": [
    "print('''Dear Alice,\n",
    " Eve's cat has been arrested for catnapping, cat burglary, and extortion.\n",
    " Sincerely,\n",
    " Bob''')"
   ]
  },
  {
   "cell_type": "code",
   "execution_count": 11,
   "id": "b747a6d8-9e92-4c45-bafb-ed339f35cb24",
   "metadata": {},
   "outputs": [
    {
     "name": "stdout",
     "output_type": "stream",
     "text": [
      "Dear Alice,\n",
      "\n",
      "Eve's cat has been arrested for catnapping, cat burglary, and extortion.\n",
      "\n",
      "Sincerely,\n",
      "Bob\n"
     ]
    }
   ],
   "source": [
    "print('Dear Alice,\\n\\nEve\\'s cat has been arrested for catnapping, cat burglary, and extortion.\\n\\nSincerely,\\nBob')"
   ]
  },
  {
   "cell_type": "code",
   "execution_count": 12,
   "id": "59cbf0fd-2e9e-4600-92b8-fa28554ce4e6",
   "metadata": {},
   "outputs": [
    {
     "data": {
      "text/plain": [
       "'This is a test Python program.\\n Written by Al Sweigart al@inventwithpython.com\\n This program was designed for Python 3, not Python 2.\\n '"
      ]
     },
     "execution_count": 12,
     "metadata": {},
     "output_type": "execute_result"
    }
   ],
   "source": [
    "\"\"\"This is a test Python program.\n",
    " Written by Al Sweigart al@inventwithpython.com\n",
    " This program was designed for Python 3, not Python 2.\n",
    " \"\"\""
   ]
  },
  {
   "cell_type": "code",
   "execution_count": 14,
   "id": "a7dbd660-bcb5-45e4-8e2c-ae6c9927ffb0",
   "metadata": {},
   "outputs": [
    {
     "name": "stdout",
     "output_type": "stream",
     "text": [
      "Hello!\n"
     ]
    }
   ],
   "source": [
    "def spam():\n",
    "    \"\"\"This is a multiline comment to help\n",
    "    explain what the spam() function does.\"\"\"\n",
    "    print('Hello!')\n",
    "\n",
    "spam()"
   ]
  },
  {
   "cell_type": "code",
   "execution_count": 15,
   "id": "8217325b-ab3c-4f07-b9ca-b5c3dd95a1a7",
   "metadata": {},
   "outputs": [
    {
     "data": {
      "text/plain": [
       "'H'"
      ]
     },
     "execution_count": 15,
     "metadata": {},
     "output_type": "execute_result"
    }
   ],
   "source": [
    "spam = 'Hello world!'\n",
    "spam[0]"
   ]
  },
  {
   "cell_type": "code",
   "execution_count": 16,
   "id": "1e117e9f-e8b1-4dd4-ba90-9c378636b868",
   "metadata": {},
   "outputs": [
    {
     "data": {
      "text/plain": [
       "'o'"
      ]
     },
     "execution_count": 16,
     "metadata": {},
     "output_type": "execute_result"
    }
   ],
   "source": [
    "spam[4]"
   ]
  },
  {
   "cell_type": "code",
   "execution_count": 17,
   "id": "78b06b0c-5f8c-47dc-a7e0-5b087c4e9757",
   "metadata": {},
   "outputs": [
    {
     "data": {
      "text/plain": [
       "'!'"
      ]
     },
     "execution_count": 17,
     "metadata": {},
     "output_type": "execute_result"
    }
   ],
   "source": [
    "spam[-1]"
   ]
  },
  {
   "cell_type": "code",
   "execution_count": 18,
   "id": "1c138d45-c5c6-4dd5-9eb6-f3d44e2c8ddf",
   "metadata": {},
   "outputs": [
    {
     "data": {
      "text/plain": [
       "'Hello'"
      ]
     },
     "execution_count": 18,
     "metadata": {},
     "output_type": "execute_result"
    }
   ],
   "source": [
    "spam[0:5]"
   ]
  },
  {
   "cell_type": "code",
   "execution_count": 19,
   "id": "309e3cd4-0f3c-4ef3-bdcd-d4770eec0bcf",
   "metadata": {},
   "outputs": [
    {
     "data": {
      "text/plain": [
       "'Hello'"
      ]
     },
     "execution_count": 19,
     "metadata": {},
     "output_type": "execute_result"
    }
   ],
   "source": [
    "spam[:5]"
   ]
  },
  {
   "cell_type": "code",
   "execution_count": 20,
   "id": "c16333f4-0282-49a8-8122-1fda18b155e8",
   "metadata": {},
   "outputs": [
    {
     "data": {
      "text/plain": [
       "'world!'"
      ]
     },
     "execution_count": 20,
     "metadata": {},
     "output_type": "execute_result"
    }
   ],
   "source": [
    "spam[6:]"
   ]
  },
  {
   "cell_type": "code",
   "execution_count": 22,
   "id": "de06bc71-3393-4cc2-b86b-fe9b66436144",
   "metadata": {},
   "outputs": [
    {
     "data": {
      "text/plain": [
       "'Hello'"
      ]
     },
     "execution_count": 22,
     "metadata": {},
     "output_type": "execute_result"
    }
   ],
   "source": [
    "spam = 'Hello world!'\n",
    "fizz = spam[0:5]\n",
    "fizz"
   ]
  },
  {
   "cell_type": "code",
   "execution_count": 23,
   "id": "5fb9e419-5fb0-436d-8b3f-e86a8191cbff",
   "metadata": {},
   "outputs": [
    {
     "data": {
      "text/plain": [
       "True"
      ]
     },
     "execution_count": 23,
     "metadata": {},
     "output_type": "execute_result"
    }
   ],
   "source": [
    "'Hello' in 'Hello World'"
   ]
  },
  {
   "cell_type": "code",
   "execution_count": 24,
   "id": "0ad0d7a6-d8f5-4dea-a91b-f37956da0327",
   "metadata": {},
   "outputs": [
    {
     "data": {
      "text/plain": [
       "True"
      ]
     },
     "execution_count": 24,
     "metadata": {},
     "output_type": "execute_result"
    }
   ],
   "source": [
    "'Hello' in 'Hello'"
   ]
  },
  {
   "cell_type": "code",
   "execution_count": 25,
   "id": "592f376c-2e9e-4e39-b702-08900bfc2cd8",
   "metadata": {},
   "outputs": [
    {
     "data": {
      "text/plain": [
       "False"
      ]
     },
     "execution_count": 25,
     "metadata": {},
     "output_type": "execute_result"
    }
   ],
   "source": [
    "'HELLO' in 'Hello World'"
   ]
  },
  {
   "cell_type": "code",
   "execution_count": 26,
   "id": "92f5ecab-f370-43af-934a-a095e8cabcb0",
   "metadata": {},
   "outputs": [
    {
     "data": {
      "text/plain": [
       "True"
      ]
     },
     "execution_count": 26,
     "metadata": {},
     "output_type": "execute_result"
    }
   ],
   "source": [
    "'' in 'spam'"
   ]
  },
  {
   "cell_type": "code",
   "execution_count": 27,
   "id": "75c65555-17fd-4a0a-9e55-9b0eee46166f",
   "metadata": {},
   "outputs": [
    {
     "data": {
      "text/plain": [
       "False"
      ]
     },
     "execution_count": 27,
     "metadata": {},
     "output_type": "execute_result"
    }
   ],
   "source": [
    "'cats' not in 'cats and dogs'"
   ]
  },
  {
   "cell_type": "code",
   "execution_count": 28,
   "id": "bfa359fb-0045-46e8-b046-d13ea58ecef1",
   "metadata": {},
   "outputs": [
    {
     "data": {
      "text/plain": [
       "'HELLO WORLD!'"
      ]
     },
     "execution_count": 28,
     "metadata": {},
     "output_type": "execute_result"
    }
   ],
   "source": [
    "spam = 'Hello world!'\n",
    "spam = spam.upper()\n",
    "spam"
   ]
  },
  {
   "cell_type": "code",
   "execution_count": 29,
   "id": "6228626c-2654-4bcf-8e1b-9c6dfa14c943",
   "metadata": {},
   "outputs": [
    {
     "data": {
      "text/plain": [
       "'hello world!'"
      ]
     },
     "execution_count": 29,
     "metadata": {},
     "output_type": "execute_result"
    }
   ],
   "source": [
    "spam = spam.lower()\n",
    "spam"
   ]
  },
  {
   "cell_type": "code",
   "execution_count": 30,
   "id": "f8407778-dbbe-4ca7-b392-53a84ffdcb31",
   "metadata": {},
   "outputs": [
    {
     "data": {
      "text/plain": [
       "'Hello World!'"
      ]
     },
     "execution_count": 30,
     "metadata": {},
     "output_type": "execute_result"
    }
   ],
   "source": [
    "spam = spam.title()\n",
    "spam"
   ]
  },
  {
   "cell_type": "code",
   "execution_count": 33,
   "id": "da3e6d1e-b578-4a1c-a6cc-583274e7269d",
   "metadata": {},
   "outputs": [
    {
     "name": "stdout",
     "output_type": "stream",
     "text": [
      "How are you?\n"
     ]
    },
    {
     "name": "stdin",
     "output_type": "stream",
     "text": [
      " GREat\n"
     ]
    },
    {
     "name": "stdout",
     "output_type": "stream",
     "text": [
      "I feel great too.\n"
     ]
    }
   ],
   "source": [
    "print('How are you?')\n",
    "feeling = input()\n",
    "if feeling.lower() == 'great':\n",
    "   print('I feel great too.')\n",
    "else:\n",
    "   print('I hope the rest of your day is good.')"
   ]
  },
  {
   "cell_type": "code",
   "execution_count": 34,
   "id": "77e7d3d5-1c90-4e14-9a68-ae5afdb9e69e",
   "metadata": {},
   "outputs": [
    {
     "data": {
      "text/plain": [
       "False"
      ]
     },
     "execution_count": 34,
     "metadata": {},
     "output_type": "execute_result"
    }
   ],
   "source": [
    "spam = 'Hello world!'\n",
    "spam.islower()"
   ]
  },
  {
   "cell_type": "code",
   "execution_count": 35,
   "id": "606e662a-0bd7-4052-afe4-28d09ded49f9",
   "metadata": {},
   "outputs": [
    {
     "data": {
      "text/plain": [
       "False"
      ]
     },
     "execution_count": 35,
     "metadata": {},
     "output_type": "execute_result"
    }
   ],
   "source": [
    "spam.isupper()"
   ]
  },
  {
   "cell_type": "code",
   "execution_count": 36,
   "id": "a0e44efd-5d47-4450-8718-33f3ec80c52c",
   "metadata": {},
   "outputs": [
    {
     "data": {
      "text/plain": [
       "True"
      ]
     },
     "execution_count": 36,
     "metadata": {},
     "output_type": "execute_result"
    }
   ],
   "source": [
    "'HELLO'.isupper()"
   ]
  },
  {
   "cell_type": "code",
   "execution_count": 37,
   "id": "90e0d6d4-4e5c-4bab-ad5d-384cab65b01e",
   "metadata": {},
   "outputs": [
    {
     "data": {
      "text/plain": [
       "True"
      ]
     },
     "execution_count": 37,
     "metadata": {},
     "output_type": "execute_result"
    }
   ],
   "source": [
    "'abc1234'.islower()"
   ]
  },
  {
   "cell_type": "code",
   "execution_count": 38,
   "id": "ff4e06b8-4380-4649-90f2-e10e7be557e6",
   "metadata": {},
   "outputs": [
    {
     "data": {
      "text/plain": [
       "False"
      ]
     },
     "execution_count": 38,
     "metadata": {},
     "output_type": "execute_result"
    }
   ],
   "source": [
    "'12345'.islower()"
   ]
  },
  {
   "cell_type": "code",
   "execution_count": 39,
   "id": "47978a30-36fe-4565-8c92-5cddd2165832",
   "metadata": {},
   "outputs": [
    {
     "data": {
      "text/plain": [
       "False"
      ]
     },
     "execution_count": 39,
     "metadata": {},
     "output_type": "execute_result"
    }
   ],
   "source": [
    "'12345'.isupper()"
   ]
  },
  {
   "cell_type": "code",
   "execution_count": 40,
   "id": "dbf8de2e-62dc-4413-a7b7-5705313f4679",
   "metadata": {},
   "outputs": [
    {
     "data": {
      "text/plain": [
       "'HELLO'"
      ]
     },
     "execution_count": 40,
     "metadata": {},
     "output_type": "execute_result"
    }
   ],
   "source": [
    "'Hello'.upper()"
   ]
  },
  {
   "cell_type": "code",
   "execution_count": 41,
   "id": "e4d91bed-2fa6-4c10-a9d2-ce5fab2603b6",
   "metadata": {},
   "outputs": [
    {
     "data": {
      "text/plain": [
       "'hello'"
      ]
     },
     "execution_count": 41,
     "metadata": {},
     "output_type": "execute_result"
    }
   ],
   "source": [
    "'Hello'.upper().lower()"
   ]
  },
  {
   "cell_type": "code",
   "execution_count": 42,
   "id": "953aa7c8-072e-436d-a275-9583828b1771",
   "metadata": {},
   "outputs": [
    {
     "data": {
      "text/plain": [
       "'HELLO'"
      ]
     },
     "execution_count": 42,
     "metadata": {},
     "output_type": "execute_result"
    }
   ],
   "source": [
    "'Hello'.upper().lower().upper()"
   ]
  },
  {
   "cell_type": "code",
   "execution_count": 43,
   "id": "22977314-f6c4-480c-be3a-fabaa9c37e3c",
   "metadata": {},
   "outputs": [
    {
     "data": {
      "text/plain": [
       "'hello'"
      ]
     },
     "execution_count": 43,
     "metadata": {},
     "output_type": "execute_result"
    }
   ],
   "source": [
    "'HELLO'.lower()"
   ]
  },
  {
   "cell_type": "code",
   "execution_count": 44,
   "id": "5d086b3d-48db-411e-bd56-fb8ee3f955b5",
   "metadata": {},
   "outputs": [
    {
     "data": {
      "text/plain": [
       "True"
      ]
     },
     "execution_count": 44,
     "metadata": {},
     "output_type": "execute_result"
    }
   ],
   "source": [
    "'HELLO'.lower().islower()"
   ]
  },
  {
   "cell_type": "code",
   "execution_count": 45,
   "id": "98c747d8-f99c-4d11-b46d-61a8557f9436",
   "metadata": {},
   "outputs": [
    {
     "data": {
      "text/plain": [
       "True"
      ]
     },
     "execution_count": 45,
     "metadata": {},
     "output_type": "execute_result"
    }
   ],
   "source": [
    " 'hello'.isalpha()"
   ]
  },
  {
   "cell_type": "code",
   "execution_count": 46,
   "id": "e7af3830-cb62-4a47-9bcf-190deb521108",
   "metadata": {},
   "outputs": [
    {
     "data": {
      "text/plain": [
       "False"
      ]
     },
     "execution_count": 46,
     "metadata": {},
     "output_type": "execute_result"
    }
   ],
   "source": [
    "'hello123'.isalpha()"
   ]
  },
  {
   "cell_type": "code",
   "execution_count": 47,
   "id": "7a6de402-a23b-42b9-bdc5-476aada26331",
   "metadata": {},
   "outputs": [
    {
     "data": {
      "text/plain": [
       "True"
      ]
     },
     "execution_count": 47,
     "metadata": {},
     "output_type": "execute_result"
    }
   ],
   "source": [
    "'hello123'.isalnum()"
   ]
  },
  {
   "cell_type": "code",
   "execution_count": 48,
   "id": "a290f77f-942f-4aa8-8cb0-40e969dc91e3",
   "metadata": {},
   "outputs": [
    {
     "data": {
      "text/plain": [
       "True"
      ]
     },
     "execution_count": 48,
     "metadata": {},
     "output_type": "execute_result"
    }
   ],
   "source": [
    "'hello'.isalnum()"
   ]
  },
  {
   "cell_type": "code",
   "execution_count": 49,
   "id": "00f55b7a-8cf9-404f-9943-793afd8c9d69",
   "metadata": {},
   "outputs": [
    {
     "data": {
      "text/plain": [
       "True"
      ]
     },
     "execution_count": 49,
     "metadata": {},
     "output_type": "execute_result"
    }
   ],
   "source": [
    "'123'.isdecimal()"
   ]
  },
  {
   "cell_type": "code",
   "execution_count": 50,
   "id": "5cfdf187-b320-4095-8ffd-3cadc218ac26",
   "metadata": {},
   "outputs": [
    {
     "data": {
      "text/plain": [
       "True"
      ]
     },
     "execution_count": 50,
     "metadata": {},
     "output_type": "execute_result"
    }
   ],
   "source": [
    " '    '.isspace()"
   ]
  },
  {
   "cell_type": "code",
   "execution_count": 51,
   "id": "70deff7b-92c9-4288-82eb-72684ac8902d",
   "metadata": {},
   "outputs": [
    {
     "data": {
      "text/plain": [
       "True"
      ]
     },
     "execution_count": 51,
     "metadata": {},
     "output_type": "execute_result"
    }
   ],
   "source": [
    "'This Is Title Case'.istitle()"
   ]
  },
  {
   "cell_type": "code",
   "execution_count": 52,
   "id": "69f1335b-dd6f-430f-8a78-cb8be5b4078e",
   "metadata": {},
   "outputs": [
    {
     "data": {
      "text/plain": [
       "True"
      ]
     },
     "execution_count": 52,
     "metadata": {},
     "output_type": "execute_result"
    }
   ],
   "source": [
    "'This Is Title Case 123'.istitle()"
   ]
  },
  {
   "cell_type": "code",
   "execution_count": 53,
   "id": "ee1ccc9b-f5c2-4a7b-8676-09f3f01d46e3",
   "metadata": {},
   "outputs": [
    {
     "data": {
      "text/plain": [
       "False"
      ]
     },
     "execution_count": 53,
     "metadata": {},
     "output_type": "execute_result"
    }
   ],
   "source": [
    "'This Is not Title Case'.istitle()"
   ]
  },
  {
   "cell_type": "code",
   "execution_count": 54,
   "id": "46be4b15-294c-4590-81a6-38a4a6d12817",
   "metadata": {},
   "outputs": [
    {
     "data": {
      "text/plain": [
       "False"
      ]
     },
     "execution_count": 54,
     "metadata": {},
     "output_type": "execute_result"
    }
   ],
   "source": [
    "'This Is NOT Title Case Either'.istitle()"
   ]
  },
  {
   "cell_type": "code",
   "execution_count": 58,
   "id": "4b3c1bdc-7adf-4344-864b-307469926c51",
   "metadata": {},
   "outputs": [
    {
     "name": "stdout",
     "output_type": "stream",
     "text": [
      "Enter your age:\n"
     ]
    },
    {
     "name": "stdin",
     "output_type": "stream",
     "text": [
      " eighteen\n"
     ]
    },
    {
     "name": "stdout",
     "output_type": "stream",
     "text": [
      "Please enter a number for your age.\n",
      "Enter your age:\n"
     ]
    },
    {
     "name": "stdin",
     "output_type": "stream",
     "text": [
      " 18\n"
     ]
    },
    {
     "name": "stdout",
     "output_type": "stream",
     "text": [
      "Select a new password (letters and numbers only):\n"
     ]
    },
    {
     "name": "stdin",
     "output_type": "stream",
     "text": [
      " adm!n\n"
     ]
    },
    {
     "name": "stdout",
     "output_type": "stream",
     "text": [
      "Passwords can only have letters and numbers.\n",
      "Select a new password (letters and numbers only):\n"
     ]
    },
    {
     "name": "stdin",
     "output_type": "stream",
     "text": [
      " adm1n\n"
     ]
    }
   ],
   "source": [
    " while True:\n",
    "    print('Enter your age:')\n",
    "    age = input()\n",
    "    if age.isdecimal():\n",
    "        break\n",
    "    print('Please enter a number for your age.')\n",
    " while True:\n",
    "    print('Select a new password (letters and numbers only):')\n",
    "    password = input()\n",
    "    if password.isalnum():\n",
    "        break\n",
    "    print('Passwords can only have letters and numbers.')"
   ]
  },
  {
   "cell_type": "code",
   "execution_count": 59,
   "id": "3c06eff9-7163-49f6-a7ca-63cae9f0cc0b",
   "metadata": {},
   "outputs": [
    {
     "data": {
      "text/plain": [
       "True"
      ]
     },
     "execution_count": 59,
     "metadata": {},
     "output_type": "execute_result"
    }
   ],
   "source": [
    "'Hello world!'.startswith('Hello')"
   ]
  },
  {
   "cell_type": "code",
   "execution_count": 60,
   "id": "3a2b0b80-ab0b-40e1-8e9f-bb57d493b4ae",
   "metadata": {},
   "outputs": [
    {
     "data": {
      "text/plain": [
       "True"
      ]
     },
     "execution_count": 60,
     "metadata": {},
     "output_type": "execute_result"
    }
   ],
   "source": [
    "'Hello world!'.endswith('world!')"
   ]
  },
  {
   "cell_type": "code",
   "execution_count": 61,
   "id": "afee216e-176e-4abb-bd6f-84be8ceb098a",
   "metadata": {},
   "outputs": [
    {
     "data": {
      "text/plain": [
       "False"
      ]
     },
     "execution_count": 61,
     "metadata": {},
     "output_type": "execute_result"
    }
   ],
   "source": [
    "'abc123'.startswith('abcdef')"
   ]
  },
  {
   "cell_type": "code",
   "execution_count": 62,
   "id": "6ad894f4-e3b5-412e-ae13-afc95d7573d2",
   "metadata": {},
   "outputs": [
    {
     "data": {
      "text/plain": [
       "False"
      ]
     },
     "execution_count": 62,
     "metadata": {},
     "output_type": "execute_result"
    }
   ],
   "source": [
    "'abc123'.endswith('12')"
   ]
  },
  {
   "cell_type": "code",
   "execution_count": 63,
   "id": "ed6fc765-b6e8-451f-a367-bbcb684db728",
   "metadata": {},
   "outputs": [
    {
     "data": {
      "text/plain": [
       "True"
      ]
     },
     "execution_count": 63,
     "metadata": {},
     "output_type": "execute_result"
    }
   ],
   "source": [
    "'Hello world!'.startswith('Hello world!')"
   ]
  },
  {
   "cell_type": "code",
   "execution_count": 64,
   "id": "5dff4920-88ba-4d2d-b748-1f9161106f35",
   "metadata": {},
   "outputs": [
    {
     "data": {
      "text/plain": [
       "True"
      ]
     },
     "execution_count": 64,
     "metadata": {},
     "output_type": "execute_result"
    }
   ],
   "source": [
    "'Hello world!'.endswith('Hello world!')"
   ]
  },
  {
   "cell_type": "code",
   "execution_count": 65,
   "id": "e7005230-9095-4300-b57a-488e5e4495c0",
   "metadata": {},
   "outputs": [
    {
     "data": {
      "text/plain": [
       "'cats, rats, bats'"
      ]
     },
     "execution_count": 65,
     "metadata": {},
     "output_type": "execute_result"
    }
   ],
   "source": [
    "', '.join(['cats', 'rats', 'bats'])"
   ]
  },
  {
   "cell_type": "code",
   "execution_count": 66,
   "id": "f22f904f-47c3-439e-a0db-a79961b03bcd",
   "metadata": {},
   "outputs": [
    {
     "data": {
      "text/plain": [
       "'My name is Simon'"
      ]
     },
     "execution_count": 66,
     "metadata": {},
     "output_type": "execute_result"
    }
   ],
   "source": [
    "' '.join(['My', 'name', 'is', 'Simon'])"
   ]
  },
  {
   "cell_type": "code",
   "execution_count": 67,
   "id": "26b85d21-7ecf-4879-98f7-3e480630a131",
   "metadata": {},
   "outputs": [
    {
     "data": {
      "text/plain": [
       "'MyABCnameABCisABCSimon'"
      ]
     },
     "execution_count": 67,
     "metadata": {},
     "output_type": "execute_result"
    }
   ],
   "source": [
    "'ABC'.join(['My', 'name', 'is', 'Simon'])"
   ]
  },
  {
   "cell_type": "code",
   "execution_count": 68,
   "id": "8ab8f70e-49e4-439d-8904-3fa062e10e06",
   "metadata": {},
   "outputs": [
    {
     "data": {
      "text/plain": [
       "['My', 'name', 'is', 'Simon']"
      ]
     },
     "execution_count": 68,
     "metadata": {},
     "output_type": "execute_result"
    }
   ],
   "source": [
    " 'My name is Simon'.split()"
   ]
  },
  {
   "cell_type": "code",
   "execution_count": 69,
   "id": "7dd43b75-b315-4b37-98ff-6024b3753f90",
   "metadata": {},
   "outputs": [
    {
     "data": {
      "text/plain": [
       "['My', 'name', 'is', 'Simon']"
      ]
     },
     "execution_count": 69,
     "metadata": {},
     "output_type": "execute_result"
    }
   ],
   "source": [
    "'MyABCnameABCisABCSimon'.split('ABC')"
   ]
  },
  {
   "cell_type": "code",
   "execution_count": 70,
   "id": "4fcc77ab-e75f-4783-8cef-c540e48b681e",
   "metadata": {},
   "outputs": [
    {
     "data": {
      "text/plain": [
       "['My na', 'e is Si', 'on']"
      ]
     },
     "execution_count": 70,
     "metadata": {},
     "output_type": "execute_result"
    }
   ],
   "source": [
    "'My name is Simon'.split('m')"
   ]
  },
  {
   "cell_type": "code",
   "execution_count": 71,
   "id": "2e615ba1-e20a-48d6-8976-eb2b0afd9517",
   "metadata": {},
   "outputs": [
    {
     "data": {
      "text/plain": [
       "['Dear Alice,',\n",
       " ' How have you been? I am fine.',\n",
       " ' There is a container in the fridge',\n",
       " ' that is labeled \"Milk Experiment\".',\n",
       " ' Please do not drink it.',\n",
       " ' Sincerely,',\n",
       " ' Bob']"
      ]
     },
     "execution_count": 71,
     "metadata": {},
     "output_type": "execute_result"
    }
   ],
   "source": [
    "spam = '''Dear Alice,\n",
    " How have you been? I am fine.\n",
    " There is a container in the fridge\n",
    " that is labeled \"Milk Experiment\".\n",
    " Please do not drink it.\n",
    " Sincerely,\n",
    " Bob'''\n",
    "spam.split('\\n')"
   ]
  },
  {
   "cell_type": "code",
   "execution_count": 72,
   "id": "52ad9f46-ca55-4b4c-9a5b-d689a6235052",
   "metadata": {},
   "outputs": [
    {
     "data": {
      "text/plain": [
       "'     Hello'"
      ]
     },
     "execution_count": 72,
     "metadata": {},
     "output_type": "execute_result"
    }
   ],
   "source": [
    "'Hello'.rjust(10)"
   ]
  },
  {
   "cell_type": "code",
   "execution_count": 73,
   "id": "230b3611-7816-4af6-912a-79079afd4940",
   "metadata": {},
   "outputs": [
    {
     "data": {
      "text/plain": [
       "'               Hello'"
      ]
     },
     "execution_count": 73,
     "metadata": {},
     "output_type": "execute_result"
    }
   ],
   "source": [
    "'Hello'.rjust(20)"
   ]
  },
  {
   "cell_type": "code",
   "execution_count": 74,
   "id": "1c0c88d7-5975-49de-a097-018e03c4cbec",
   "metadata": {},
   "outputs": [
    {
     "data": {
      "text/plain": [
       "'         Hello World'"
      ]
     },
     "execution_count": 74,
     "metadata": {},
     "output_type": "execute_result"
    }
   ],
   "source": [
    "'Hello World'.rjust(20)"
   ]
  },
  {
   "cell_type": "code",
   "execution_count": 75,
   "id": "71c63132-282f-4f8a-814f-a168592c536b",
   "metadata": {},
   "outputs": [
    {
     "data": {
      "text/plain": [
       "'Hello     '"
      ]
     },
     "execution_count": 75,
     "metadata": {},
     "output_type": "execute_result"
    }
   ],
   "source": [
    "'Hello'.ljust(10)"
   ]
  },
  {
   "cell_type": "code",
   "execution_count": 76,
   "id": "7fa81640-ba50-4ff2-a013-3a0bc3bb35db",
   "metadata": {},
   "outputs": [
    {
     "data": {
      "text/plain": [
       "'***************Hello'"
      ]
     },
     "execution_count": 76,
     "metadata": {},
     "output_type": "execute_result"
    }
   ],
   "source": [
    "'Hello'.rjust(20, '*')"
   ]
  },
  {
   "cell_type": "code",
   "execution_count": 77,
   "id": "78d972d2-fd40-4a4d-b6ff-df76f3e4dd85",
   "metadata": {},
   "outputs": [
    {
     "data": {
      "text/plain": [
       "'Hello---------------'"
      ]
     },
     "execution_count": 77,
     "metadata": {},
     "output_type": "execute_result"
    }
   ],
   "source": [
    "'Hello'.ljust(20, '-')"
   ]
  },
  {
   "cell_type": "code",
   "execution_count": 78,
   "id": "36eac522-3ed7-4db2-a25b-5b4ca0e8ef62",
   "metadata": {},
   "outputs": [
    {
     "data": {
      "text/plain": [
       "'       Hello        '"
      ]
     },
     "execution_count": 78,
     "metadata": {},
     "output_type": "execute_result"
    }
   ],
   "source": [
    "'Hello'.center(20)"
   ]
  },
  {
   "cell_type": "code",
   "execution_count": 79,
   "id": "9bf7ca0b-d159-4285-ae1e-4efa472da7cf",
   "metadata": {},
   "outputs": [
    {
     "data": {
      "text/plain": [
       "'=======Hello========'"
      ]
     },
     "execution_count": 79,
     "metadata": {},
     "output_type": "execute_result"
    }
   ],
   "source": [
    "'Hello'.center(20, '=')"
   ]
  },
  {
   "cell_type": "code",
   "execution_count": 80,
   "id": "cd14f1c6-711f-44a7-8c58-acf1d7a95964",
   "metadata": {},
   "outputs": [
    {
     "name": "stdout",
     "output_type": "stream",
     "text": [
      "---PICNIC ITEMS--\n",
      "sandwiches..    4\n",
      "apples......   12\n",
      "cups........    4\n",
      "cookies..... 8000\n",
      "-------PICNIC ITEMS-------\n",
      "sandwiches..........     4\n",
      "apples..............    12\n",
      "cups................     4\n",
      "cookies.............  8000\n"
     ]
    }
   ],
   "source": [
    " def printPicnic(itemsDict, leftWidth, rightWidth):\n",
    "    print('PICNIC ITEMS'.center(leftWidth + rightWidth, '-'))\n",
    "    for k, v in itemsDict.items():\n",
    "        print(k.ljust(leftWidth, '.') + str(v).rjust(rightWidth))\n",
    "\n",
    "picnicItems = {'sandwiches': 4, 'apples': 12, 'cups': 4, 'cookies': 8000}\n",
    " printPicnic(picnicItems, 12, 5)\n",
    " printPicnic(picnicItems, 20, 6)"
   ]
  },
  {
   "cell_type": "code",
   "execution_count": null,
   "id": "15c840a4-defb-438c-8b8b-49bc226da81a",
   "metadata": {},
   "outputs": [],
   "source": []
  }
 ],
 "metadata": {
  "kernelspec": {
   "display_name": "Python 3 (ipykernel)",
   "language": "python",
   "name": "python3"
  },
  "language_info": {
   "codemirror_mode": {
    "name": "ipython",
    "version": 3
   },
   "file_extension": ".py",
   "mimetype": "text/x-python",
   "name": "python",
   "nbconvert_exporter": "python",
   "pygments_lexer": "ipython3",
   "version": "3.11.7"
  }
 },
 "nbformat": 4,
 "nbformat_minor": 5
}
