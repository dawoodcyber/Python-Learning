{
 "cells": [
  {
   "cell_type": "code",
   "execution_count": 1,
   "id": "33b12196-5dd5-4462-8540-bbf4138dfa32",
   "metadata": {},
   "outputs": [
    {
     "data": {
      "text/plain": [
       "True"
      ]
     },
     "execution_count": 1,
     "metadata": {},
     "output_type": "execute_result"
    }
   ],
   "source": [
    "import os\n",
    "folderPath = 'C:\\\\dawood'\n",
    "filePath = 'C:\\\\dawood\\\\dd.txt'\n",
    "os.path.isdir(folderPath)"
   ]
  },
  {
   "cell_type": "code",
   "execution_count": 2,
   "id": "adfbfb4b-27f0-4161-8738-21c5c52d06c3",
   "metadata": {},
   "outputs": [
    {
     "data": {
      "text/plain": [
       "True"
      ]
     },
     "execution_count": 2,
     "metadata": {},
     "output_type": "execute_result"
    }
   ],
   "source": [
    "os.path.isfile(filePath)"
   ]
  },
  {
   "cell_type": "code",
   "execution_count": 3,
   "id": "801f4491-d5c1-43d9-9654-0727935b61d7",
   "metadata": {},
   "outputs": [
    {
     "data": {
      "text/plain": [
       "False"
      ]
     },
     "execution_count": 3,
     "metadata": {},
     "output_type": "execute_result"
    }
   ],
   "source": [
    "os.path.isfile(folderPath)"
   ]
  },
  {
   "cell_type": "code",
   "execution_count": 4,
   "id": "89c6837c-f025-4b2e-b1a3-9d1ca69c147b",
   "metadata": {},
   "outputs": [
    {
     "data": {
      "text/plain": [
       "False"
      ]
     },
     "execution_count": 4,
     "metadata": {},
     "output_type": "execute_result"
    }
   ],
   "source": [
    "os.path.isdir(filePath)"
   ]
  },
  {
   "cell_type": "code",
   "execution_count": 5,
   "id": "3f547c95-ab58-4faa-a96c-ae282f9d8bb8",
   "metadata": {},
   "outputs": [
    {
     "data": {
      "text/plain": [
       "True"
      ]
     },
     "execution_count": 5,
     "metadata": {},
     "output_type": "execute_result"
    }
   ],
   "source": [
    "os.path.exists(filePath)"
   ]
  },
  {
   "cell_type": "code",
   "execution_count": 6,
   "id": "7a6d243f-d2dd-407f-88d4-80c5aa53896a",
   "metadata": {},
   "outputs": [
    {
     "data": {
      "text/plain": [
       "True"
      ]
     },
     "execution_count": 6,
     "metadata": {},
     "output_type": "execute_result"
    }
   ],
   "source": [
    "os.path.exists(folderPath)"
   ]
  },
  {
   "cell_type": "code",
   "execution_count": 7,
   "id": "2655d850-cfb4-42f2-9707-701ae7967cce",
   "metadata": {},
   "outputs": [
    {
     "data": {
      "text/plain": [
       "False"
      ]
     },
     "execution_count": 7,
     "metadata": {},
     "output_type": "execute_result"
    }
   ],
   "source": [
    "os.path.exists('C:\\\\doesNotExist')"
   ]
  },
  {
   "cell_type": "code",
   "execution_count": null,
   "id": "c461ab8a-6fb3-47fd-9d4a-4fb29e9451bc",
   "metadata": {},
   "outputs": [],
   "source": []
  }
 ],
 "metadata": {
  "kernelspec": {
   "display_name": "Python 3 (ipykernel)",
   "language": "python",
   "name": "python3"
  },
  "language_info": {
   "codemirror_mode": {
    "name": "ipython",
    "version": 3
   },
   "file_extension": ".py",
   "mimetype": "text/x-python",
   "name": "python",
   "nbconvert_exporter": "python",
   "pygments_lexer": "ipython3",
   "version": "3.11.7"
  }
 },
 "nbformat": 4,
 "nbformat_minor": 5
}
