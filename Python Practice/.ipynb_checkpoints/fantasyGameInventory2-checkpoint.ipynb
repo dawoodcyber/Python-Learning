{
 "cells": [
  {
   "cell_type": "code",
   "execution_count": 15,
   "id": "09706950-25ba-48d2-8385-ada0fa67d8f6",
   "metadata": {},
   "outputs": [
    {
     "name": "stdout",
     "output_type": "stream",
     "text": [
      "INVENTORY\n",
      "rope 1\n",
      "torch 6\n",
      "gold coin 42\n",
      "dagger 1\n",
      "arrow 12\n",
      "Total Number of Items: 62\n",
      "\n",
      "Updated Inventory\n",
      "rope 1\n",
      "torch 6\n",
      "gold coin 45\n",
      "dagger 2\n",
      "arrow 12\n",
      "ruby 1\n",
      "Total Number of Items: 67\n"
     ]
    }
   ],
   "source": [
    "goods = {'rope': 1, 'torch': 6, 'gold coin': 42, 'dagger': 1, 'arrow': 12}\n",
    "\n",
    "print('INVENTORY')\n",
    "def inventoryDisplay(stuff):\n",
    "    numItems = 0\n",
    "    for k, v in stuff.items():\n",
    "        print(str(k) + ' ' + str(v))\n",
    "        numItems+=v\n",
    "    print(f'Total Number of Items: {numItems}') \n",
    "\n",
    "inventoryDisplay(goods) # current inventory\n",
    "\n",
    "#adding list to an inventory\n",
    "dragonLoot = ['gold coin', 'dagger', 'gold coin', 'gold coin', 'ruby']\n",
    "\n",
    "\n",
    "def addToInventory(inventory, listsOfNewItems):\n",
    "    for item in listsOfNewItems:\n",
    "        if item in inventory:\n",
    "            inventory[item] +=1\n",
    "        else:\n",
    "            inventory[item] = 1\n",
    "    return inventory       \n",
    "\n",
    "goods = addToInventory(goods, dragonLoot)\n",
    "\n",
    "#updated inventory\n",
    "print('\\nUpdated Inventory')\n",
    "inventoryDisplay(goods)"
   ]
  },
  {
   "cell_type": "code",
   "execution_count": null,
   "id": "8f8861c7-073c-4b68-b732-4aaf742d14e3",
   "metadata": {},
   "outputs": [],
   "source": []
  }
 ],
 "metadata": {
  "kernelspec": {
   "display_name": "Python 3 (ipykernel)",
   "language": "python",
   "name": "python3"
  },
  "language_info": {
   "codemirror_mode": {
    "name": "ipython",
    "version": 3
   },
   "file_extension": ".py",
   "mimetype": "text/x-python",
   "name": "python",
   "nbconvert_exporter": "python",
   "pygments_lexer": "ipython3",
   "version": "3.11.7"
  }
 },
 "nbformat": 4,
 "nbformat_minor": 5
}
