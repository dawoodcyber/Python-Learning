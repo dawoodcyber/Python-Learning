{
 "cells": [
  {
   "cell_type": "code",
   "execution_count": 1,
   "id": "2595a4ab-2e49-48f4-b58e-5fcd9be73c3c",
   "metadata": {},
   "outputs": [],
   "source": [
    "import shelve\n",
    "shelfFile = shelve.open('mydata')"
   ]
  },
  {
   "cell_type": "code",
   "execution_count": 2,
   "id": "45b2c257-4ea6-4c64-90a1-0fba3ee0bfd1",
   "metadata": {},
   "outputs": [],
   "source": [
    "cats = ['zoophie', 'pooka', 'simon']\n",
    "shelfFile['cats'] = cats\n",
    "shelfFile.close()"
   ]
  },
  {
   "cell_type": "code",
   "execution_count": 3,
   "id": "2bea31d2-58b0-492f-a2ad-e29f1c158c12",
   "metadata": {},
   "outputs": [
    {
     "data": {
      "text/plain": [
       "shelve.DbfilenameShelf"
      ]
     },
     "execution_count": 3,
     "metadata": {},
     "output_type": "execute_result"
    }
   ],
   "source": [
    "shelfFile = shelve.open('mydata')\n",
    "type(shelfFile)"
   ]
  },
  {
   "cell_type": "code",
   "execution_count": 4,
   "id": "c7773d9b-be20-4764-8aee-89550a64c816",
   "metadata": {},
   "outputs": [
    {
     "data": {
      "text/plain": [
       "['zoophie', 'pooka', 'simon']"
      ]
     },
     "execution_count": 4,
     "metadata": {},
     "output_type": "execute_result"
    }
   ],
   "source": [
    "shelfFile['cats']"
   ]
  },
  {
   "cell_type": "code",
   "execution_count": 5,
   "id": "82fd927a-4016-4bb0-9945-c13b6fb131e9",
   "metadata": {},
   "outputs": [],
   "source": [
    "shelfFile.close()"
   ]
  },
  {
   "cell_type": "code",
   "execution_count": 7,
   "id": "c121e6a9-0029-40a7-a5a9-0575d3efeb84",
   "metadata": {},
   "outputs": [
    {
     "data": {
      "text/plain": [
       "['cats']"
      ]
     },
     "execution_count": 7,
     "metadata": {},
     "output_type": "execute_result"
    }
   ],
   "source": [
    "shelfFile = shelve.open('mydata')\n",
    "list(shelfFile.keys())"
   ]
  },
  {
   "cell_type": "code",
   "execution_count": 8,
   "id": "dbf07275-eb36-4606-acd4-264878cae55f",
   "metadata": {},
   "outputs": [
    {
     "data": {
      "text/plain": [
       "[['zoophie', 'pooka', 'simon']]"
      ]
     },
     "execution_count": 8,
     "metadata": {},
     "output_type": "execute_result"
    }
   ],
   "source": [
    "list(shelfFile.values())\n"
   ]
  },
  {
   "cell_type": "code",
   "execution_count": 9,
   "id": "f75cfdf9-a3d3-468a-a92a-99d5601fc3db",
   "metadata": {},
   "outputs": [],
   "source": [
    "shelfFile.close()"
   ]
  },
  {
   "cell_type": "code",
   "execution_count": null,
   "id": "789ee02f-8200-4e5b-b035-950c3415f044",
   "metadata": {},
   "outputs": [],
   "source": []
  }
 ],
 "metadata": {
  "kernelspec": {
   "display_name": "Python 3 (ipykernel)",
   "language": "python",
   "name": "python3"
  },
  "language_info": {
   "codemirror_mode": {
    "name": "ipython",
    "version": 3
   },
   "file_extension": ".py",
   "mimetype": "text/x-python",
   "name": "python",
   "nbconvert_exporter": "python",
   "pygments_lexer": "ipython3",
   "version": "3.11.7"
  }
 },
 "nbformat": 4,
 "nbformat_minor": 5
}
