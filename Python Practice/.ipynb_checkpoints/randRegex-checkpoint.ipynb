{
 "cells": [
  {
   "cell_type": "code",
   "execution_count": 1,
   "id": "b91b0b6a-5c42-41bc-bc41-c643783424de",
   "metadata": {},
   "outputs": [],
   "source": [
    "import re"
   ]
  },
  {
   "cell_type": "code",
   "execution_count": 7,
   "id": "f5ba5bbe-3341-4dbc-b984-3a24edc918bb",
   "metadata": {},
   "outputs": [
    {
     "name": "stdout",
     "output_type": "stream",
     "text": [
      "Batman\n",
      "Tina Fey\n"
     ]
    }
   ],
   "source": [
    "heroRegex = re.compile(r'Batman|Tina Fey')\n",
    "\n",
    "m01 = heroRegex.search('Batman and Tina Fey.')\n",
    "print(m01.group())\n",
    "\n",
    "m02 = heroRegex.search('Tina Fey and Batman.')\n",
    "print(m02.group())"
   ]
  },
  {
   "cell_type": "code",
   "execution_count": 8,
   "id": "ee903553-9a47-4be3-8a83-47ecfac07c27",
   "metadata": {},
   "outputs": [
    {
     "data": {
      "text/plain": [
       "['Batman', 'Tina Fey']"
      ]
     },
     "execution_count": 8,
     "metadata": {},
     "output_type": "execute_result"
    }
   ],
   "source": [
    "m01 = heroRegex.findall('Batman and Tina Fey.')\n",
    "m01"
   ]
  },
  {
   "cell_type": "code",
   "execution_count": null,
   "id": "c94340ff-0b71-49e8-b29c-5353e6fe9013",
   "metadata": {},
   "outputs": [],
   "source": []
  },
  {
   "cell_type": "code",
   "execution_count": 13,
   "id": "e6f27557-998e-4b38-9fa8-305b16d7344c",
   "metadata": {},
   "outputs": [
    {
     "name": "stdout",
     "output_type": "stream",
     "text": [
      "mobile\n",
      "Batmobile\n"
     ]
    }
   ],
   "source": [
    "batRegex = re.compile(r'Bat(mobile|man|copter|bat)')\n",
    "mo = batRegex.search('Batmobile lost a wheel')\n",
    "\n",
    "print(mo.group(1))\n",
    "print(mo.group())"
   ]
  },
  {
   "cell_type": "code",
   "execution_count": null,
   "id": "3bfbcfaa-09c1-4717-a3d6-b9a4b571a027",
   "metadata": {},
   "outputs": [],
   "source": []
  },
  {
   "cell_type": "code",
   "execution_count": 14,
   "id": "16c0f506-8749-4923-b867-f40924a170ce",
   "metadata": {},
   "outputs": [
    {
     "name": "stdout",
     "output_type": "stream",
     "text": [
      "Batman\n"
     ]
    }
   ],
   "source": [
    "batRegex = re.compile(r'Bat(wo)?man')\n",
    "mo = batRegex.search('The adventures of Batman')\n",
    "print(mo.group())"
   ]
  },
  {
   "cell_type": "code",
   "execution_count": 16,
   "id": "7f85cd4c-8c62-4cda-9b67-fd8af2aa5853",
   "metadata": {},
   "outputs": [
    {
     "name": "stdout",
     "output_type": "stream",
     "text": [
      "Batwoman\n"
     ]
    }
   ],
   "source": [
    "mo1= batRegex.search('The adventures of Batwoman')\n",
    "print(mo1.group()) #(wo)? part is optional"
   ]
  },
  {
   "cell_type": "code",
   "execution_count": null,
   "id": "2b3d8928-1498-4470-9ff7-9b8ee0513646",
   "metadata": {},
   "outputs": [],
   "source": []
  },
  {
   "cell_type": "code",
   "execution_count": 19,
   "id": "79cdb548-bc88-4b34-b6fe-b86e32f3772c",
   "metadata": {},
   "outputs": [
    {
     "name": "stdout",
     "output_type": "stream",
     "text": [
      "Spiderman\n",
      "Spiderwoman\n",
      "Spiderwowoman\n",
      "Spiderwowowowowowowowoman\n"
     ]
    }
   ],
   "source": [
    "#Matching zero or more with Stars\n",
    "\n",
    "batRegex = re.compile(r'Spider(wo)*man')\n",
    "\n",
    "mo1 = batRegex.search('Hey Spiderman')\n",
    "print(mo1.group())\n",
    "\n",
    "mo2 = batRegex.search('Hey Spiderwoman')\n",
    "print(mo2.group())\n",
    "\n",
    "mo3 = batRegex.search('Hey Spiderwowoman')\n",
    "print(mo3.group())\n",
    "\n",
    "mo4 = batRegex.search('Hey Spiderwowowowowowowowoman')\n",
    "print(mo4.group())"
   ]
  },
  {
   "cell_type": "code",
   "execution_count": null,
   "id": "db76a181-9d9e-422f-a734-77d4595df15e",
   "metadata": {},
   "outputs": [],
   "source": []
  },
  {
   "cell_type": "code",
   "execution_count": 25,
   "id": "04b245e6-db97-42cd-ae07-7e70a22eb61c",
   "metadata": {},
   "outputs": [
    {
     "name": "stdout",
     "output_type": "stream",
     "text": [
      "True\n",
      "Spiderwoman\n",
      "Spiderwowoman\n",
      "Spiderwowowowowowowowoman\n"
     ]
    }
   ],
   "source": [
    "#Matching one or more with Plus\n",
    "\n",
    "#Matching zero or more with Stars\n",
    "\n",
    "batRegex = re.compile(r'Spider(wo)+man')\n",
    "\n",
    "mo1 = batRegex.search('Hey Spiderman') \n",
    "#print(mo1.group()) #error atleast one wo is required\n",
    "print(mo1 == None)\n",
    "\n",
    "mo2 = batRegex.search('Hey Spiderwoman')\n",
    "print(mo2.group())\n",
    "\n",
    "mo3 = batRegex.search('Hey Spiderwowoman')\n",
    "print(mo3.group())\n",
    "\n",
    "mo4 = batRegex.search('Hey Spiderwowowowowowowowoman')\n",
    "print(mo4.group())"
   ]
  },
  {
   "cell_type": "code",
   "execution_count": null,
   "id": "5c561f5a-5e7a-401e-838a-10cf7e4eb443",
   "metadata": {},
   "outputs": [],
   "source": []
  },
  {
   "cell_type": "code",
   "execution_count": 33,
   "id": "a2decdec-c564-41b2-9bfe-eabd6977c950",
   "metadata": {},
   "outputs": [
    {
     "name": "stdout",
     "output_type": "stream",
     "text": [
      "BoBoBo\n",
      "True\n"
     ]
    }
   ],
   "source": [
    "#Matching Specific repititions with curly bracket\n",
    "\n",
    "boRegex = re.compile(r'(Bo){3}')\n",
    "m = boRegex.search('BoBoBo chekaboooo')\n",
    "\n",
    "print(m.group())\n",
    "\n",
    "m1 = boRegex.search('Bo chekaaaboooo')\n",
    "print(m1 == None)"
   ]
  },
  {
   "cell_type": "code",
   "execution_count": null,
   "id": "35010fc1-a29b-47cb-b431-be466a872d6c",
   "metadata": {},
   "outputs": [],
   "source": []
  },
  {
   "cell_type": "code",
   "execution_count": 41,
   "id": "72b50c07-f3e9-4565-b1a9-b322e89a3e6c",
   "metadata": {},
   "outputs": [
    {
     "name": "stdout",
     "output_type": "stream",
     "text": [
      "cheeez\n",
      "cheeeez\n",
      "cheeeeez\n",
      "\n",
      "\n",
      "\n",
      "HaHaHa\n",
      "HaHaHa\n",
      "HaHaHa\n"
     ]
    }
   ],
   "source": [
    "#Greedy and Non-greedy Matching\n",
    "\n",
    "#Greedy regex always go for the maximum matches\n",
    "greedyCheRegex = re.compile(r'ch(e){3,5}z')\n",
    "mo1 = greedyCheRegex.search('cheeez ready for a pic?')\n",
    "print(mo1.group()) \n",
    "\n",
    "mo2 = greedyCheRegex.search('cheeeez ready for a pic?')\n",
    "print(mo2.group())\n",
    "\n",
    "mo3 = greedyCheRegex.search('cheeeeez ready for a pic?')\n",
    "print(mo3.group()) \n",
    "\n",
    "print('\\n\\n')\n",
    "\n",
    "#nongreedy regex always go for the minimum matches\n",
    "NongreedyCheRegex = re.compile(r'(Ha){3,5}?')\n",
    "mo4 = NongreedyCheRegex.search('HaHaHaHa What a great joke')\n",
    "print(mo4.group()) \n",
    "\n",
    "mo5 = NongreedyCheRegex.search('HaHaHaHaHa What a great joke')\n",
    "print(mo5.group())\n",
    "\n",
    "mo6 = NongreedyCheRegex.search('HaHaHa What a great joke')\n",
    "print(mo6.group())"
   ]
  },
  {
   "cell_type": "code",
   "execution_count": null,
   "id": "257ae4b1-13c9-4b5c-a5ee-cba9edb0bba1",
   "metadata": {},
   "outputs": [],
   "source": []
  }
 ],
 "metadata": {
  "kernelspec": {
   "display_name": "Python 3 (ipykernel)",
   "language": "python",
   "name": "python3"
  },
  "language_info": {
   "codemirror_mode": {
    "name": "ipython",
    "version": 3
   },
   "file_extension": ".py",
   "mimetype": "text/x-python",
   "name": "python",
   "nbconvert_exporter": "python",
   "pygments_lexer": "ipython3",
   "version": "3.11.7"
  }
 },
 "nbformat": 4,
 "nbformat_minor": 5
}
