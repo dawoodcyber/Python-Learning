{
 "cells": [
  {
   "cell_type": "code",
   "execution_count": 2,
   "id": "0c7fe6f0-b9fe-48db-8b94-ac53c7d7ca61",
   "metadata": {},
   "outputs": [],
   "source": [
    "def spam():\n",
    "   # print(eggs) #ERROR\n",
    "    eggs = 'spam local'\n",
    "\n",
    "eggs= ' global'\n",
    "spam()"
   ]
  },
  {
   "cell_type": "code",
   "execution_count": null,
   "id": "800d3949-f905-4498-ab6a-d59f8f3706b7",
   "metadata": {},
   "outputs": [],
   "source": []
  }
 ],
 "metadata": {
  "kernelspec": {
   "display_name": "Python 3 (ipykernel)",
   "language": "python",
   "name": "python3"
  },
  "language_info": {
   "codemirror_mode": {
    "name": "ipython",
    "version": 3
   },
   "file_extension": ".py",
   "mimetype": "text/x-python",
   "name": "python",
   "nbconvert_exporter": "python",
   "pygments_lexer": "ipython3",
   "version": "3.11.7"
  }
 },
 "nbformat": 4,
 "nbformat_minor": 5
}
