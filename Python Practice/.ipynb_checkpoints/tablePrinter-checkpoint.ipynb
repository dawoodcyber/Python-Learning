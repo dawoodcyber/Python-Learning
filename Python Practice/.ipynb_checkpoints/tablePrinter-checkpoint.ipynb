{
 "cells": [
  {
   "cell_type": "code",
   "execution_count": 44,
   "id": "b67debac-251d-4ef4-86b3-ecdbc1bd0ab0",
   "metadata": {},
   "outputs": [
    {
     "name": "stdout",
     "output_type": "stream",
     "text": [
      "  apples Alice  dogs \n",
      " oranges   Bob  cats \n",
      "cherries Carol moose \n",
      "  banana David goose \n",
      "[8, 5, 5]\n"
     ]
    }
   ],
   "source": [
    "tableData = [['apples', 'oranges', 'cherries', 'banana'], \n",
    "             ['Alice', 'Bob', 'Carol', 'David'], \n",
    "             ['dogs', 'cats', 'moose', 'goose']]\n",
    "\n",
    "# Calculate the maximum width of each column\n",
    "colWidths = [0] * len(tableData)\n",
    "\n",
    "for i in range(len(tableData)):\n",
    "    for item in tableData[i]:\n",
    "        if len(item) > colWidths[i]:\n",
    "            colWidths[i] = len(item)\n",
    "\n",
    "# Print the table with right-justified columns\n",
    "for j in range(len(tableData[0])):\n",
    "    for i in range(len(tableData)):\n",
    "        print(tableData[i][j].rjust(colWidths[i]), end=' ')\n",
    "    print()\n",
    "\n",
    "print(colWidths)\n"
   ]
  },
  {
   "cell_type": "code",
   "execution_count": 38,
   "id": "12952a10-be68-4c93-b8ab-70720508e4d1",
   "metadata": {},
   "outputs": [
    {
     "data": {
      "text/plain": [
       "[0]"
      ]
     },
     "execution_count": 38,
     "metadata": {},
     "output_type": "execute_result"
    }
   ],
   "source": [
    "[0]"
   ]
  },
  {
   "cell_type": "code",
   "execution_count": 39,
   "id": "4fb92776-bc88-4f26-964c-5a81301fc7ac",
   "metadata": {},
   "outputs": [
    {
     "data": {
      "text/plain": [
       "[0, 0, 0]"
      ]
     },
     "execution_count": 39,
     "metadata": {},
     "output_type": "execute_result"
    }
   ],
   "source": [
    "[0]*3"
   ]
  },
  {
   "cell_type": "code",
   "execution_count": null,
   "id": "51d47041-7d76-4eb9-924e-88ae0fc63271",
   "metadata": {},
   "outputs": [],
   "source": []
  }
 ],
 "metadata": {
  "kernelspec": {
   "display_name": "Python 3 (ipykernel)",
   "language": "python",
   "name": "python3"
  },
  "language_info": {
   "codemirror_mode": {
    "name": "ipython",
    "version": 3
   },
   "file_extension": ".py",
   "mimetype": "text/x-python",
   "name": "python",
   "nbconvert_exporter": "python",
   "pygments_lexer": "ipython3",
   "version": "3.11.7"
  }
 },
 "nbformat": 4,
 "nbformat_minor": 5
}
