{
 "cells": [
  {
   "cell_type": "code",
   "execution_count": 1,
   "id": "ac963214-165c-47e7-83d9-5d4dc067edd6",
   "metadata": {},
   "outputs": [
    {
     "name": "stdout",
     "output_type": "stream",
     "text": [
      " dawood\n",
      "shaikh\n"
     ]
    }
   ],
   "source": [
    "data = ''' dawood\n",
    "shaikh'''\n",
    "print(data)"
   ]
  },
  {
   "cell_type": "code",
   "execution_count": 2,
   "id": "ddeed28e-31f7-484b-a753-6457d31e869e",
   "metadata": {},
   "outputs": [
    {
     "data": {
      "text/plain": [
       "['Remember,', 'remember,', 'the', 'fifth', 'of', 'November.']"
      ]
     },
     "execution_count": 2,
     "metadata": {},
     "output_type": "execute_result"
    }
   ],
   "source": [
    "'Remember, remember, the fifth of November.'.split()"
   ]
  },
  {
   "cell_type": "code",
   "execution_count": 3,
   "id": "ea3eb2d7-31e1-4a31-828a-4a38660a3f95",
   "metadata": {},
   "outputs": [
    {
     "data": {
      "text/plain": [
       "'There-can-be-only-one.'"
      ]
     },
     "execution_count": 3,
     "metadata": {},
     "output_type": "execute_result"
    }
   ],
   "source": [
    "'-'.join('There can be only one.'.split())"
   ]
  },
  {
   "cell_type": "code",
   "execution_count": null,
   "id": "ba53b5ae-10a6-4651-bfc9-a141bf17acf5",
   "metadata": {},
   "outputs": [],
   "source": []
  }
 ],
 "metadata": {
  "kernelspec": {
   "display_name": "Python 3 (ipykernel)",
   "language": "python",
   "name": "python3"
  },
  "language_info": {
   "codemirror_mode": {
    "name": "ipython",
    "version": 3
   },
   "file_extension": ".py",
   "mimetype": "text/x-python",
   "name": "python",
   "nbconvert_exporter": "python",
   "pygments_lexer": "ipython3",
   "version": "3.11.7"
  }
 },
 "nbformat": 4,
 "nbformat_minor": 5
}
