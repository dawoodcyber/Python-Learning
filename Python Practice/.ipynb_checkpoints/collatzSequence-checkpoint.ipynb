{
 "cells": [
  {
   "cell_type": "code",
   "execution_count": 15,
   "id": "0e9fb322-9484-4691-b002-bb2556db1351",
   "metadata": {},
   "outputs": [
    {
     "name": "stdin",
     "output_type": "stream",
     "text": [
      "Enter any number jd ads\n"
     ]
    },
    {
     "name": "stdout",
     "output_type": "stream",
     "text": [
      "Must enter an integer\n",
      "1\n"
     ]
    }
   ],
   "source": [
    "def collatz(number):\n",
    "    if number%2 == 0:\n",
    "        print(number // 2)\n",
    "        return number // 2\n",
    "\n",
    "    else:\n",
    "        print(3*number+1)\n",
    "        return 3*number+1\n",
    "flag = True\n",
    "while flag:\n",
    "    try:\n",
    "        userInput = int(input('Enter any number'))\n",
    "    except ValueError:\n",
    "        print(\"Must enter an integer\")\n",
    "\n",
    "    if collatz(userInput) == 1:\n",
    "        flag = False\n",
    "\n"
   ]
  },
  {
   "cell_type": "code",
   "execution_count": null,
   "id": "517e483a-71d6-492e-ab99-8463c8a94e07",
   "metadata": {},
   "outputs": [],
   "source": []
  }
 ],
 "metadata": {
  "kernelspec": {
   "display_name": "Python 3 (ipykernel)",
   "language": "python",
   "name": "python3"
  },
  "language_info": {
   "codemirror_mode": {
    "name": "ipython",
    "version": 3
   },
   "file_extension": ".py",
   "mimetype": "text/x-python",
   "name": "python",
   "nbconvert_exporter": "python",
   "pygments_lexer": "ipython3",
   "version": "3.11.7"
  }
 },
 "nbformat": 4,
 "nbformat_minor": 5
}
