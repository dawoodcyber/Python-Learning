{
 "cells": [
  {
   "cell_type": "code",
   "execution_count": 6,
   "id": "707a21fd-796d-4a36-a559-b2de496edef7",
   "metadata": {},
   "outputs": [
    {
     "name": "stdout",
     "output_type": "stream",
     "text": [
      "I am thinking of a number between 1 and 20\n",
      "You have total of 5 chances to guess the number correctly!\n"
     ]
    },
    {
     "name": "stdin",
     "output_type": "stream",
     "text": [
      "Guess the number? 20\n"
     ]
    },
    {
     "name": "stdout",
     "output_type": "stream",
     "text": [
      "Chance no:  1  Your guess is too high\n"
     ]
    },
    {
     "name": "stdin",
     "output_type": "stream",
     "text": [
      "Guess the number? 15\n"
     ]
    },
    {
     "name": "stdout",
     "output_type": "stream",
     "text": [
      "Chance no:  2  Your guess is too low\n"
     ]
    },
    {
     "name": "stdin",
     "output_type": "stream",
     "text": [
      "Guess the number? 18\n"
     ]
    },
    {
     "name": "stdout",
     "output_type": "stream",
     "text": [
      "Congrats! you have choosen the right number\n"
     ]
    }
   ],
   "source": [
    "from random import *\n",
    "\n",
    "print('I am thinking of a number between 1 and 20')\n",
    "print('You have total of 5 chances to guess the number correctly!')\n",
    "\n",
    "myNumber = randint(1,20)\n",
    "userGuess=3\n",
    "\n",
    "for chance in range(5):\n",
    "    userGuess = int(input('Guess the number?'))\n",
    "    if userGuess > myNumber:\n",
    "        print('Chance no: ',chance+1, ' Your guess is too high')\n",
    "\n",
    "    elif userGuess<myNumber:\n",
    "        print('Chance no: ', chance+1, ' Your guess is too low')\n",
    "\n",
    "    else:\n",
    "        break;\n",
    "\n",
    "if myNumber ==userGuess:\n",
    "    print('Congrats! you have choosen the right number')\n",
    "\n",
    "else:\n",
    "    print('Nope! correct number is ',myNumber)\n"
   ]
  },
  {
   "cell_type": "code",
   "execution_count": null,
   "id": "7c8283c2-501f-4f98-a927-bfbb4f92368f",
   "metadata": {},
   "outputs": [],
   "source": []
  }
 ],
 "metadata": {
  "kernelspec": {
   "display_name": "Python 3 (ipykernel)",
   "language": "python",
   "name": "python3"
  },
  "language_info": {
   "codemirror_mode": {
    "name": "ipython",
    "version": 3
   },
   "file_extension": ".py",
   "mimetype": "text/x-python",
   "name": "python",
   "nbconvert_exporter": "python",
   "pygments_lexer": "ipython3",
   "version": "3.11.7"
  }
 },
 "nbformat": 4,
 "nbformat_minor": 5
}
