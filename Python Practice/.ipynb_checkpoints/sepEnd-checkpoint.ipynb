{
 "cells": [
  {
   "cell_type": "code",
   "execution_count": 13,
   "id": "44919baf-68e4-4fb3-af2d-94f38ab5b3a6",
   "metadata": {},
   "outputs": [
    {
     "name": "stdout",
     "output_type": "stream",
     "text": [
      "Hello\n",
      "World\n"
     ]
    }
   ],
   "source": [
    "print('Hello')\n",
    "print('World')"
   ]
  },
  {
   "cell_type": "code",
   "execution_count": 14,
   "id": "73cb1dfb-fd7d-4366-9985-0880a810c44e",
   "metadata": {},
   "outputs": [
    {
     "name": "stdout",
     "output_type": "stream",
     "text": [
      "Hello World\n"
     ]
    }
   ],
   "source": [
    "print('Hello',end=' ')\n",
    "print('World')\n"
   ]
  },
  {
   "cell_type": "code",
   "execution_count": 15,
   "id": "ebea5ebd-c43c-4830-b039-813f1672a454",
   "metadata": {},
   "outputs": [
    {
     "name": "stdout",
     "output_type": "stream",
     "text": [
      "milk bread butter\n"
     ]
    }
   ],
   "source": [
    "print('milk','bread','butter')"
   ]
  },
  {
   "cell_type": "code",
   "execution_count": 16,
   "id": "5a191bb9-26da-453e-892a-7e5309c8edd0",
   "metadata": {},
   "outputs": [
    {
     "name": "stdout",
     "output_type": "stream",
     "text": [
      "milk,bread,butter\n"
     ]
    }
   ],
   "source": [
    "print('milk','bread','butter',sep=\",\")"
   ]
  },
  {
   "cell_type": "code",
   "execution_count": null,
   "id": "12b7657c-b6ee-4499-b863-fcf032a2032f",
   "metadata": {},
   "outputs": [],
   "source": []
  }
 ],
 "metadata": {
  "kernelspec": {
   "display_name": "Python 3 (ipykernel)",
   "language": "python",
   "name": "python3"
  },
  "language_info": {
   "codemirror_mode": {
    "name": "ipython",
    "version": 3
   },
   "file_extension": ".py",
   "mimetype": "text/x-python",
   "name": "python",
   "nbconvert_exporter": "python",
   "pygments_lexer": "ipython3",
   "version": "3.11.7"
  }
 },
 "nbformat": 4,
 "nbformat_minor": 5
}
