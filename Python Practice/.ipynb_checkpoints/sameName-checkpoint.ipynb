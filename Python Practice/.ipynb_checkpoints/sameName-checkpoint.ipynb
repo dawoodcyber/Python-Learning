{
 "cells": [
  {
   "cell_type": "code",
   "execution_count": 59,
   "id": "ebe01e39-181f-4642-ae6e-46daaad44821",
   "metadata": {},
   "outputs": [
    {
     "name": "stdout",
     "output_type": "stream",
     "text": [
      "bacon local\n",
      "spam local\n",
      "bacon local\n",
      "global\n"
     ]
    }
   ],
   "source": [
    "def spam():\n",
    "    eggs = 'spam local'\n",
    "    print(eggs) #prints 'spam local'\n",
    "\n",
    "def bacon():\n",
    "    eggs = 'bacon local'\n",
    "    print(eggs) #prints 'bacon local'\n",
    "    spam()\n",
    "    print(eggs) #prints 'bacon local'\n",
    "\n",
    "eggs = 'global'\n",
    "bacon()\n",
    "print(eggs) #prints 'global'"
   ]
  },
  {
   "cell_type": "code",
   "execution_count": null,
   "id": "2e083ea0-6619-40b9-821b-5114383ce221",
   "metadata": {},
   "outputs": [],
   "source": []
  },
  {
   "cell_type": "code",
   "execution_count": null,
   "id": "d71427a7-4c88-4281-be13-522e01d2ae0f",
   "metadata": {},
   "outputs": [],
   "source": []
  }
 ],
 "metadata": {
  "kernelspec": {
   "display_name": "Python 3 (ipykernel)",
   "language": "python",
   "name": "python3"
  },
  "language_info": {
   "codemirror_mode": {
    "name": "ipython",
    "version": 3
   },
   "file_extension": ".py",
   "mimetype": "text/x-python",
   "name": "python",
   "nbconvert_exporter": "python",
   "pygments_lexer": "ipython3",
   "version": "3.11.7"
  }
 },
 "nbformat": 4,
 "nbformat_minor": 5
}
