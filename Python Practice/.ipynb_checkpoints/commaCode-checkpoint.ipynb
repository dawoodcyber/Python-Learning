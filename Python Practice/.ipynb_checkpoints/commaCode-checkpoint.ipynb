{
 "cells": [
  {
   "cell_type": "code",
   "execution_count": 26,
   "id": "cb03e6ee-6756-4f5c-84a9-3c38fd9de41d",
   "metadata": {},
   "outputs": [
    {
     "name": "stdout",
     "output_type": "stream",
     "text": [
      "apples, bananas, tofu, and cats\n",
      "1, 2, three, 4, and 5\n"
     ]
    }
   ],
   "source": [
    "spam = ['apples', 'bananas', 'tofu', 'cats']\n",
    "daw = [1,2,'three', 4,5]\n",
    "\n",
    "def myFunc(listee):\n",
    "    myString = ''\n",
    "    for i in listee:\n",
    "        if i == listee[len(listee)-1]:\n",
    "            myString = myString + ', ' +'and '+ str(i)\n",
    "        else:\n",
    "            myString = myString + ', ' + str(i)\n",
    "    myString = myString[2:]\n",
    "    return myString\n",
    "\n",
    "print(myFunc(spam))\n",
    "print(myFunc(daw))\n"
   ]
  },
  {
   "cell_type": "code",
   "execution_count": null,
   "id": "3e43217f-f510-4f21-87bb-36a8ac978a5b",
   "metadata": {},
   "outputs": [],
   "source": []
  }
 ],
 "metadata": {
  "kernelspec": {
   "display_name": "Python 3 (ipykernel)",
   "language": "python",
   "name": "python3"
  },
  "language_info": {
   "codemirror_mode": {
    "name": "ipython",
    "version": 3
   },
   "file_extension": ".py",
   "mimetype": "text/x-python",
   "name": "python",
   "nbconvert_exporter": "python",
   "pygments_lexer": "ipython3",
   "version": "3.11.7"
  }
 },
 "nbformat": 4,
 "nbformat_minor": 5
}
