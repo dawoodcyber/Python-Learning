{
 "cells": [
  {
   "cell_type": "code",
   "execution_count": 1,
   "id": "897d85fa-acdb-4b88-a69d-19a117522ada",
   "metadata": {},
   "outputs": [
    {
     "data": {
      "text/plain": [
       "'Hello World'"
      ]
     },
     "execution_count": 1,
     "metadata": {},
     "output_type": "execute_result"
    }
   ],
   "source": [
    "spam = '     Hello World     '\n",
    "spam.strip()"
   ]
  },
  {
   "cell_type": "code",
   "execution_count": 2,
   "id": "baadabf2-a7d1-4110-9278-9be341abb644",
   "metadata": {},
   "outputs": [
    {
     "data": {
      "text/plain": [
       "'     Hello World'"
      ]
     },
     "execution_count": 2,
     "metadata": {},
     "output_type": "execute_result"
    }
   ],
   "source": [
    "spam.rstrip()"
   ]
  },
  {
   "cell_type": "code",
   "execution_count": 3,
   "id": "fb500e6b-f0b7-4cbe-80e9-65d535d89726",
   "metadata": {},
   "outputs": [
    {
     "data": {
      "text/plain": [
       "'Hello World     '"
      ]
     },
     "execution_count": 3,
     "metadata": {},
     "output_type": "execute_result"
    }
   ],
   "source": [
    "spam.lstrip()"
   ]
  },
  {
   "cell_type": "code",
   "execution_count": 5,
   "id": "94dc595d-8f90-4772-abb6-95d623c7e2c7",
   "metadata": {},
   "outputs": [
    {
     "data": {
      "text/plain": [
       "'BaconspamEgg'"
      ]
     },
     "execution_count": 5,
     "metadata": {},
     "output_type": "execute_result"
    }
   ],
   "source": [
    "spam = 'spamspamBaconspamEggsspam'\n",
    "spam.strip('asmp')"
   ]
  },
  {
   "cell_type": "code",
   "execution_count": 7,
   "id": "bf84d20d-c6f8-4e93-b615-596b62874327",
   "metadata": {},
   "outputs": [
    {
     "data": {
      "text/plain": [
       "'Dawood Shaikh'"
      ]
     },
     "execution_count": 7,
     "metadata": {},
     "output_type": "execute_result"
    }
   ],
   "source": [
    "spam = ' Dawood Shaikh                 '\n",
    "spam.strip()"
   ]
  },
  {
   "cell_type": "code",
   "execution_count": null,
   "id": "bce6d49b-1c46-4119-9a65-9e9954f65f34",
   "metadata": {},
   "outputs": [],
   "source": []
  }
 ],
 "metadata": {
  "kernelspec": {
   "display_name": "Python 3 (ipykernel)",
   "language": "python",
   "name": "python3"
  },
  "language_info": {
   "codemirror_mode": {
    "name": "ipython",
    "version": 3
   },
   "file_extension": ".py",
   "mimetype": "text/x-python",
   "name": "python",
   "nbconvert_exporter": "python",
   "pygments_lexer": "ipython3",
   "version": "3.11.7"
  }
 },
 "nbformat": 4,
 "nbformat_minor": 5
}
