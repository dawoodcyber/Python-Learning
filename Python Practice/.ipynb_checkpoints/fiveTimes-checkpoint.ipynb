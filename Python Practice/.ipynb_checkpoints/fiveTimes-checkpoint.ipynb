{
 "cells": [
  {
   "cell_type": "code",
   "execution_count": 9,
   "id": "08a928fd-171b-49ca-84ac-913ed001a381",
   "metadata": {},
   "outputs": [
    {
     "name": "stdout",
     "output_type": "stream",
     "text": [
      "My name is \n",
      "Dawood Shaikh (0)\n",
      "Dawood Shaikh (1)\n",
      "Dawood Shaikh (2)\n",
      "Dawood Shaikh (3)\n",
      "Dawood Shaikh (4)\n"
     ]
    }
   ],
   "source": [
    "print('My name is ')\n",
    "for i in range(5):\n",
    "    print('Dawood Shaikh (' + str(i)+')')"
   ]
  },
  {
   "cell_type": "code",
   "execution_count": null,
   "id": "6a510dd0-dc03-4573-aeda-7e09c5fb3ebd",
   "metadata": {},
   "outputs": [],
   "source": []
  }
 ],
 "metadata": {
  "kernelspec": {
   "display_name": "Python 3 (ipykernel)",
   "language": "python",
   "name": "python3"
  },
  "language_info": {
   "codemirror_mode": {
    "name": "ipython",
    "version": 3
   },
   "file_extension": ".py",
   "mimetype": "text/x-python",
   "name": "python",
   "nbconvert_exporter": "python",
   "pygments_lexer": "ipython3",
   "version": "3.11.7"
  }
 },
 "nbformat": 4,
 "nbformat_minor": 5
}
