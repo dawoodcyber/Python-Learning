{
 "cells": [
  {
   "cell_type": "code",
   "execution_count": 1,
   "id": "7f6e55d5-55f5-49bd-ad9b-2723bdd6e57d",
   "metadata": {},
   "outputs": [
    {
     "data": {
      "text/plain": [
       "['zoophie', 'zoophie', 'zoophie']"
      ]
     },
     "execution_count": 1,
     "metadata": {},
     "output_type": "execute_result"
    }
   ],
   "source": [
    "bacon = ['zoophie']\n",
    "bacon *=3\n",
    "bacon"
   ]
  },
  {
   "cell_type": "code",
   "execution_count": 2,
   "id": "ef5333f4-ee79-481d-a4a1-dcc805550f18",
   "metadata": {},
   "outputs": [
    {
     "data": {
      "text/plain": [
       "0"
      ]
     },
     "execution_count": 2,
     "metadata": {},
     "output_type": "execute_result"
    }
   ],
   "source": [
    "spam = ['hello', 'bye', 'hye']\n",
    "spam.index('hello')"
   ]
  },
  {
   "cell_type": "code",
   "execution_count": 3,
   "id": "bf76af0f-8006-4c7d-9904-d7d170903285",
   "metadata": {},
   "outputs": [
    {
     "ename": "ValueError",
     "evalue": "'hey' is not in list",
     "output_type": "error",
     "traceback": [
      "\u001b[1;31m---------------------------------------------------------------------------\u001b[0m",
      "\u001b[1;31mValueError\u001b[0m                                Traceback (most recent call last)",
      "Cell \u001b[1;32mIn[3], line 1\u001b[0m\n\u001b[1;32m----> 1\u001b[0m spam\u001b[38;5;241m.\u001b[39mindex(\u001b[38;5;124m'\u001b[39m\u001b[38;5;124mhey\u001b[39m\u001b[38;5;124m'\u001b[39m)\n",
      "\u001b[1;31mValueError\u001b[0m: 'hey' is not in list"
     ]
    }
   ],
   "source": [
    "spam.index('hey')"
   ]
  },
  {
   "cell_type": "code",
   "execution_count": 4,
   "id": "b0399d82-fb70-4204-ba04-4994d9ccd40a",
   "metadata": {},
   "outputs": [
    {
     "data": {
      "text/plain": [
       "2"
      ]
     },
     "execution_count": 4,
     "metadata": {},
     "output_type": "execute_result"
    }
   ],
   "source": [
    "spam.index('hye')"
   ]
  },
  {
   "cell_type": "code",
   "execution_count": 5,
   "id": "4cac4d49-4b05-4f78-92e2-692050066d91",
   "metadata": {},
   "outputs": [
    {
     "data": {
      "text/plain": [
       "0"
      ]
     },
     "execution_count": 5,
     "metadata": {},
     "output_type": "execute_result"
    }
   ],
   "source": [
    "spam = ['bye', 'hey','bye']\n",
    "spam.index('bye')"
   ]
  },
  {
   "cell_type": "code",
   "execution_count": null,
   "id": "3dd8d07e-ff07-4d56-81a6-173e56d341e8",
   "metadata": {},
   "outputs": [],
   "source": []
  }
 ],
 "metadata": {
  "kernelspec": {
   "display_name": "Python 3 (ipykernel)",
   "language": "python",
   "name": "python3"
  },
  "language_info": {
   "codemirror_mode": {
    "name": "ipython",
    "version": 3
   },
   "file_extension": ".py",
   "mimetype": "text/x-python",
   "name": "python",
   "nbconvert_exporter": "python",
   "pygments_lexer": "ipython3",
   "version": "3.11.7"
  }
 },
 "nbformat": 4,
 "nbformat_minor": 5
}
