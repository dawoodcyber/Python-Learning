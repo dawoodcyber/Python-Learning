{
 "cells": [
  {
   "cell_type": "code",
   "execution_count": null,
   "id": "a8a13eea-14a2-4698-a1ca-cd844aeae51f",
   "metadata": {},
   "outputs": [],
   "source": [
    "#findall()Method\n",
    "''' findall() returns all the matched matches in the string\n",
    "    in the form of list []\n",
    "    '''"
   ]
  },
  {
   "cell_type": "code",
   "execution_count": 6,
   "id": "fdb7ea40-330d-4a65-8d24-fbaefc3f536f",
   "metadata": {},
   "outputs": [
    {
     "name": "stdout",
     "output_type": "stream",
     "text": [
      "['0314-28485749', '0313-48219375']\n"
     ]
    }
   ],
   "source": [
    "import re \n",
    "phoneNumRegex = re.compile(r'\\d\\d\\d\\d-\\d\\d\\d\\d\\d\\d\\d\\d')\n",
    "mo = phoneNumRegex.findall('My personal num is 0314-28485749 and work is 0313-48219375')\n",
    "\n",
    "print(mo)"
   ]
  },
  {
   "cell_type": "code",
   "execution_count": 7,
   "id": "e8e015fb-1e9d-4836-a376-ba9e990e728b",
   "metadata": {},
   "outputs": [],
   "source": [
    "#If there are groups in the regular expression, then findall() will return \n",
    "#a list of tuples."
   ]
  },
  {
   "cell_type": "code",
   "execution_count": 8,
   "id": "8644e495-249b-44ff-a4dc-52ae2f9152ce",
   "metadata": {},
   "outputs": [
    {
     "name": "stdout",
     "output_type": "stream",
     "text": [
      "[('0314', '28485749'), ('0313', '48219375')]\n"
     ]
    }
   ],
   "source": [
    "phoneNumRegex = re.compile(r'(\\d\\d\\d\\d)-(\\d\\d\\d\\d\\d\\d\\d\\d)')# has groups\n",
    "mo = phoneNumRegex.findall('My personal num is 0314-28485749 and work is 0313-48219375')\n",
    "\n",
    "print(mo)"
   ]
  },
  {
   "cell_type": "code",
   "execution_count": null,
   "id": "359f3546-efb4-46c3-95d8-fc1e5153926b",
   "metadata": {},
   "outputs": [],
   "source": []
  },
  {
   "cell_type": "markdown",
   "id": "bff9ccea-ee1a-4ebf-9398-af18b4b04ffa",
   "metadata": {},
   "source": [
    "###Character Classes\n",
    "\n",
    "- \\d Any numeric digit from 0 to 9.\n",
    "- \\D Any character that is not a numeric digit from 0 to 9.\n",
    "- \\w Any letter, numeric digit, or the underscore character. \n",
    "    (Think of this as matching “word” characters.)\n",
    "- \\W Any character that is not a letter, numeric digit, or the \n",
    "    underscore character.\n",
    "- \\s Any space, tab, or newline character. (Think of this as \n",
    "    matching “space” characters.)\n",
    "- \\S Any character that is not a space, tab, or newline."
   ]
  },
  {
   "cell_type": "code",
   "execution_count": 12,
   "id": "1aca5b9a-790b-490c-9237-4bdf4e5edbf0",
   "metadata": {},
   "outputs": [
    {
     "name": "stdout",
     "output_type": "stream",
     "text": [
      "['12 bottles', '5 cans', '2 baskets', '8 forks', '10 spoons', '1 pot']\n"
     ]
    }
   ],
   "source": [
    "randomRegex = re.compile(r'\\d+\\s\\w+')\n",
    "mo = randomRegex.findall('12 bottles, 5 cans, 2 baskets, 8 forks, 10 spoons, 1 pot')\n",
    "\n",
    "print(mo)"
   ]
  },
  {
   "cell_type": "code",
   "execution_count": null,
   "id": "a4279082-ffc6-40e5-a5d6-d47a29aaf29a",
   "metadata": {},
   "outputs": [],
   "source": []
  },
  {
   "cell_type": "code",
   "execution_count": 16,
   "id": "f5f8bd86-6221-4700-9e74-cdf4a28e1b5b",
   "metadata": {},
   "outputs": [
    {
     "name": "stdout",
     "output_type": "stream",
     "text": [
      "['A', 'o', 'a', 'e', 'o', 'a', 'E', 'o', 'e', 'e', 'a']\n",
      "\n",
      "\n",
      "[' ', 'f', 'r', ' ', 'p', 'p', 'l', ',', ' ', 'B', ' ', 'f', 'r', ' ', 'B', 'l', 'l', ',', ' ', ' ', 'f', 'r', ' ', 'l', 'p', 'h', 'n', 't']\n"
     ]
    }
   ],
   "source": [
    "#Making your own Character Classess using []\n",
    "\n",
    "vowelRegex = re.compile(r'[aeiouAEIOU]')\n",
    "mo = vowelRegex.findall('A for apple, B for Ball, E for elephant')\n",
    "print(mo)\n",
    "\n",
    "print('\\n') #negative character class\n",
    "\n",
    "consonantRegex = re.compile(r'[^aeiouAEIOU]')\n",
    "mo = consonantRegex.findall('A for apple, B for Ball, E for elephant')\n",
    "print(mo)"
   ]
  },
  {
   "cell_type": "code",
   "execution_count": null,
   "id": "07d2ff96-e04b-4aba-8416-f2f26db1ab14",
   "metadata": {},
   "outputs": [],
   "source": []
  },
  {
   "cell_type": "markdown",
   "id": "b7b3dc5c-deca-4cb6-b23e-f2b40e3e6c3d",
   "metadata": {},
   "source": [
    "### The caret^  and Dollar$ sign character\n",
    "- Caret to match the beginning of the matched string\n",
    "- Dollar to match the end of the matched string"
   ]
  },
  {
   "cell_type": "code",
   "execution_count": 20,
   "id": "835d5d74-1c7f-4e3a-ab92-ef4fa5a22845",
   "metadata": {},
   "outputs": [
    {
     "name": "stdout",
     "output_type": "stream",
     "text": [
      "['Salam']\n"
     ]
    }
   ],
   "source": [
    "salamRegex = re.compile(r'^Salam')\n",
    "mo = salamRegex.findall('Salam is the best way to start the conversation, say Salam alaikum')\n",
    "print(mo) #only matches if it's starting from salam\n"
   ]
  },
  {
   "cell_type": "code",
   "execution_count": null,
   "id": "0f84c59f-1ee8-4223-b97f-b0d9e29a30a1",
   "metadata": {},
   "outputs": [],
   "source": []
  },
  {
   "cell_type": "code",
   "execution_count": 27,
   "id": "14600cd8-a866-4686-9f58-cb8cf76c6fb5",
   "metadata": {},
   "outputs": [
    {
     "name": "stdout",
     "output_type": "stream",
     "text": [
      "['bye']\n",
      "True\n"
     ]
    }
   ],
   "source": [
    "byeRegex = re.compile(r'bye$')\n",
    "mo = byeRegex.findall('ok, we\\'ll discuss about it tomorrow. bye')\n",
    "print(mo)\n",
    "\n",
    "mo1 = byeRegex.search('bye ')# ending with space not with bye\n",
    "print(mo1 == None)"
   ]
  },
  {
   "cell_type": "code",
   "execution_count": null,
   "id": "ab0452cb-1177-40ce-86c5-1b04bcd67a1e",
   "metadata": {},
   "outputs": [],
   "source": []
  },
  {
   "cell_type": "code",
   "execution_count": 28,
   "id": "9e6cd783-cc87-47a5-b1df-a32852491f17",
   "metadata": {},
   "outputs": [
    {
     "name": "stdout",
     "output_type": "stream",
     "text": [
      "['2']\n"
     ]
    }
   ],
   "source": [
    "endWithNumber = re.compile(r'\\d$')\n",
    "mo = endWithNumber.findall('Hello 42')\n",
    "print(mo)"
   ]
  },
  {
   "cell_type": "code",
   "execution_count": 36,
   "id": "d4f1754f-6d1e-4a1d-9c43-9b7ea9967693",
   "metadata": {},
   "outputs": [
    {
     "name": "stdout",
     "output_type": "stream",
     "text": [
      "[]\n",
      "['3579823495']\n",
      "True\n",
      "False\n",
      "True\n"
     ]
    }
   ],
   "source": [
    "wholeStringIsNum = re.compile(r'^\\d+$')\n",
    "mo = wholeStringIsNum.findall('Hello 42')\n",
    "print(mo)\n",
    "\n",
    "mo1 = wholeStringIsNum.findall('3579823495')\n",
    "print(mo1)\n",
    "\n",
    "\n",
    "print(wholeStringIsNum.search('2983429ilkfsjd294872') == None)\n",
    "\n",
    "print(wholeStringIsNum.search('587934') == None)\n",
    "\n",
    "print(wholeStringIsNum.search('lk09485ls') == None)\n"
   ]
  },
  {
   "cell_type": "code",
   "execution_count": null,
   "id": "0ae322fd-001d-4ddc-972a-8cc49a75e48c",
   "metadata": {},
   "outputs": [],
   "source": []
  },
  {
   "cell_type": "code",
   "execution_count": 41,
   "id": "89c1e8cd-7c84-46ce-b1e9-6322a2434d7a",
   "metadata": {},
   "outputs": [
    {
     "name": "stdout",
     "output_type": "stream",
     "text": [
      "['cat', 'mat', 'bat', 'hat', 'bat']\n"
     ]
    }
   ],
   "source": [
    "#The Wild Card Character\n",
    "''' The . (or dot) character in a regular expression is called a wildcard and will \n",
    "match any character except for a newline '''\n",
    "\n",
    "atRegex =re.compile(r'.at')\n",
    "mo = atRegex.findall('Big cat on mat sleeps and drinks milk of bat without hat it sbat')\n",
    "\n",
    "print(mo)\n"
   ]
  },
  {
   "cell_type": "code",
   "execution_count": null,
   "id": "963e2c4f-d4d0-4cbf-8711-0ef66d5116ec",
   "metadata": {},
   "outputs": [],
   "source": []
  },
  {
   "cell_type": "code",
   "execution_count": 43,
   "id": "dcb71154-c629-4338-ba81-94bb5194c111",
   "metadata": {},
   "outputs": [
    {
     "data": {
      "text/plain": [
       "[('Dawood', 'Shaikh')]"
      ]
     },
     "execution_count": 43,
     "metadata": {},
     "output_type": "execute_result"
    }
   ],
   "source": [
    "# Matching Everything with Dot-Star .*\n",
    "\n",
    "#Greedy\n",
    "nameRegex = re.compile(r'First Name: (.*) Last Name: (.*)')\n",
    "mo = nameRegex.findall('First Name: Dawood Last Name: Shaikh')\n",
    "mo"
   ]
  },
  {
   "cell_type": "code",
   "execution_count": 48,
   "id": "d540a46c-0845-44ec-980d-b13af762ec46",
   "metadata": {},
   "outputs": [
    {
     "name": "stdout",
     "output_type": "stream",
     "text": [
      "['<To serve man>']\n"
     ]
    },
    {
     "data": {
      "text/plain": [
       "['<To serve man> for dinner>']"
      ]
     },
     "execution_count": 48,
     "metadata": {},
     "output_type": "execute_result"
    }
   ],
   "source": [
    "#Nongreedy\n",
    "nameRegex = re.compile(r'<.*?>')\n",
    "mo = nameRegex.findall('<To serve man> for dinner>')\n",
    "print(mo)\n",
    "\n",
    "#Greedy\n",
    "\n",
    "nameRegex = re.compile(r'<.*>')\n",
    "mo = nameRegex.findall('<To serve man> for dinner>')\n",
    "mo"
   ]
  },
  {
   "cell_type": "code",
   "execution_count": null,
   "id": "e4e2d043-4937-4eb7-97a3-9ef5d12a6588",
   "metadata": {},
   "outputs": [],
   "source": []
  },
  {
   "cell_type": "code",
   "execution_count": 52,
   "id": "b4bc32a2-721e-48c1-b76e-98a2a2b39a37",
   "metadata": {},
   "outputs": [
    {
     "name": "stdout",
     "output_type": "stream",
     "text": [
      "['Hello my name is Dawood Shaikh', '']\n",
      "['Hello my name is Dawood Shaikh.\\nIt is my first day in college.', '']\n"
     ]
    }
   ],
   "source": [
    "#Matching Newlines with the Dot Character\n",
    "\n",
    "noNewlineRegex = re.compile('.*')\n",
    "mo = noNewlineRegex.findall('Hello my name is Dawood Shaikh')\n",
    "print(mo)\n",
    "\n",
    "newlineRegex = re.compile('.*', re.DOTALL)\n",
    "mo = newlineRegex.findall('Hello my name is Dawood Shaikh.\\nIt is my first day in college.')\n",
    "print(mo)"
   ]
  },
  {
   "cell_type": "code",
   "execution_count": null,
   "id": "a510254c-799e-4a61-bc30-74ff769e55e2",
   "metadata": {},
   "outputs": [],
   "source": []
  },
  {
   "cell_type": "code",
   "execution_count": 54,
   "id": "c7363a3e-6303-490b-9622-470fd4ba1254",
   "metadata": {},
   "outputs": [
    {
     "name": "stdout",
     "output_type": "stream",
     "text": [
      "['Dawood']\n",
      "['Dawood', 'dawood', 'dawOoD']\n"
     ]
    }
   ],
   "source": [
    "# CaseInsensitive Matching\n",
    "\n",
    "specificCaseRegex = re.compile(r'Dawood')\n",
    "mo = specificCaseRegex.findall('Dawood is a good student, dawood is a young boy, dawOoD plays soccer')\n",
    "print(mo)\n",
    "\n",
    "anyCaseRegex = re.compile(r'Dawood', re.IGNORECASE)\n",
    "mo = anyCaseRegex.findall('Dawood is a good student, dawood is a young boy, dawOoD plays soccer')\n",
    "print(mo)"
   ]
  },
  {
   "cell_type": "code",
   "execution_count": null,
   "id": "e8ce04af-7294-4eb0-bd92-f4f9c16d6178",
   "metadata": {},
   "outputs": [],
   "source": []
  },
  {
   "cell_type": "code",
   "execution_count": 61,
   "id": "fea73ea0-6e7d-4030-ba39-0fd351e7bd96",
   "metadata": {},
   "outputs": [
    {
     "name": "stdout",
     "output_type": "stream",
     "text": [
      "Hey *** did you meet *** ?\n",
      "Hey D*** did you meet A*** ?\n"
     ]
    }
   ],
   "source": [
    "\n",
    "\n",
    "#Substituting Strings with the sub() Method\n",
    "\n",
    "secretAgentRegex = re.compile(r'Agent \\w+')\n",
    "mo = secretAgentRegex.sub('***','Hey Agent Dawood did you meet Agent Alice ?')\n",
    "print(mo)\n",
    "\n",
    "secretAgentRegex = re.compile(r'Agent (\\w)\\w+')\n",
    "mo = secretAgentRegex.sub(r'\\1***','Hey Agent Dawood did you meet Agent Alice ?')\n",
    "print(mo)"
   ]
  },
  {
   "cell_type": "code",
   "execution_count": null,
   "id": "60bd3e89-e8d4-4511-9c2a-cc165a05a759",
   "metadata": {},
   "outputs": [],
   "source": []
  }
 ],
 "metadata": {
  "kernelspec": {
   "display_name": "Python 3 (ipykernel)",
   "language": "python",
   "name": "python3"
  },
  "language_info": {
   "codemirror_mode": {
    "name": "ipython",
    "version": 3
   },
   "file_extension": ".py",
   "mimetype": "text/x-python",
   "name": "python",
   "nbconvert_exporter": "python",
   "pygments_lexer": "ipython3",
   "version": "3.11.7"
  }
 },
 "nbformat": 4,
 "nbformat_minor": 5
}
