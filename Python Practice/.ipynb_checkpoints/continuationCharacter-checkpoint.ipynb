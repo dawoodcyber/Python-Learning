{
 "cells": [
  {
   "cell_type": "code",
   "execution_count": 5,
   "id": "df132511-8848-4c74-ac54-4144d45fbe19",
   "metadata": {},
   "outputs": [
    {
     "name": "stdout",
     "output_type": "stream",
     "text": [
      "my name is dawood shaikhali mola\n"
     ]
    }
   ],
   "source": [
    "print('my name is ' +\n",
    "      \n",
    "      'dawood shaikh'\\\n",
    "     'ali mola')"
   ]
  },
  {
   "cell_type": "code",
   "execution_count": 13,
   "id": "c1704c5b-2658-4b57-a1fa-85986d963df3",
   "metadata": {},
   "outputs": [
    {
     "name": "stdout",
     "output_type": "stream",
     "text": [
      "dog,bat,cat,fish\n"
     ]
    }
   ],
   "source": [
    "print('dog', 'bat', 'cat'\\\n",
    "     ,'fish', sep=',')"
   ]
  },
  {
   "cell_type": "code",
   "execution_count": null,
   "id": "180b3d30-633a-4ff7-94f4-cfeb00aa9aa4",
   "metadata": {},
   "outputs": [],
   "source": []
  }
 ],
 "metadata": {
  "kernelspec": {
   "display_name": "Python 3 (ipykernel)",
   "language": "python",
   "name": "python3"
  },
  "language_info": {
   "codemirror_mode": {
    "name": "ipython",
    "version": 3
   },
   "file_extension": ".py",
   "mimetype": "text/x-python",
   "name": "python",
   "nbconvert_exporter": "python",
   "pygments_lexer": "ipython3",
   "version": "3.11.7"
  }
 },
 "nbformat": 4,
 "nbformat_minor": 5
}
