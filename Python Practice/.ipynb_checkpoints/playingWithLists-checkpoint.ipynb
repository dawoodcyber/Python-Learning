{
 "cells": [
  {
   "cell_type": "code",
   "execution_count": 1,
   "id": "fbdda2c7-11b3-4256-b395-bd99769801d1",
   "metadata": {},
   "outputs": [
    {
     "data": {
      "text/plain": [
       "[1, 2, 3]"
      ]
     },
     "execution_count": 1,
     "metadata": {},
     "output_type": "execute_result"
    }
   ],
   "source": [
    "[1,2,3,]"
   ]
  },
  {
   "cell_type": "code",
   "execution_count": 2,
   "id": "53648d37-fe68-4455-b54b-5d8be3d994e8",
   "metadata": {},
   "outputs": [
    {
     "data": {
      "text/plain": [
       "['cat', 'bat', 'rat', 'elephant']"
      ]
     },
     "execution_count": 2,
     "metadata": {},
     "output_type": "execute_result"
    }
   ],
   "source": [
    "['cat','bat','rat','elephant']"
   ]
  },
  {
   "cell_type": "code",
   "execution_count": 3,
   "id": "e67df86e-9f80-4703-954c-26b57eed5d74",
   "metadata": {},
   "outputs": [
    {
     "data": {
      "text/plain": [
       "['hello', 123, None, True, 4.9]"
      ]
     },
     "execution_count": 3,
     "metadata": {},
     "output_type": "execute_result"
    }
   ],
   "source": [
    "['hello', 123,None, True, 4.9]"
   ]
  },
  {
   "cell_type": "code",
   "execution_count": 6,
   "id": "2bc389ab-4adf-475d-a8d6-3c5ab2563516",
   "metadata": {},
   "outputs": [
    {
     "data": {
      "text/plain": [
       "['cat', 'rat', 'bat', 'elephant']"
      ]
     },
     "execution_count": 6,
     "metadata": {},
     "output_type": "execute_result"
    }
   ],
   "source": [
    "spam  =  ['cat','rat','bat','elephant']\n",
    "spam"
   ]
  },
  {
   "cell_type": "code",
   "execution_count": 7,
   "id": "7793e7aa-b5ed-4f51-afd5-379e31d0ed95",
   "metadata": {},
   "outputs": [
    {
     "data": {
      "text/plain": [
       "'cat'"
      ]
     },
     "execution_count": 7,
     "metadata": {},
     "output_type": "execute_result"
    }
   ],
   "source": [
    "spam[0]"
   ]
  },
  {
   "cell_type": "code",
   "execution_count": 8,
   "id": "8a2ded6f-2d9f-4718-92a4-84ce08550b5c",
   "metadata": {},
   "outputs": [
    {
     "data": {
      "text/plain": [
       "'elephant'"
      ]
     },
     "execution_count": 8,
     "metadata": {},
     "output_type": "execute_result"
    }
   ],
   "source": [
    "spam[3]"
   ]
  },
  {
   "cell_type": "code",
   "execution_count": 9,
   "id": "f70c7788-eeb6-4a0e-a0ad-3df8081d3bff",
   "metadata": {},
   "outputs": [
    {
     "data": {
      "text/plain": [
       "'elephant'"
      ]
     },
     "execution_count": 9,
     "metadata": {},
     "output_type": "execute_result"
    }
   ],
   "source": [
    "['cat','bat','rat','elephant'][3]"
   ]
  },
  {
   "cell_type": "code",
   "execution_count": 10,
   "id": "6bd1a405-bf55-4af0-afca-8944763aa980",
   "metadata": {},
   "outputs": [
    {
     "data": {
      "text/plain": [
       "'rat'"
      ]
     },
     "execution_count": 10,
     "metadata": {},
     "output_type": "execute_result"
    }
   ],
   "source": [
    "['cat','bat','rat','elephant'][2]"
   ]
  },
  {
   "cell_type": "code",
   "execution_count": 11,
   "id": "e46a4d30-3147-4975-b794-dbfe93554246",
   "metadata": {},
   "outputs": [
    {
     "data": {
      "text/plain": [
       "'Helloelephant'"
      ]
     },
     "execution_count": 11,
     "metadata": {},
     "output_type": "execute_result"
    }
   ],
   "source": [
    "'Hello' + spam[3]"
   ]
  },
  {
   "cell_type": "code",
   "execution_count": 12,
   "id": "ef70e53a-52ed-40e0-a878-6d72a4170179",
   "metadata": {},
   "outputs": [
    {
     "data": {
      "text/plain": [
       "['cat', 'rat', 'bat', 'elephant']"
      ]
     },
     "execution_count": 12,
     "metadata": {},
     "output_type": "execute_result"
    }
   ],
   "source": [
    "spam"
   ]
  },
  {
   "cell_type": "code",
   "execution_count": 14,
   "id": "508def19-fdf1-43be-bef6-f4cb6d6d02b4",
   "metadata": {},
   "outputs": [
    {
     "ename": "IndexError",
     "evalue": "list index out of range",
     "output_type": "error",
     "traceback": [
      "\u001b[1;31m---------------------------------------------------------------------------\u001b[0m",
      "\u001b[1;31mIndexError\u001b[0m                                Traceback (most recent call last)",
      "Cell \u001b[1;32mIn[14], line 1\u001b[0m\n\u001b[1;32m----> 1\u001b[0m spam[\u001b[38;5;241m10\u001b[39m]\n",
      "\u001b[1;31mIndexError\u001b[0m: list index out of range"
     ]
    }
   ],
   "source": [
    "spam[10]"
   ]
  },
  {
   "cell_type": "code",
   "execution_count": 15,
   "id": "20b4ad52-c270-464d-b96a-c365cdc8dc98",
   "metadata": {},
   "outputs": [
    {
     "data": {
      "text/plain": [
       "'elephant'"
      ]
     },
     "execution_count": 15,
     "metadata": {},
     "output_type": "execute_result"
    }
   ],
   "source": [
    "spam[3]"
   ]
  },
  {
   "cell_type": "code",
   "execution_count": 16,
   "id": "9b189a25-b2b9-4022-beb6-a79046ae9db1",
   "metadata": {},
   "outputs": [
    {
     "ename": "TypeError",
     "evalue": "list indices must be integers or slices, not float",
     "output_type": "error",
     "traceback": [
      "\u001b[1;31m---------------------------------------------------------------------------\u001b[0m",
      "\u001b[1;31mTypeError\u001b[0m                                 Traceback (most recent call last)",
      "Cell \u001b[1;32mIn[16], line 1\u001b[0m\n\u001b[1;32m----> 1\u001b[0m spam[\u001b[38;5;241m3.0\u001b[39m]\n",
      "\u001b[1;31mTypeError\u001b[0m: list indices must be integers or slices, not float"
     ]
    }
   ],
   "source": [
    "spam[3.0]"
   ]
  },
  {
   "cell_type": "code",
   "execution_count": 17,
   "id": "09d2a29c-93dd-4f4a-a495-ca94d75f86f5",
   "metadata": {},
   "outputs": [
    {
     "data": {
      "text/plain": [
       "'elephant'"
      ]
     },
     "execution_count": 17,
     "metadata": {},
     "output_type": "execute_result"
    }
   ],
   "source": [
    "spam[int(3.0)]"
   ]
  },
  {
   "cell_type": "code",
   "execution_count": 20,
   "id": "58a6648e-ae3a-4787-8b52-87521427993e",
   "metadata": {},
   "outputs": [
    {
     "data": {
      "text/plain": [
       "[['cat', 'bat'], [10, 20, 30, 40, 50]]"
      ]
     },
     "execution_count": 20,
     "metadata": {},
     "output_type": "execute_result"
    }
   ],
   "source": [
    " spam = [['cat', 'bat'], [10, 20, 30, 40, 50]]\n",
    "spam\n"
   ]
  },
  {
   "cell_type": "code",
   "execution_count": 21,
   "id": "5ac02076-5b74-41ba-a631-e4aa3b3ea170",
   "metadata": {},
   "outputs": [
    {
     "data": {
      "text/plain": [
       "'cat'"
      ]
     },
     "execution_count": 21,
     "metadata": {},
     "output_type": "execute_result"
    }
   ],
   "source": [
    "spam[0][0]"
   ]
  },
  {
   "cell_type": "code",
   "execution_count": 22,
   "id": "61333575-6ad0-4f09-8bea-3fddb98f7ef0",
   "metadata": {},
   "outputs": [
    {
     "data": {
      "text/plain": [
       "30"
      ]
     },
     "execution_count": 22,
     "metadata": {},
     "output_type": "execute_result"
    }
   ],
   "source": [
    "spam[1][2]"
   ]
  },
  {
   "cell_type": "code",
   "execution_count": 24,
   "id": "746f01fe-7702-49f4-a4c9-86d768438516",
   "metadata": {},
   "outputs": [
    {
     "data": {
      "text/plain": [
       "['cat', 'bat', 'rat', 'elephant']"
      ]
     },
     "execution_count": 24,
     "metadata": {},
     "output_type": "execute_result"
    }
   ],
   "source": [
    "spam = ['cat', 'bat', 'rat', 'elephant']\n",
    "spam"
   ]
  },
  {
   "cell_type": "code",
   "execution_count": 25,
   "id": "00334cea-7ee8-46f9-ba61-1444789733a9",
   "metadata": {},
   "outputs": [
    {
     "data": {
      "text/plain": [
       "'elephant'"
      ]
     },
     "execution_count": 25,
     "metadata": {},
     "output_type": "execute_result"
    }
   ],
   "source": [
    "spam[-1]"
   ]
  },
  {
   "cell_type": "code",
   "execution_count": 27,
   "id": "142e575f-0620-4031-b8c0-b6d108e35822",
   "metadata": {},
   "outputs": [
    {
     "data": {
      "text/plain": [
       "'cat'"
      ]
     },
     "execution_count": 27,
     "metadata": {},
     "output_type": "execute_result"
    }
   ],
   "source": [
    "spam[-4]"
   ]
  },
  {
   "cell_type": "code",
   "execution_count": 28,
   "id": "2d7a21a1-3998-417a-acd4-9aabc43e336b",
   "metadata": {},
   "outputs": [
    {
     "data": {
      "text/plain": [
       "['cat', 'bat', 'rat', 'elephant']"
      ]
     },
     "execution_count": 28,
     "metadata": {},
     "output_type": "execute_result"
    }
   ],
   "source": [
    "spam"
   ]
  },
  {
   "cell_type": "code",
   "execution_count": 29,
   "id": "63903a41-0273-475d-900b-3619dfc12c75",
   "metadata": {},
   "outputs": [
    {
     "data": {
      "text/plain": [
       "['cat', 'bat', 'rat', 'elephant']"
      ]
     },
     "execution_count": 29,
     "metadata": {},
     "output_type": "execute_result"
    }
   ],
   "source": [
    "spam[:]"
   ]
  },
  {
   "cell_type": "code",
   "execution_count": 30,
   "id": "52393722-841f-4c25-88cb-6e919d0407b2",
   "metadata": {},
   "outputs": [
    {
     "data": {
      "text/plain": [
       "['cat', 'bat', 'rat', 'elephant']"
      ]
     },
     "execution_count": 30,
     "metadata": {},
     "output_type": "execute_result"
    }
   ],
   "source": [
    "spam[0:]"
   ]
  },
  {
   "cell_type": "code",
   "execution_count": 31,
   "id": "49f4e7b3-8907-455a-87fc-4b29158c859c",
   "metadata": {},
   "outputs": [
    {
     "data": {
      "text/plain": [
       "[]"
      ]
     },
     "execution_count": 31,
     "metadata": {},
     "output_type": "execute_result"
    }
   ],
   "source": [
    "spam[:0]"
   ]
  },
  {
   "cell_type": "code",
   "execution_count": 32,
   "id": "d837208d-b41b-4fcc-8fca-4d1e771a5c77",
   "metadata": {},
   "outputs": [
    {
     "data": {
      "text/plain": [
       "['cat', 'bat', 'rat']"
      ]
     },
     "execution_count": 32,
     "metadata": {},
     "output_type": "execute_result"
    }
   ],
   "source": [
    "spam[:3]"
   ]
  },
  {
   "cell_type": "code",
   "execution_count": 33,
   "id": "5524b968-0dbc-4821-9ce4-94858b407a61",
   "metadata": {},
   "outputs": [
    {
     "data": {
      "text/plain": [
       "['rat']"
      ]
     },
     "execution_count": 33,
     "metadata": {},
     "output_type": "execute_result"
    }
   ],
   "source": [
    "spam[2:3]"
   ]
  },
  {
   "cell_type": "code",
   "execution_count": 34,
   "id": "3c310e21-4e27-4eb1-b41d-ebd38ef5b464",
   "metadata": {},
   "outputs": [
    {
     "data": {
      "text/plain": [
       "['cat', 'bat', 'rat']"
      ]
     },
     "execution_count": 34,
     "metadata": {},
     "output_type": "execute_result"
    }
   ],
   "source": [
    "spam[0:-1]"
   ]
  },
  {
   "cell_type": "code",
   "execution_count": 35,
   "id": "32c2df62-4ab7-472a-8d07-4af5c4081d1e",
   "metadata": {},
   "outputs": [
    {
     "data": {
      "text/plain": [
       "['cat', 'bat', 'rat', 'elephant']"
      ]
     },
     "execution_count": 35,
     "metadata": {},
     "output_type": "execute_result"
    }
   ],
   "source": [
    "spam"
   ]
  },
  {
   "cell_type": "code",
   "execution_count": 36,
   "id": "244c0d1a-cc55-4f99-bc48-bc41b4843fd0",
   "metadata": {},
   "outputs": [
    {
     "data": {
      "text/plain": [
       "4"
      ]
     },
     "execution_count": 36,
     "metadata": {},
     "output_type": "execute_result"
    }
   ],
   "source": [
    "len(spam)"
   ]
  },
  {
   "cell_type": "code",
   "execution_count": 37,
   "id": "9260ee1f-6c99-4309-a050-bd5d4643468b",
   "metadata": {},
   "outputs": [
    {
     "data": {
      "text/plain": [
       "['cat', 'bat', 'rat', 'elephant']"
      ]
     },
     "execution_count": 37,
     "metadata": {},
     "output_type": "execute_result"
    }
   ],
   "source": [
    "spam"
   ]
  },
  {
   "cell_type": "code",
   "execution_count": 38,
   "id": "b70794b5-6197-45c7-98b6-173c37dee9c6",
   "metadata": {},
   "outputs": [
    {
     "data": {
      "text/plain": [
       "['dog', 'bat', 'rat', 'elephant']"
      ]
     },
     "execution_count": 38,
     "metadata": {},
     "output_type": "execute_result"
    }
   ],
   "source": [
    "spam[0]='dog'\n",
    "spam"
   ]
  },
  {
   "cell_type": "code",
   "execution_count": 39,
   "id": "be0ec060-60ef-4460-b22d-0d33b3bd1673",
   "metadata": {},
   "outputs": [
    {
     "data": {
      "text/plain": [
       "['dog', 'dog', 'rat', 'elephant']"
      ]
     },
     "execution_count": 39,
     "metadata": {},
     "output_type": "execute_result"
    }
   ],
   "source": [
    "spam[1]=spam[0]\n",
    "spam"
   ]
  },
  {
   "cell_type": "code",
   "execution_count": 40,
   "id": "22738347-9649-4779-beb9-7b1c1abfa070",
   "metadata": {},
   "outputs": [
    {
     "data": {
      "text/plain": [
       "[1, 2, 3, 'a', 'b', 'c']"
      ]
     },
     "execution_count": 40,
     "metadata": {},
     "output_type": "execute_result"
    }
   ],
   "source": [
    "[1,2,3]+['a','b','c']"
   ]
  },
  {
   "cell_type": "code",
   "execution_count": 41,
   "id": "01fe9c5e-41ff-4609-b1f1-0c1b4624476f",
   "metadata": {},
   "outputs": [
    {
     "data": {
      "text/plain": [
       "[1, 2, 3, 'a', 'b', 'c']"
      ]
     },
     "execution_count": 41,
     "metadata": {},
     "output_type": "execute_result"
    }
   ],
   "source": [
    "spam=[1,2,3]\n",
    "spam +=['a','b','c']\n",
    "spam"
   ]
  },
  {
   "cell_type": "code",
   "execution_count": 42,
   "id": "77aff81c-6aaa-45cd-9f57-e556d9ffed22",
   "metadata": {},
   "outputs": [
    {
     "data": {
      "text/plain": [
       "[1, 2, 3, 'a', 'b', 'c']"
      ]
     },
     "execution_count": 42,
     "metadata": {},
     "output_type": "execute_result"
    }
   ],
   "source": [
    "spam"
   ]
  },
  {
   "cell_type": "code",
   "execution_count": 43,
   "id": "8d1b7dcd-040d-4453-be01-125a5326eda5",
   "metadata": {},
   "outputs": [],
   "source": [
    "del spam"
   ]
  },
  {
   "cell_type": "code",
   "execution_count": 46,
   "id": "92ce7a7a-4a20-4077-94a3-baf7f3334e1d",
   "metadata": {},
   "outputs": [
    {
     "data": {
      "text/plain": [
       "[1, 2, 3, 'a', 'b', 'c']"
      ]
     },
     "execution_count": 46,
     "metadata": {},
     "output_type": "execute_result"
    }
   ],
   "source": [
    "spam = [1, 2, 3, 'a', 'b', 'c']\n",
    "spam"
   ]
  },
  {
   "cell_type": "code",
   "execution_count": 48,
   "id": "8e9cb4a6-8fb0-464e-ae6e-43eabb4e8cde",
   "metadata": {},
   "outputs": [],
   "source": [
    "del spam[0]\n"
   ]
  },
  {
   "cell_type": "code",
   "execution_count": 49,
   "id": "9f9b89f6-4cd1-4ea5-87f7-e91fd53f5e98",
   "metadata": {},
   "outputs": [
    {
     "data": {
      "text/plain": [
       "[3, 'a', 'b', 'c']"
      ]
     },
     "execution_count": 49,
     "metadata": {},
     "output_type": "execute_result"
    }
   ],
   "source": [
    "spam"
   ]
  },
  {
   "cell_type": "code",
   "execution_count": null,
   "id": "d533f194-d54e-413c-909b-257f18812d3c",
   "metadata": {},
   "outputs": [],
   "source": []
  }
 ],
 "metadata": {
  "kernelspec": {
   "display_name": "Python 3 (ipykernel)",
   "language": "python",
   "name": "python3"
  },
  "language_info": {
   "codemirror_mode": {
    "name": "ipython",
    "version": 3
   },
   "file_extension": ".py",
   "mimetype": "text/x-python",
   "name": "python",
   "nbconvert_exporter": "python",
   "pygments_lexer": "ipython3",
   "version": "3.11.7"
  }
 },
 "nbformat": 4,
 "nbformat_minor": 5
}
