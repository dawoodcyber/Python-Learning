{
 "cells": [
  {
   "cell_type": "code",
   "execution_count": null,
   "id": "8ab28104-26ff-4695-97fd-3dea370f7216",
   "metadata": {},
   "outputs": [],
   "source": [
    "#Insecure password manager\n",
    "#! python3\n",
    "import sys, pyperclip\n",
    "\n",
    "PASSWORDS = {'email':'myemailpassw@rd',\n",
    "             'blog':'mybl0gpassw@rd',\n",
    "             'facebook':'myFBpassw@rd',\n",
    "             'instagram':'myinstApassw@rd'}\n",
    "if len(sys.argv)<2:\n",
    "    print('Usage: pw.py [account] - copy account password')\n",
    "    sys.exit()\n",
    "\n",
    "account = sys.argv[1] # first command line argve is the account name\n",
    "\n",
    "if account in PASSWORDS:\n",
    "    pyperclip.copy(PASSWORDS[account])\n",
    "    print('Account '+[account]+' has successfully been copied to clipboard')\n",
    "\n",
    "else:\n",
    "    print('Account named '+[account]+' doesn\\'t exist')"
   ]
  },
  {
   "cell_type": "code",
   "execution_count": null,
   "id": "88d61424-b240-4b70-bb0f-f34157e6d018",
   "metadata": {},
   "outputs": [],
   "source": [
    "# .bat file\n",
    "@echo off\n",
    "python path\\toyour\\file %*\n",
    "#must add it to environment variables\n",
    "#Now run it through the command WIN+R, type the file name then the account name"
   ]
  }
 ],
 "metadata": {
  "kernelspec": {
   "display_name": "Python 3 (ipykernel)",
   "language": "python",
   "name": "python3"
  },
  "language_info": {
   "codemirror_mode": {
    "name": "ipython",
    "version": 3
   },
   "file_extension": ".py",
   "mimetype": "text/x-python",
   "name": "python",
   "nbconvert_exporter": "python",
   "pygments_lexer": "ipython3",
   "version": "3.11.7"
  }
 },
 "nbformat": 4,
 "nbformat_minor": 5
}
