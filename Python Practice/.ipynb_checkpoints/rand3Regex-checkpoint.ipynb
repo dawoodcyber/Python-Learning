{
 "cells": [
  {
   "cell_type": "code",
   "execution_count": 3,
   "id": "32493fd0-dcd4-4da7-8fdb-ce16ec57214f",
   "metadata": {},
   "outputs": [],
   "source": [
    "#using re.VERBOSE to make our regexes readable\n",
    "import re\n",
    "#undreadable\n",
    "phoneRegex = re.compile(r'((\\d{3}|\\(\\d{3}\\))?(\\s|-|\\.)?\\d{3}(\\s|-|\\.)\\d{4}(\\s*(ext|x|ext.)\\s*\\d{2,5})?)')\n",
    "\n",
    "#readable\n",
    "phoneRegex = re.compile(r'''(\n",
    "                             (\\d{3}|\\(\\d{3}\\))?           # area code\n",
    "                             (\\s|-|\\.)?                   # separator\n",
    "                             \\d{3}                        # first 3 digits\n",
    "                             (\\s|-|\\.)                    # separator\n",
    "                             \\d{4}                        # last 4 digits\n",
    "                             (\\s*(ext|x|ext.)\\s*\\d{2,5})? # extension\n",
    "                         )''', re.VERBOSE)\n",
    "\n"
   ]
  },
  {
   "cell_type": "code",
   "execution_count": null,
   "id": "0cb3e297-0f27-497d-ba2c-2e901ab9bcf6",
   "metadata": {},
   "outputs": [],
   "source": []
  },
  {
   "cell_type": "code",
   "execution_count": 4,
   "id": "2a66b0e0-00e3-4e1e-a275-649f81db361e",
   "metadata": {},
   "outputs": [
    {
     "data": {
      "text/plain": [
       "['foO', 'FOO', 'foo', 'fOo']"
      ]
     },
     "execution_count": 4,
     "metadata": {},
     "output_type": "execute_result"
    }
   ],
   "source": [
    "#Combining re.IGNORECASE, re.DOTALL, and re.VERBOSE using\n",
    "# bitwise | or operator\n",
    "\n",
    "someRegexValue = re.compile('foo', re.IGNORECASE | re.DOTALL | re.VERBOSE)\n",
    "mo = someRegexValue.findall('foO is FOO and foo\\\n",
    "                                is fOo')\n",
    "mo"
   ]
  },
  {
   "cell_type": "code",
   "execution_count": null,
   "id": "543b0f52-1096-44eb-a14e-8a0297cbc5e1",
   "metadata": {},
   "outputs": [],
   "source": []
  }
 ],
 "metadata": {
  "kernelspec": {
   "display_name": "Python 3 (ipykernel)",
   "language": "python",
   "name": "python3"
  },
  "language_info": {
   "codemirror_mode": {
    "name": "ipython",
    "version": 3
   },
   "file_extension": ".py",
   "mimetype": "text/x-python",
   "name": "python",
   "nbconvert_exporter": "python",
   "pygments_lexer": "ipython3",
   "version": "3.11.7"
  }
 },
 "nbformat": 4,
 "nbformat_minor": 5
}
