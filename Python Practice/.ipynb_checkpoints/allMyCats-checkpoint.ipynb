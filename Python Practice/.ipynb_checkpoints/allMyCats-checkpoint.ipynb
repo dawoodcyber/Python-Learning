{
 "cells": [
  {
   "cell_type": "code",
   "execution_count": 9,
   "id": "b116e6d7-be8a-4af5-97ca-13f01e199dd7",
   "metadata": {},
   "outputs": [
    {
     "name": "stdout",
     "output_type": "stream",
     "text": [
      "Enter the name of cat 1  (Or enter nothing to stop)\n"
     ]
    },
    {
     "name": "stdin",
     "output_type": "stream",
     "text": [
      " Pooka\n"
     ]
    },
    {
     "name": "stdout",
     "output_type": "stream",
     "text": [
      "Enter the name of cat 2  (Or enter nothing to stop)\n"
     ]
    },
    {
     "name": "stdin",
     "output_type": "stream",
     "text": [
      " Zoophie\n"
     ]
    },
    {
     "name": "stdout",
     "output_type": "stream",
     "text": [
      "Enter the name of cat 3  (Or enter nothing to stop)\n"
     ]
    },
    {
     "name": "stdin",
     "output_type": "stream",
     "text": [
      " Zikri\n"
     ]
    },
    {
     "name": "stdout",
     "output_type": "stream",
     "text": [
      "Enter the name of cat 4  (Or enter nothing to stop)\n"
     ]
    },
    {
     "name": "stdin",
     "output_type": "stream",
     "text": [
      " Motis\n"
     ]
    },
    {
     "name": "stdout",
     "output_type": "stream",
     "text": [
      "Enter the name of cat 5  (Or enter nothing to stop)\n"
     ]
    },
    {
     "name": "stdin",
     "output_type": "stream",
     "text": [
      " Belog\n"
     ]
    },
    {
     "name": "stdout",
     "output_type": "stream",
     "text": [
      "Enter the name of cat 6  (Or enter nothing to stop)\n"
     ]
    },
    {
     "name": "stdin",
     "output_type": "stream",
     "text": [
      " Zafiri\n"
     ]
    },
    {
     "name": "stdout",
     "output_type": "stream",
     "text": [
      "Enter the name of cat 7  (Or enter nothing to stop)\n"
     ]
    },
    {
     "name": "stdin",
     "output_type": "stream",
     "text": [
      " \n"
     ]
    },
    {
     "name": "stdout",
     "output_type": "stream",
     "text": [
      "The cat names are:\n",
      "Pooka\n",
      "Zoophie\n",
      "Zikri\n",
      "Motis\n",
      "Belog\n",
      "Zafiri\n"
     ]
    }
   ],
   "source": [
    "cats=[]\n",
    "i=0\n",
    "while True:\n",
    "    print('Enter the name of cat '+str(len(cats)+1)+'  (Or enter nothing to stop)')\n",
    "    name = input()\n",
    "    if name == '':\n",
    "        break\n",
    "    else:\n",
    "        cats = cats + [name]\n",
    "\n",
    "print('The cat names are:')\n",
    "\n",
    "for cat in cats:\n",
    "    print(cat)"
   ]
  },
  {
   "cell_type": "code",
   "execution_count": null,
   "id": "2e6960c4-b591-44bc-821b-3863061e8074",
   "metadata": {},
   "outputs": [],
   "source": []
  }
 ],
 "metadata": {
  "kernelspec": {
   "display_name": "Python 3 (ipykernel)",
   "language": "python",
   "name": "python3"
  },
  "language_info": {
   "codemirror_mode": {
    "name": "ipython",
    "version": 3
   },
   "file_extension": ".py",
   "mimetype": "text/x-python",
   "name": "python",
   "nbconvert_exporter": "python",
   "pygments_lexer": "ipython3",
   "version": "3.11.7"
  }
 },
 "nbformat": 4,
 "nbformat_minor": 5
}
