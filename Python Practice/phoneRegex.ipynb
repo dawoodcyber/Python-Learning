{
 "cells": [
  {
   "cell_type": "code",
   "execution_count": 11,
   "id": "ea3c8a3e-1da1-4b72-b670-8baccb937f81",
   "metadata": {},
   "outputs": [
    {
     "name": "stdout",
     "output_type": "stream",
     "text": [
      "<class 're.Match'>\n",
      "Number using search() function  0301-2333748\n",
      "Number using findall() function  ['0321-2103948']\n"
     ]
    }
   ],
   "source": [
    "import re\n",
    "phoneRegex = re.compile('\\d\\d\\d\\d-\\d\\d\\d\\d\\d\\d\\d')\n",
    "number = phoneRegex.search('My number is 0301-2333748')\n",
    "\n",
    "number1 = phoneRegex.findall('My number is 0321-2103948')\n",
    "\n",
    "\n",
    "\n",
    "print('Number using search() function ',number.group()) #return just the re.matched \n",
    "\n",
    "print('Number using findall() function ',number1) #returns matched in a list"
   ]
  },
  {
   "cell_type": "code",
   "execution_count": null,
   "id": "45caa149-4b5b-496d-9c4d-06a7d6ce2e94",
   "metadata": {},
   "outputs": [],
   "source": []
  },
  {
   "cell_type": "code",
   "execution_count": 17,
   "id": "47c7de57-71b3-44cc-86ca-91d0685bd587",
   "metadata": {},
   "outputs": [
    {
     "name": "stdout",
     "output_type": "stream",
     "text": [
      "0328-83998274\n",
      "('0328', '83998274')\n",
      "0328-83998274\n",
      "0328\n",
      "83998274\n"
     ]
    }
   ],
   "source": [
    "#grouping with parenthesis\n",
    "\n",
    "phoneNumRegex = re.compile(r'(\\d\\d\\d\\d)-(\\d\\d\\d\\d\\d\\d\\d\\d)')\n",
    "\n",
    "num1 = phoneNumRegex.search('My number is 0328-83998274')\n",
    "print(num1.group())\n",
    "print(num1.groups())\n",
    "print(num1.group(0))\n",
    "print(num1.group(1))\n",
    "print(num1.group(2))\n",
    "# print(num1.group(3)) # error no such group"
   ]
  },
  {
   "cell_type": "code",
   "execution_count": null,
   "id": "44e7d87c-ee22-4a60-8171-23731b990190",
   "metadata": {},
   "outputs": [],
   "source": []
  },
  {
   "cell_type": "code",
   "execution_count": 22,
   "id": "08df162d-25aa-4417-a270-c1ed97c13f4c",
   "metadata": {},
   "outputs": [
    {
     "name": "stdout",
     "output_type": "stream",
     "text": [
      "0328\n",
      "83998274\n"
     ]
    }
   ],
   "source": [
    "areaCode, mainNumber = num1.group(1), num1.group(2) #same\n",
    "areaCode, mainNumber = num1.groups() #same\n",
    "print(areaCode)\n",
    "print(mainNumber)"
   ]
  },
  {
   "cell_type": "code",
   "execution_count": null,
   "id": "1831eb25-0f66-489d-ba7d-b84814abd91d",
   "metadata": {},
   "outputs": [],
   "source": []
  },
  {
   "cell_type": "code",
   "execution_count": 36,
   "id": "27ad962a-84d5-4693-aa26-8520e08cf72b",
   "metadata": {},
   "outputs": [
    {
     "name": "stdout",
     "output_type": "stream",
     "text": [
      "Number found  (2932)-27393947\n",
      "Number found  ('2932',)\n",
      "Number found  ('2932',)\n",
      "Number found  ('2932',)\n",
      "Number found  ('2932',)\n",
      "Number found  ('2932',)\n",
      "Number found  (2932)-27393947\n",
      "Number found  2932\n"
     ]
    }
   ],
   "source": [
    "#Adding () in the number\n",
    "\n",
    "num = re.compile(r'\\((\\d\\d\\d\\d)\\)-\\d\\d\\d\\d\\d\\d\\d\\d')\n",
    "print('Number found ', num.search('My number is (2932)-27393947').group())\n",
    "\n",
    "print('Number found ', num.search('My number is (2932)-27393947').groups())\n",
    "print('Number found ', num.search('My number is (2932)-27393947').groups(0))\n",
    "print('Number found ', num.search('My number is (2932)-27393947').groups(1))\n",
    "print('Number found ', num.search('My number is (2932)-27393947').groups(2))\n",
    "print('Number found ', num.search('My number is (2932)-27393947').groups(10))\n",
    "\n",
    "\n",
    "print('Number found ', num.search('My number is (2932)-27393947').group(0))\n",
    "print('Number found ', num.search('My number is (2932)-27393947').group(1))\n",
    "\n",
    "#print('Number found ', num.search('My number is (2932)-27393947').group(2)) #error only has onegroup in regex\n",
    "\n",
    "# print('Number found ', num.search('My number is (2932)-27393947').group(3)) #error"
   ]
  },
  {
   "cell_type": "code",
   "execution_count": null,
   "id": "3908aba6-f8e9-405c-a1f7-0565e8fee06f",
   "metadata": {},
   "outputs": [],
   "source": []
  }
 ],
 "metadata": {
  "kernelspec": {
   "display_name": "Python 3 (ipykernel)",
   "language": "python",
   "name": "python3"
  },
  "language_info": {
   "codemirror_mode": {
    "name": "ipython",
    "version": 3
   },
   "file_extension": ".py",
   "mimetype": "text/x-python",
   "name": "python",
   "nbconvert_exporter": "python",
   "pygments_lexer": "ipython3",
   "version": "3.11.7"
  }
 },
 "nbformat": 4,
 "nbformat_minor": 5
}
