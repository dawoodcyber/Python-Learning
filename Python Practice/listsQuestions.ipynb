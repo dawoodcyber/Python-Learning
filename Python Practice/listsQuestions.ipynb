{
 "cells": [
  {
   "cell_type": "code",
   "execution_count": 1,
   "id": "b4b6992c-0a05-49ec-9a5f-e76bb39b2f3e",
   "metadata": {},
   "outputs": [
    {
     "data": {
      "text/plain": [
       "[2, 4, 'hello', 8, 10]"
      ]
     },
     "execution_count": 1,
     "metadata": {},
     "output_type": "execute_result"
    }
   ],
   "source": [
    "\"\"\"\n",
    "Q. How would you assign the value 'hello' as the third value in a list stored \n",
    "in a variable named spam? (Assume spam contains [2, 4, 6, 8, 10].)\n",
    "\"\"\"\n",
    "spam = [2,4,6,8,10]\n",
    "spam[2] = 'hello'\n",
    "spam"
   ]
  },
  {
   "cell_type": "code",
   "execution_count": 3,
   "id": "75501538-da2d-44e5-993b-a853c75b4c96",
   "metadata": {},
   "outputs": [
    {
     "data": {
      "text/plain": [
       "'d'"
      ]
     },
     "execution_count": 3,
     "metadata": {},
     "output_type": "execute_result"
    }
   ],
   "source": [
    "# Q. What does myList[int(int('3' * 2) / 11)] evaluate to?\n",
    "myList = ['a','b', 'c', 'd']\n",
    "myList[int(int('3'*2)/11)]"
   ]
  },
  {
   "cell_type": "code",
   "execution_count": 5,
   "id": "fb120226-37b5-4a3f-b1df-19693844eab2",
   "metadata": {},
   "outputs": [
    {
     "data": {
      "text/plain": [
       "'d'"
      ]
     },
     "execution_count": 5,
     "metadata": {},
     "output_type": "execute_result"
    }
   ],
   "source": [
    "# Q. What does myList[-1] evaluate to?\n",
    "myList\n",
    "myList[-1]"
   ]
  },
  {
   "cell_type": "code",
   "execution_count": 7,
   "id": "2246dd52-79f8-40f5-ba68-6e74ebf7428d",
   "metadata": {},
   "outputs": [
    {
     "data": {
      "text/plain": [
       "['a', 'b']"
      ]
     },
     "execution_count": 7,
     "metadata": {},
     "output_type": "execute_result"
    }
   ],
   "source": [
    "# Q. What does myList[:2] evaluate to?\n",
    "myList\n",
    "myList[:2]"
   ]
  },
  {
   "cell_type": "code",
   "execution_count": 8,
   "id": "ba711e55-6a58-46d8-a956-d27093dddc21",
   "metadata": {},
   "outputs": [
    {
     "data": {
      "text/plain": [
       "[3.14, 'cat', 11, 'cat', True]"
      ]
     },
     "execution_count": 8,
     "metadata": {},
     "output_type": "execute_result"
    }
   ],
   "source": [
    "bacon = [3.14, 'cat', 11, 'cat', True]\n",
    "bacon"
   ]
  },
  {
   "cell_type": "code",
   "execution_count": 9,
   "id": "127cf6c5-9133-45f1-91c4-e5c00e5d7c94",
   "metadata": {},
   "outputs": [
    {
     "data": {
      "text/plain": [
       "1"
      ]
     },
     "execution_count": 9,
     "metadata": {},
     "output_type": "execute_result"
    }
   ],
   "source": [
    "# Q. What does bacon.index('cat') evaluate to?\n",
    "bacon.index('cat') "
   ]
  },
  {
   "cell_type": "code",
   "execution_count": 10,
   "id": "9fc65a73-c531-474b-8f1f-ac31a965f544",
   "metadata": {},
   "outputs": [
    {
     "data": {
      "text/plain": [
       "[3.14, 'cat', 11, 'cat', True, 99]"
      ]
     },
     "execution_count": 10,
     "metadata": {},
     "output_type": "execute_result"
    }
   ],
   "source": [
    "# Q. What does bacon.append(99) make the list value in bacon look like?\n",
    "bacon.append(99)\n",
    "bacon"
   ]
  },
  {
   "cell_type": "code",
   "execution_count": 11,
   "id": "3c965fa1-2336-4cd2-b4ab-09836424b256",
   "metadata": {},
   "outputs": [
    {
     "data": {
      "text/plain": [
       "[3.14, 11, 'cat', True, 99]"
      ]
     },
     "execution_count": 11,
     "metadata": {},
     "output_type": "execute_result"
    }
   ],
   "source": [
    "# Q. What does bacon.remove('cat') make the list value in bacon look like?\n",
    "bacon.remove('cat')\n",
    "bacon"
   ]
  },
  {
   "cell_type": "code",
   "execution_count": 12,
   "id": "75def492-63e4-4c4e-8828-4d8b1222241e",
   "metadata": {},
   "outputs": [
    {
     "data": {
      "text/plain": [
       "[3.14, 11, 'cat', True, 99]"
      ]
     },
     "execution_count": 12,
     "metadata": {},
     "output_type": "execute_result"
    }
   ],
   "source": [
    "bacon*2\n",
    "bacon"
   ]
  },
  {
   "cell_type": "code",
   "execution_count": 13,
   "id": "801ad572-d174-45bb-8f3f-ee5a0acd613e",
   "metadata": {},
   "outputs": [
    {
     "data": {
      "text/plain": [
       "[3.14, 11, 'cat', True, 99, 3.14, 11, 'cat', True, 99]"
      ]
     },
     "execution_count": 13,
     "metadata": {},
     "output_type": "execute_result"
    }
   ],
   "source": [
    "bacon*2"
   ]
  },
  {
   "cell_type": "code",
   "execution_count": 16,
   "id": "43838dff-84a5-45ac-909f-d810a8e6a206",
   "metadata": {},
   "outputs": [],
   "source": [
    "bacon = [1,2,3]\n",
    "tacon = [4,5,6]\n",
    "tricon = bacon+tacon"
   ]
  },
  {
   "cell_type": "code",
   "execution_count": 17,
   "id": "cc403fc7-7038-4caa-84bb-4b2fe16d9122",
   "metadata": {},
   "outputs": [
    {
     "data": {
      "text/plain": [
       "[1, 2, 3, 4, 5, 6]"
      ]
     },
     "execution_count": 17,
     "metadata": {},
     "output_type": "execute_result"
    }
   ],
   "source": [
    "tricon"
   ]
  },
  {
   "cell_type": "code",
   "execution_count": 18,
   "id": "b12ba503-2032-46bd-af22-133cf533357d",
   "metadata": {},
   "outputs": [],
   "source": [
    "tricon.append(7)"
   ]
  },
  {
   "cell_type": "code",
   "execution_count": 19,
   "id": "b2e926e6-983f-4aa5-8865-e775c77f2cc4",
   "metadata": {},
   "outputs": [
    {
     "data": {
      "text/plain": [
       "[1, 2, 3, 4, 5, 6, 7]"
      ]
     },
     "execution_count": 19,
     "metadata": {},
     "output_type": "execute_result"
    }
   ],
   "source": [
    "tricon"
   ]
  },
  {
   "cell_type": "code",
   "execution_count": 20,
   "id": "2ddab968-9619-4749-95ca-ade013ecdc4e",
   "metadata": {},
   "outputs": [
    {
     "data": {
      "text/plain": [
       "[0, 1, 2, 3, 4, 5, 6, 7]"
      ]
     },
     "execution_count": 20,
     "metadata": {},
     "output_type": "execute_result"
    }
   ],
   "source": [
    "tricon.insert(0,0)\n",
    "tricon"
   ]
  },
  {
   "cell_type": "code",
   "execution_count": 21,
   "id": "780fc10c-c915-4e01-a230-f966a6e055d3",
   "metadata": {},
   "outputs": [
    {
     "data": {
      "text/plain": [
       "[1, 2, 3, 4, 5, 6, 7]"
      ]
     },
     "execution_count": 21,
     "metadata": {},
     "output_type": "execute_result"
    }
   ],
   "source": [
    "tricon.remove(0)\n",
    "tricon"
   ]
  },
  {
   "cell_type": "code",
   "execution_count": 22,
   "id": "51ed0546-dfb1-4011-af93-b78a46cafab4",
   "metadata": {},
   "outputs": [
    {
     "data": {
      "text/plain": [
       "[1, 2, 3, 4, 5, 6]"
      ]
     },
     "execution_count": 22,
     "metadata": {},
     "output_type": "execute_result"
    }
   ],
   "source": [
    "del tricon[6]\n",
    "tricon"
   ]
  },
  {
   "cell_type": "code",
   "execution_count": 23,
   "id": "ed695396-5f2c-4912-bf00-971d6b1a367c",
   "metadata": {},
   "outputs": [
    {
     "name": "stdout",
     "output_type": "stream",
     "text": [
      "*** h ***\n",
      "*** e ***\n",
      "*** l ***\n",
      "*** l ***\n",
      "*** o ***\n"
     ]
    }
   ],
   "source": [
    "name = 'hello'\n",
    "for i in name:\n",
    "    print('***', i, '***')"
   ]
  },
  {
   "cell_type": "code",
   "execution_count": 24,
   "id": "5f92dcd8-d5b0-40eb-a69f-c7e01d12432e",
   "metadata": {},
   "outputs": [
    {
     "name": "stdout",
     "output_type": "stream",
     "text": [
      "h\n",
      "e\n",
      "l\n",
      "l\n",
      "o\n"
     ]
    }
   ],
   "source": [
    "name = ['h','e','l','l','o']\n",
    "for i in name:\n",
    "    print(i)"
   ]
  },
  {
   "cell_type": "code",
   "execution_count": 25,
   "id": "c2f7fe8a-1a42-41cd-9716-2e1493f7161f",
   "metadata": {},
   "outputs": [
    {
     "ename": "TypeError",
     "evalue": "'tuple' object does not support item assignment",
     "output_type": "error",
     "traceback": [
      "\u001b[1;31m---------------------------------------------------------------------------\u001b[0m",
      "\u001b[1;31mTypeError\u001b[0m                                 Traceback (most recent call last)",
      "Cell \u001b[1;32mIn[25], line 2\u001b[0m\n\u001b[0;32m      1\u001b[0m myTupel \u001b[38;5;241m=\u001b[39m(\u001b[38;5;124m'\u001b[39m\u001b[38;5;124mhello\u001b[39m\u001b[38;5;124m'\u001b[39m,\u001b[38;5;241m44\u001b[39m)\n\u001b[1;32m----> 2\u001b[0m myTupel [\u001b[38;5;241m0\u001b[39m] \u001b[38;5;241m=\u001b[39m \u001b[38;5;124m'\u001b[39m\u001b[38;5;124mee\u001b[39m\u001b[38;5;124m'\u001b[39m\n",
      "\u001b[1;31mTypeError\u001b[0m: 'tuple' object does not support item assignment"
     ]
    }
   ],
   "source": [
    "myTupel =('hello',44)\n",
    "myTupel [0] = 'ee'"
   ]
  },
  {
   "cell_type": "code",
   "execution_count": 30,
   "id": "9f46260a-02ba-4281-b5e3-ee40264144fe",
   "metadata": {},
   "outputs": [
    {
     "data": {
      "text/plain": [
       "tuple"
      ]
     },
     "execution_count": 30,
     "metadata": {},
     "output_type": "execute_result"
    }
   ],
   "source": [
    "myTuple=(42,)\n",
    "type(myTuple)"
   ]
  },
  {
   "cell_type": "code",
   "execution_count": 31,
   "id": "67054f3e-52ae-43be-b989-f35a28f8b1fb",
   "metadata": {},
   "outputs": [
    {
     "data": {
      "text/plain": [
       "(1, 2, 3)"
      ]
     },
     "execution_count": 31,
     "metadata": {},
     "output_type": "execute_result"
    }
   ],
   "source": [
    "listss = [1,2,3]\n",
    "tuple(listss)"
   ]
  },
  {
   "cell_type": "code",
   "execution_count": 32,
   "id": "857b3d64-7758-465f-a02e-aad00c127023",
   "metadata": {},
   "outputs": [
    {
     "data": {
      "text/plain": [
       "[42]"
      ]
     },
     "execution_count": 32,
     "metadata": {},
     "output_type": "execute_result"
    }
   ],
   "source": [
    "list(myTuple)"
   ]
  },
  {
   "cell_type": "code",
   "execution_count": null,
   "id": "27a06d42-83ef-42e5-a195-1d972403dfd3",
   "metadata": {},
   "outputs": [],
   "source": []
  }
 ],
 "metadata": {
  "kernelspec": {
   "display_name": "Python 3 (ipykernel)",
   "language": "python",
   "name": "python3"
  },
  "language_info": {
   "codemirror_mode": {
    "name": "ipython",
    "version": 3
   },
   "file_extension": ".py",
   "mimetype": "text/x-python",
   "name": "python",
   "nbconvert_exporter": "python",
   "pygments_lexer": "ipython3",
   "version": "3.11.7"
  }
 },
 "nbformat": 4,
 "nbformat_minor": 5
}
