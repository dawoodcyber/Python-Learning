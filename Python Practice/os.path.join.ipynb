{
 "cells": [
  {
   "cell_type": "code",
   "execution_count": 3,
   "id": "3abf6a64-c7f0-4998-b15f-db52ca7558a5",
   "metadata": {},
   "outputs": [
    {
     "data": {
      "text/plain": [
       "'C\\\\Windows\\\\System32'"
      ]
     },
     "execution_count": 3,
     "metadata": {},
     "output_type": "execute_result"
    }
   ],
   "source": [
    "import os\n",
    "os.path.join('C','Windows','System32')"
   ]
  },
  {
   "cell_type": "code",
   "execution_count": 8,
   "id": "4862b0cd-8d03-4da5-9af8-8dc17ac4c5da",
   "metadata": {},
   "outputs": [
    {
     "name": "stdout",
     "output_type": "stream",
     "text": [
      "C:\\Windows\\System32\\accounts.txt\n",
      "C:\\Windows\\System32\\details.csv\n",
      "C:\\Windows\\System32\\invoices.csv\n"
     ]
    }
   ],
   "source": [
    "import os\n",
    "myFiles = ['accounts.txt','details.csv','invoices.csv']\n",
    "for file in myFiles:\n",
    "    print(os.path.join('C:\\\\Windows\\\\System32', file))                     "
   ]
  },
  {
   "cell_type": "code",
   "execution_count": 9,
   "id": "3788e6f6-1e1f-4f86-9a2e-5b2d3e79f440",
   "metadata": {},
   "outputs": [
    {
     "data": {
      "text/plain": [
       "'C:\\\\Users\\\\user\\\\OneDrive\\\\Desktop\\\\allinone\\\\Python-Learning\\\\Python Practice'"
      ]
     },
     "execution_count": 9,
     "metadata": {},
     "output_type": "execute_result"
    }
   ],
   "source": [
    "import os\n",
    "os.getcwd()"
   ]
  },
  {
   "cell_type": "code",
   "execution_count": 10,
   "id": "1332584c-3701-4c7f-8e52-87c3b44d8e69",
   "metadata": {},
   "outputs": [
    {
     "data": {
      "text/plain": [
       "'C:\\\\Users\\\\user\\\\OneDrive\\\\Desktop\\\\allinone\\\\Python-Learning'"
      ]
     },
     "execution_count": 10,
     "metadata": {},
     "output_type": "execute_result"
    }
   ],
   "source": [
    "os.chdir('..\\\\')\n",
    "os.getcwd()"
   ]
  },
  {
   "cell_type": "code",
   "execution_count": 11,
   "id": "69cd4c5c-4e90-4ab0-9d0d-cff718757cd4",
   "metadata": {},
   "outputs": [
    {
     "data": {
      "text/plain": [
       "'C:\\\\Users'"
      ]
     },
     "execution_count": 11,
     "metadata": {},
     "output_type": "execute_result"
    }
   ],
   "source": [
    "os.chdir('C:\\\\Users')\n",
    "os.getcwd()"
   ]
  },
  {
   "cell_type": "code",
   "execution_count": 12,
   "id": "1d9b8f3a-d4ee-4b04-beee-dca7cd9707e5",
   "metadata": {},
   "outputs": [
    {
     "ename": "FileNotFoundError",
     "evalue": "[WinError 2] The system cannot find the file specified: 'C:\\\\FileDoesNotExist'",
     "output_type": "error",
     "traceback": [
      "\u001b[1;31m---------------------------------------------------------------------------\u001b[0m",
      "\u001b[1;31mFileNotFoundError\u001b[0m                         Traceback (most recent call last)",
      "Cell \u001b[1;32mIn[12], line 1\u001b[0m\n\u001b[1;32m----> 1\u001b[0m os\u001b[38;5;241m.\u001b[39mchdir(\u001b[38;5;124m'\u001b[39m\u001b[38;5;124mC:\u001b[39m\u001b[38;5;130;01m\\\\\u001b[39;00m\u001b[38;5;124mFileDoesNotExist\u001b[39m\u001b[38;5;124m'\u001b[39m)\n",
      "\u001b[1;31mFileNotFoundError\u001b[0m: [WinError 2] The system cannot find the file specified: 'C:\\\\FileDoesNotExist'"
     ]
    }
   ],
   "source": [
    "os.chdir('C:\\\\FileDoesNotExist')"
   ]
  },
  {
   "cell_type": "code",
   "execution_count": null,
   "id": "5bc30959-8e38-4d3a-8108-083c6ce00073",
   "metadata": {},
   "outputs": [],
   "source": []
  }
 ],
 "metadata": {
  "kernelspec": {
   "display_name": "Python 3 (ipykernel)",
   "language": "python",
   "name": "python3"
  },
  "language_info": {
   "codemirror_mode": {
    "name": "ipython",
    "version": 3
   },
   "file_extension": ".py",
   "mimetype": "text/x-python",
   "name": "python",
   "nbconvert_exporter": "python",
   "pygments_lexer": "ipython3",
   "version": "3.11.7"
  }
 },
 "nbformat": 4,
 "nbformat_minor": 5
}
