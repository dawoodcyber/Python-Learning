{
 "cells": [
  {
   "cell_type": "code",
   "execution_count": 12,
   "id": "05eaf86e-1e74-4b4e-9ee9-08f52f5d24b3",
   "metadata": {},
   "outputs": [
    {
     "name": "stdout",
     "output_type": "stream",
     "text": [
      "\n",
      " Using print() that returns None\n",
      "Hello\n",
      "None\n",
      "\n",
      " Using len() that returns number\n",
      "4\n"
     ]
    },
    {
     "data": {
      "text/plain": [
       "False"
      ]
     },
     "execution_count": 12,
     "metadata": {},
     "output_type": "execute_result"
    }
   ],
   "source": [
    "print('\\n Using print() that returns None')\n",
    "\n",
    "spam = print('Hello')\n",
    "print(spam)\n",
    "None == spam\n",
    "\n",
    "\n",
    "print('\\n Using len() that returns number')\n",
    "spam = len('spam')\n",
    "print(spam)\n",
    "None == spam"
   ]
  },
  {
   "cell_type": "code",
   "execution_count": null,
   "id": "ca5d8bd6-2517-44a7-903d-f452c411df18",
   "metadata": {},
   "outputs": [],
   "source": []
  }
 ],
 "metadata": {
  "kernelspec": {
   "display_name": "Python 3 (ipykernel)",
   "language": "python",
   "name": "python3"
  },
  "language_info": {
   "codemirror_mode": {
    "name": "ipython",
    "version": 3
   },
   "file_extension": ".py",
   "mimetype": "text/x-python",
   "name": "python",
   "nbconvert_exporter": "python",
   "pygments_lexer": "ipython3",
   "version": "3.11.7"
  }
 },
 "nbformat": 4,
 "nbformat_minor": 5
}
