{
 "cells": [
  {
   "cell_type": "code",
   "execution_count": 1,
   "id": "5d0aad21-f8d2-4f6a-90fd-816d76c5e97a",
   "metadata": {},
   "outputs": [
    {
     "data": {
      "text/plain": [
       "[{'desc': 'chubby', 'name': 'Zophie'}, {'desc': 'fluffy', 'name': 'Pooka'}]"
      ]
     },
     "execution_count": 1,
     "metadata": {},
     "output_type": "execute_result"
    }
   ],
   "source": [
    "import myCats\n",
    "myCats.cats"
   ]
  },
  {
   "cell_type": "code",
   "execution_count": 2,
   "id": "65b261af-43ad-43e1-b8c7-497a7962ca2e",
   "metadata": {},
   "outputs": [
    {
     "data": {
      "text/plain": [
       "{'desc': 'chubby', 'name': 'Zophie'}"
      ]
     },
     "execution_count": 2,
     "metadata": {},
     "output_type": "execute_result"
    }
   ],
   "source": [
    "myCats.cats[0]"
   ]
  },
  {
   "cell_type": "code",
   "execution_count": 3,
   "id": "441409ca-c32e-40a6-ae4c-6411cb3cbb00",
   "metadata": {},
   "outputs": [
    {
     "data": {
      "text/plain": [
       "'Zophie'"
      ]
     },
     "execution_count": 3,
     "metadata": {},
     "output_type": "execute_result"
    }
   ],
   "source": [
    "myCats.cats[0]['name']"
   ]
  },
  {
   "cell_type": "code",
   "execution_count": null,
   "id": "b84e0af0-f816-4a26-995f-80c6978446f2",
   "metadata": {},
   "outputs": [],
   "source": []
  }
 ],
 "metadata": {
  "kernelspec": {
   "display_name": "Python 3 (ipykernel)",
   "language": "python",
   "name": "python3"
  },
  "language_info": {
   "codemirror_mode": {
    "name": "ipython",
    "version": 3
   },
   "file_extension": ".py",
   "mimetype": "text/x-python",
   "name": "python",
   "nbconvert_exporter": "python",
   "pygments_lexer": "ipython3",
   "version": "3.11.7"
  }
 },
 "nbformat": 4,
 "nbformat_minor": 5
}
