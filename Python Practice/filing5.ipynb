{
 "cells": [
  {
   "cell_type": "code",
   "execution_count": 1,
   "id": "cd515d16-dda7-4db7-a9d9-7df54150cd00",
   "metadata": {},
   "outputs": [
    {
     "name": "stdout",
     "output_type": "stream",
     "text": [
      "dawood shaikh passwords\n",
      "\n"
     ]
    }
   ],
   "source": [
    "myFile = open('C:\\\\dawood\\\\dd.txt')\n",
    "content = myFile.read()\n",
    "print(content)"
   ]
  },
  {
   "cell_type": "code",
   "execution_count": 2,
   "id": "49ea561a-6860-4b18-a44b-433edc0aab44",
   "metadata": {},
   "outputs": [
    {
     "name": "stdout",
     "output_type": "stream",
     "text": [
      "dawood shaikh passwords\n",
      "\n"
     ]
    }
   ],
   "source": [
    "myFile = open('C:\\\\dawood\\\\dd.txt', 'r')\n",
    "content = myFile.read()\n",
    "print(content)"
   ]
  },
  {
   "cell_type": "code",
   "execution_count": 3,
   "id": "7bd89ff8-4079-4ec3-9e2b-2c081c5c8d7c",
   "metadata": {},
   "outputs": [
    {
     "ename": "FileNotFoundError",
     "evalue": "[Errno 2] No such file or directory: 'C:\\\\dawood\\\\random.txt'",
     "output_type": "error",
     "traceback": [
      "\u001b[1;31m---------------------------------------------------------------------------\u001b[0m",
      "\u001b[1;31mFileNotFoundError\u001b[0m                         Traceback (most recent call last)",
      "Cell \u001b[1;32mIn[3], line 1\u001b[0m\n\u001b[1;32m----> 1\u001b[0m myFile \u001b[38;5;241m=\u001b[39m \u001b[38;5;28mopen\u001b[39m(\u001b[38;5;124m'\u001b[39m\u001b[38;5;124mC:\u001b[39m\u001b[38;5;130;01m\\\\\u001b[39;00m\u001b[38;5;124mdawood\u001b[39m\u001b[38;5;130;01m\\\\\u001b[39;00m\u001b[38;5;124mrandom.txt\u001b[39m\u001b[38;5;124m'\u001b[39m, \u001b[38;5;124m'\u001b[39m\u001b[38;5;124mr\u001b[39m\u001b[38;5;124m'\u001b[39m)\n\u001b[0;32m      2\u001b[0m content \u001b[38;5;241m=\u001b[39m myFile\u001b[38;5;241m.\u001b[39mread()\n\u001b[0;32m      3\u001b[0m \u001b[38;5;28mprint\u001b[39m(content)\n",
      "File \u001b[1;32m~\\anaconda3\\Lib\\site-packages\\IPython\\core\\interactiveshell.py:310\u001b[0m, in \u001b[0;36m_modified_open\u001b[1;34m(file, *args, **kwargs)\u001b[0m\n\u001b[0;32m    303\u001b[0m \u001b[38;5;28;01mif\u001b[39;00m file \u001b[38;5;129;01min\u001b[39;00m {\u001b[38;5;241m0\u001b[39m, \u001b[38;5;241m1\u001b[39m, \u001b[38;5;241m2\u001b[39m}:\n\u001b[0;32m    304\u001b[0m     \u001b[38;5;28;01mraise\u001b[39;00m \u001b[38;5;167;01mValueError\u001b[39;00m(\n\u001b[0;32m    305\u001b[0m         \u001b[38;5;124mf\u001b[39m\u001b[38;5;124m\"\u001b[39m\u001b[38;5;124mIPython won\u001b[39m\u001b[38;5;124m'\u001b[39m\u001b[38;5;124mt let you open fd=\u001b[39m\u001b[38;5;132;01m{\u001b[39;00mfile\u001b[38;5;132;01m}\u001b[39;00m\u001b[38;5;124m by default \u001b[39m\u001b[38;5;124m\"\u001b[39m\n\u001b[0;32m    306\u001b[0m         \u001b[38;5;124m\"\u001b[39m\u001b[38;5;124mas it is likely to crash IPython. If you know what you are doing, \u001b[39m\u001b[38;5;124m\"\u001b[39m\n\u001b[0;32m    307\u001b[0m         \u001b[38;5;124m\"\u001b[39m\u001b[38;5;124myou can use builtins\u001b[39m\u001b[38;5;124m'\u001b[39m\u001b[38;5;124m open.\u001b[39m\u001b[38;5;124m\"\u001b[39m\n\u001b[0;32m    308\u001b[0m     )\n\u001b[1;32m--> 310\u001b[0m \u001b[38;5;28;01mreturn\u001b[39;00m io_open(file, \u001b[38;5;241m*\u001b[39margs, \u001b[38;5;241m*\u001b[39m\u001b[38;5;241m*\u001b[39mkwargs)\n",
      "\u001b[1;31mFileNotFoundError\u001b[0m: [Errno 2] No such file or directory: 'C:\\\\dawood\\\\random.txt'"
     ]
    }
   ],
   "source": [
    "myFile = open('C:\\\\dawood\\\\random.txt', 'r')\n",
    "content = myFile.read()\n",
    "print(content)"
   ]
  },
  {
   "cell_type": "code",
   "execution_count": 6,
   "id": "82056add-326c-4e23-a930-5f387e23b6e0",
   "metadata": {},
   "outputs": [
    {
     "name": "stdout",
     "output_type": "stream",
     "text": [
      "22\n",
      "My name is jhinga lala\n"
     ]
    }
   ],
   "source": [
    "myFile = open('C:\\\\dawood\\\\random.txt', 'w')\n",
    "content = myFile.write('My name is jhinga lala')\n",
    "print(content)\n",
    "myFile.close()\n",
    "myFile =  open('C:\\\\dawood\\\\random.txt')\n",
    "content = myFile.read()\n",
    "print(content)\n",
    "myFile.close()"
   ]
  },
  {
   "cell_type": "code",
   "execution_count": 9,
   "id": "d1ffe3d5-c56f-40d5-8060-5de9a4b5d70b",
   "metadata": {},
   "outputs": [
    {
     "name": "stdout",
     "output_type": "stream",
     "text": [
      "My name is jhinga lalaYour name is jhinga lalaYour name is jhinga lala.\n",
      "Your name is jhinga lala.\n",
      "\n"
     ]
    }
   ],
   "source": [
    "myFile =  open(\"C:\\\\dawood\\\\random.txt\",'a')\n",
    "myFile.write('Your name is jhinga lala.\\\\n')\n",
    "myFile.close()\n",
    "myFile = open('C:\\\\dawood\\\\random.txt')\n",
    "content = myFile.read()\n",
    "print(content)\n",
    "myFile.close()"
   ]
  },
  {
   "cell_type": "code",
   "execution_count": 10,
   "id": "d940aee1-3c5f-4156-9116-6486017b6eb5",
   "metadata": {},
   "outputs": [
    {
     "name": "stdout",
     "output_type": "stream",
     "text": [
      "My name is jhinga lalaYour name is jhinga lalaYour name is jhinga lala.\n",
      "Your name is jhinga lala.\n",
      "Your name is jhinga lala.\\n\n"
     ]
    }
   ],
   "source": [
    "myFile =  open(\"C:\\\\dawood\\\\random.txt\",'a')\n",
    "myFile.write('Your name is jhinga lala.\\\\n')\n",
    "myFile.close()\n",
    "myFile = open('C:\\\\dawood\\\\random.txt')\n",
    "content = myFile.read()\n",
    "print(content)\n",
    "myFile.close()"
   ]
  },
  {
   "cell_type": "code",
   "execution_count": null,
   "id": "6efa89d6-8c3f-41ee-8010-60d70fb455f5",
   "metadata": {},
   "outputs": [],
   "source": []
  }
 ],
 "metadata": {
  "kernelspec": {
   "display_name": "Python 3 (ipykernel)",
   "language": "python",
   "name": "python3"
  },
  "language_info": {
   "codemirror_mode": {
    "name": "ipython",
    "version": 3
   },
   "file_extension": ".py",
   "mimetype": "text/x-python",
   "name": "python",
   "nbconvert_exporter": "python",
   "pygments_lexer": "ipython3",
   "version": "3.11.7"
  }
 },
 "nbformat": 4,
 "nbformat_minor": 5
}
