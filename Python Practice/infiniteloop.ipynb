{
 "cells": [
  {
   "cell_type": "code",
   "execution_count": null,
   "id": "7833a7b0-9c94-4b2b-8a96-abb9f947b9f8",
   "metadata": {},
   "outputs": [],
   "source": [
    "while True:\n",
    "    print(\"Dawood Shaikh\")"
   ]
  }
 ],
 "metadata": {
  "kernelspec": {
   "display_name": "Python 3 (ipykernel)",
   "language": "python",
   "name": "python3"
  },
  "language_info": {
   "codemirror_mode": {
    "name": "ipython",
    "version": 3
   },
   "file_extension": ".py",
   "mimetype": "text/x-python",
   "name": "python",
   "nbconvert_exporter": "python",
   "pygments_lexer": "ipython3",
   "version": "3.11.7"
  }
 },
 "nbformat": 4,
 "nbformat_minor": 5
}
