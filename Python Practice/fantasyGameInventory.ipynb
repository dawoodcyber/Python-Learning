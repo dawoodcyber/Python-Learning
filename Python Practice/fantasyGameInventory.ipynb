{
 "cells": [
  {
   "cell_type": "code",
   "execution_count": 7,
   "id": "722267a5-51e3-4c04-84ef-a771b32da437",
   "metadata": {},
   "outputs": [
    {
     "name": "stdout",
     "output_type": "stream",
     "text": [
      "INVENTORY\n",
      "rope 1\n",
      "torch 6\n",
      "gold coin 42\n",
      "dagger 1\n",
      "arrow 12\n",
      "Total Number of Items: 62\n"
     ]
    }
   ],
   "source": [
    "goods = {'rope': 1, 'torch': 6, 'gold coin': 42, 'dagger': 1, 'arrow': 12}\n",
    "print('INVENTORY')\n",
    "def inventoryDisplay(stuff):\n",
    "    numItems = 0\n",
    "    for k, v in stuff.items():\n",
    "        print(str(k) + ' ' + str(v))\n",
    "        numItems+=v\n",
    "    print(f'Total Number of Items: {numItems}') \n",
    "\n",
    "inventoryDisplay(goods)"
   ]
  },
  {
   "cell_type": "code",
   "execution_count": null,
   "id": "8067f477-c63c-40e1-ad8e-052171354497",
   "metadata": {},
   "outputs": [],
   "source": []
  }
 ],
 "metadata": {
  "kernelspec": {
   "display_name": "Python 3 (ipykernel)",
   "language": "python",
   "name": "python3"
  },
  "language_info": {
   "codemirror_mode": {
    "name": "ipython",
    "version": 3
   },
   "file_extension": ".py",
   "mimetype": "text/x-python",
   "name": "python",
   "nbconvert_exporter": "python",
   "pygments_lexer": "ipython3",
   "version": "3.11.7"
  }
 },
 "nbformat": 4,
 "nbformat_minor": 5
}
