{
 "cells": [
  {
   "cell_type": "code",
   "execution_count": 1,
   "id": "ac55a312-25f6-4af3-a7d3-04a3425efb3d",
   "metadata": {},
   "outputs": [
    {
     "data": {
      "text/plain": [
       "'helloworld'"
      ]
     },
     "execution_count": 1,
     "metadata": {},
     "output_type": "execute_result"
    }
   ],
   "source": [
    "from pyperclip import *\n",
    "copy('helloworld')\n",
    "paste()"
   ]
  },
  {
   "cell_type": "code",
   "execution_count": 2,
   "id": "f447cc0a-8844-4f62-a147-89552617fb55",
   "metadata": {},
   "outputs": [
    {
     "data": {
      "text/plain": [
       "'helloworldhelloworldhelloworldhelloworldhelloworldhelloworldhelloworld'"
      ]
     },
     "execution_count": 2,
     "metadata": {},
     "output_type": "execute_result"
    }
   ],
   "source": [
    "paste()"
   ]
  },
  {
   "cell_type": "code",
   "execution_count": 4,
   "id": "7808ba3e-8264-4d38-ad18-b07d48851f24",
   "metadata": {},
   "outputs": [
    {
     "data": {
      "text/plain": [
       "'http://localhost:8888/notebooks/Untitled.ipynb'"
      ]
     },
     "execution_count": 4,
     "metadata": {},
     "output_type": "execute_result"
    }
   ],
   "source": [
    "paste()"
   ]
  },
  {
   "cell_type": "code",
   "execution_count": 5,
   "id": "abb46613-3968-40db-a8ff-dadcd522603f",
   "metadata": {},
   "outputs": [
    {
     "data": {
      "text/plain": [
       "'Dawood shaikh'"
      ]
     },
     "execution_count": 5,
     "metadata": {},
     "output_type": "execute_result"
    }
   ],
   "source": [
    "import pyperclip\n",
    "pyperclip.copy('Dawood shaikh')\n",
    "pyperclip.paste()"
   ]
  },
  {
   "cell_type": "code",
   "execution_count": 6,
   "id": "1f09a569-8023-4c3e-81cc-f920257f373d",
   "metadata": {},
   "outputs": [
    {
     "data": {
      "text/plain": [
       "'https://www.youtube.com/'"
      ]
     },
     "execution_count": 6,
     "metadata": {},
     "output_type": "execute_result"
    }
   ],
   "source": [
    "# Now I have copied a youtube  link \n",
    "pyperclip.paste()"
   ]
  },
  {
   "cell_type": "code",
   "execution_count": 7,
   "id": "f597d4f7-2cd5-479c-afad-57fe27774079",
   "metadata": {},
   "outputs": [
    {
     "data": {
      "text/plain": [
       "'When I am running my python script having this line on top \"#! python3\" it is giving an error that is \" This app can\\'t run on your PC, to find a version for your pc check with the publisher\"'"
      ]
     },
     "execution_count": 7,
     "metadata": {},
     "output_type": "execute_result"
    }
   ],
   "source": [
    "pyperclip.paste()"
   ]
  },
  {
   "cell_type": "code",
   "execution_count": 8,
   "id": "10290784-4393-4fc0-a85d-b6c2586b189a",
   "metadata": {},
   "outputs": [
    {
     "data": {
      "text/plain": [
       "'Your .py file has been executed'"
      ]
     },
     "execution_count": 8,
     "metadata": {},
     "output_type": "execute_result"
    }
   ],
   "source": [
    "pyperclip.paste()"
   ]
  },
  {
   "cell_type": "code",
   "execution_count": null,
   "id": "b61efa81-8d51-4ce8-a24c-48eee61dc675",
   "metadata": {},
   "outputs": [],
   "source": []
  }
 ],
 "metadata": {
  "kernelspec": {
   "display_name": "Python 3 (ipykernel)",
   "language": "python",
   "name": "python3"
  },
  "language_info": {
   "codemirror_mode": {
    "name": "ipython",
    "version": 3
   },
   "file_extension": ".py",
   "mimetype": "text/x-python",
   "name": "python",
   "nbconvert_exporter": "python",
   "pygments_lexer": "ipython3",
   "version": "3.11.7"
  }
 },
 "nbformat": 4,
 "nbformat_minor": 5
}
