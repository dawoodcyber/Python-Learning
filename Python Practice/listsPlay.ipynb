{
 "cells": [
  {
   "cell_type": "code",
   "execution_count": 2,
   "id": "e32b8ff5-6039-405d-83a8-57b16bd667cb",
   "metadata": {},
   "outputs": [
    {
     "name": "stdout",
     "output_type": "stream",
     "text": [
      "0\n",
      "1\n",
      "2\n",
      "3\n"
     ]
    }
   ],
   "source": [
    "for i in range(4):\n",
    "    print(i)"
   ]
  },
  {
   "cell_type": "code",
   "execution_count": 3,
   "id": "03248f8a-8242-4ecd-a15e-71c696a89c42",
   "metadata": {},
   "outputs": [
    {
     "name": "stdout",
     "output_type": "stream",
     "text": [
      "0\n",
      "1\n",
      "2\n",
      "3\n"
     ]
    }
   ],
   "source": [
    "for i in [0,1,2,3]:\n",
    "    print(i)"
   ]
  },
  {
   "cell_type": "code",
   "execution_count": 6,
   "id": "05b388eb-9ca7-4da1-94d7-5317188c5245",
   "metadata": {},
   "outputs": [
    {
     "name": "stdout",
     "output_type": "stream",
     "text": [
      "Index 0 has pens\n",
      "Index 1 has staplers\n",
      "Index 2 has flame-throwers\n",
      "Index 3 has binders\n"
     ]
    }
   ],
   "source": [
    "supplies = ['pens', 'staplers', 'flame-throwers', 'binders']\n",
    "for i in range(len(supplies)):\n",
    "    print('Index '+str(i)+' has '+supplies[i])"
   ]
  },
  {
   "cell_type": "code",
   "execution_count": 7,
   "id": "b3fa576a-ae01-48ec-b019-eb85ecbb5cd0",
   "metadata": {},
   "outputs": [
    {
     "data": {
      "text/plain": [
       "True"
      ]
     },
     "execution_count": 7,
     "metadata": {},
     "output_type": "execute_result"
    }
   ],
   "source": [
    "spam = ['cat', 'dog', 'fish', 'insects', 'moose']\n",
    "'cat' in spam"
   ]
  },
  {
   "cell_type": "code",
   "execution_count": 8,
   "id": "81ec42a3-3673-4f96-8b06-b69cb7b213c5",
   "metadata": {},
   "outputs": [
    {
     "data": {
      "text/plain": [
       "False"
      ]
     },
     "execution_count": 8,
     "metadata": {},
     "output_type": "execute_result"
    }
   ],
   "source": [
    "'fish' not in spam"
   ]
  },
  {
   "cell_type": "code",
   "execution_count": 9,
   "id": "c93eea57-1919-4859-9eea-532f70222d30",
   "metadata": {},
   "outputs": [
    {
     "data": {
      "text/plain": [
       "False"
      ]
     },
     "execution_count": 9,
     "metadata": {},
     "output_type": "execute_result"
    }
   ],
   "source": [
    "'lion' in spam"
   ]
  },
  {
   "cell_type": "code",
   "execution_count": 10,
   "id": "f8219cfd-fa17-454f-825c-6e022d6d74f6",
   "metadata": {},
   "outputs": [
    {
     "data": {
      "text/plain": [
       "True"
      ]
     },
     "execution_count": 10,
     "metadata": {},
     "output_type": "execute_result"
    }
   ],
   "source": [
    "'lion' not in spam"
   ]
  },
  {
   "cell_type": "code",
   "execution_count": 11,
   "id": "c3b7231e-33dd-46c8-a4c9-5986e9ce325d",
   "metadata": {},
   "outputs": [
    {
     "data": {
      "text/plain": [
       "['cat', 'dog', 'fish', 'insects', 'moose']"
      ]
     },
     "execution_count": 11,
     "metadata": {},
     "output_type": "execute_result"
    }
   ],
   "source": [
    "spam"
   ]
  },
  {
   "cell_type": "code",
   "execution_count": 12,
   "id": "56383005-75a9-4d6d-b9ea-604fa65eff30",
   "metadata": {},
   "outputs": [],
   "source": [
    "cat = ['fat', 'black','loud']\n",
    "size, color, disposition = cat"
   ]
  },
  {
   "cell_type": "code",
   "execution_count": 13,
   "id": "ad95585f-c992-4125-900d-bd0b64abb415",
   "metadata": {},
   "outputs": [
    {
     "data": {
      "text/plain": [
       "'fat'"
      ]
     },
     "execution_count": 13,
     "metadata": {},
     "output_type": "execute_result"
    }
   ],
   "source": [
    "size"
   ]
  },
  {
   "cell_type": "code",
   "execution_count": 14,
   "id": "ce6daf6a-351d-4aa4-908c-b58942b97bbc",
   "metadata": {},
   "outputs": [
    {
     "data": {
      "text/plain": [
       "'black'"
      ]
     },
     "execution_count": 14,
     "metadata": {},
     "output_type": "execute_result"
    }
   ],
   "source": [
    "color"
   ]
  },
  {
   "cell_type": "code",
   "execution_count": 15,
   "id": "5ae15a79-219e-4854-84aa-6b4462adcbf3",
   "metadata": {},
   "outputs": [
    {
     "data": {
      "text/plain": [
       "'loud'"
      ]
     },
     "execution_count": 15,
     "metadata": {},
     "output_type": "execute_result"
    }
   ],
   "source": [
    "disposition"
   ]
  },
  {
   "cell_type": "code",
   "execution_count": 16,
   "id": "481f58e9-d53b-459a-97d0-c6393b62f33c",
   "metadata": {},
   "outputs": [
    {
     "data": {
      "text/plain": [
       "['fat', 'black', 'loud']"
      ]
     },
     "execution_count": 16,
     "metadata": {},
     "output_type": "execute_result"
    }
   ],
   "source": [
    "cat"
   ]
  },
  {
   "cell_type": "code",
   "execution_count": 17,
   "id": "8fe109a2-9797-4738-8233-054d42d2ff5d",
   "metadata": {},
   "outputs": [],
   "source": [
    "size, size, loud = cat"
   ]
  },
  {
   "cell_type": "code",
   "execution_count": 18,
   "id": "efef1991-0de5-4573-860a-36bcb2fdd24d",
   "metadata": {},
   "outputs": [
    {
     "data": {
      "text/plain": [
       "'black'"
      ]
     },
     "execution_count": 18,
     "metadata": {},
     "output_type": "execute_result"
    }
   ],
   "source": [
    "size"
   ]
  },
  {
   "cell_type": "code",
   "execution_count": 19,
   "id": "320e5bfd-6e74-46d7-86c5-315a91526749",
   "metadata": {},
   "outputs": [
    {
     "data": {
      "text/plain": [
       "'black'"
      ]
     },
     "execution_count": 19,
     "metadata": {},
     "output_type": "execute_result"
    }
   ],
   "source": [
    "size"
   ]
  },
  {
   "cell_type": "code",
   "execution_count": 20,
   "id": "ac95c372-db81-4de0-8089-8bdb6d583f53",
   "metadata": {},
   "outputs": [
    {
     "data": {
      "text/plain": [
       "'loud'"
      ]
     },
     "execution_count": 20,
     "metadata": {},
     "output_type": "execute_result"
    }
   ],
   "source": [
    "loud"
   ]
  },
  {
   "cell_type": "code",
   "execution_count": 21,
   "id": "acc06bd4-d6ae-456a-a4ad-2164f80d414e",
   "metadata": {},
   "outputs": [],
   "source": [
    "del size"
   ]
  },
  {
   "cell_type": "code",
   "execution_count": 22,
   "id": "4ac5f15c-97e9-4060-8ec0-6d66d66dca24",
   "metadata": {},
   "outputs": [
    {
     "ename": "NameError",
     "evalue": "name 'size' is not defined",
     "output_type": "error",
     "traceback": [
      "\u001b[1;31m---------------------------------------------------------------------------\u001b[0m",
      "\u001b[1;31mNameError\u001b[0m                                 Traceback (most recent call last)",
      "Cell \u001b[1;32mIn[22], line 1\u001b[0m\n\u001b[1;32m----> 1\u001b[0m size\n",
      "\u001b[1;31mNameError\u001b[0m: name 'size' is not defined"
     ]
    }
   ],
   "source": [
    "size"
   ]
  },
  {
   "cell_type": "code",
   "execution_count": 23,
   "id": "b195dacd-a0b6-42b0-9543-3617855220ed",
   "metadata": {},
   "outputs": [],
   "source": [
    "size , size, size = cat"
   ]
  },
  {
   "cell_type": "code",
   "execution_count": 24,
   "id": "c9dc069c-f5bf-45fc-b569-31096a2fd5e1",
   "metadata": {},
   "outputs": [
    {
     "data": {
      "text/plain": [
       "'loud'"
      ]
     },
     "execution_count": 24,
     "metadata": {},
     "output_type": "execute_result"
    }
   ],
   "source": [
    "size"
   ]
  },
  {
   "cell_type": "code",
   "execution_count": null,
   "id": "ad0020ad-1ba3-44b5-829b-3535774d4d2a",
   "metadata": {},
   "outputs": [],
   "source": []
  }
 ],
 "metadata": {
  "kernelspec": {
   "display_name": "Python 3 (ipykernel)",
   "language": "python",
   "name": "python3"
  },
  "language_info": {
   "codemirror_mode": {
    "name": "ipython",
    "version": 3
   },
   "file_extension": ".py",
   "mimetype": "text/x-python",
   "name": "python",
   "nbconvert_exporter": "python",
   "pygments_lexer": "ipython3",
   "version": "3.11.7"
  }
 },
 "nbformat": 4,
 "nbformat_minor": 5
}
