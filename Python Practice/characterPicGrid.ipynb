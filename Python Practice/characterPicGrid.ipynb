{
 "cells": [
  {
   "cell_type": "code",
   "execution_count": 2,
   "id": "96fe5955-2289-472e-a324-e28e4dc32e32",
   "metadata": {},
   "outputs": [
    {
     "data": {
      "text/plain": [
       "[['.', '.', '.', '.', '.', '.'],\n",
       " ['.', 'O', 'O', '.', '.', '.'],\n",
       " ['O', 'O', 'O', 'O', '.', '.'],\n",
       " ['O', 'O', 'O', 'O', 'O', '.'],\n",
       " ['.', 'O', 'O', 'O', 'O', 'O'],\n",
       " ['O', 'O', 'O', 'O', 'O', '.'],\n",
       " ['O', 'O', 'O', 'O', '.', '.'],\n",
       " ['.', 'O', 'O', '.', '.', '.'],\n",
       " ['.', '.', '.', '.', '.', '.']]"
      ]
     },
     "execution_count": 2,
     "metadata": {},
     "output_type": "execute_result"
    }
   ],
   "source": [
    "grid = [['.', '.', '.', '.', '.', '.'],\n",
    "        ['.', 'O', 'O', '.', '.', '.'],\n",
    "        ['O', 'O', 'O', 'O', '.', '.'],\n",
    "        ['O', 'O', 'O', 'O', 'O', '.'],\n",
    "        ['.', 'O', 'O', 'O', 'O', 'O'],\n",
    "        ['O', 'O', 'O', 'O', 'O', '.'],\n",
    "        ['O', 'O', 'O', 'O', '.', '.'],\n",
    "        ['.', 'O', 'O', '.', '.', '.'],\n",
    "        ['.', '.', '.', '.', '.', '.']]\n",
    "grid"
   ]
  },
  {
   "cell_type": "code",
   "execution_count": 4,
   "id": "37860068-5626-4d49-955c-c3c53de12a1b",
   "metadata": {},
   "outputs": [
    {
     "data": {
      "text/plain": [
       "[['.', '.', '.', '.', '.', '.'],\n",
       " ['.', 'O', 'O', '.', '.', '.'],\n",
       " ['O', 'O', 'O', 'O', '.', '.'],\n",
       " ['O', 'O', 'O', 'O', 'O', '.'],\n",
       " ['.', 'O', 'O', 'O', 'O', 'O'],\n",
       " ['O', 'O', 'O', 'O', 'O', '.'],\n",
       " ['O', 'O', 'O', 'O', '.', '.'],\n",
       " ['.', 'O', 'O', '.', '.', '.'],\n",
       " ['.', '.', '.', '.', '.', '.']]"
      ]
     },
     "execution_count": 4,
     "metadata": {},
     "output_type": "execute_result"
    }
   ],
   "source": [
    "import copy\n",
    "gridCopy = copy.copy(grid)\n",
    "gridCopy"
   ]
  },
  {
   "cell_type": "code",
   "execution_count": 13,
   "id": "0c196ecd-dd1e-4e90-bc13-44cf70e80266",
   "metadata": {},
   "outputs": [
    {
     "name": "stdout",
     "output_type": "stream",
     "text": [
      "......\n",
      "\n",
      ".OO...\n",
      "\n",
      "OOOO..\n",
      "\n",
      "OOOOO.\n",
      "\n",
      ".OOOOO\n",
      "\n",
      "OOOOO.\n",
      "\n",
      "OOOO..\n",
      "\n",
      ".OO...\n",
      "\n",
      "......\n",
      "\n"
     ]
    }
   ],
   "source": [
    "    for i in gridCopy:\n",
    "        for j in i:\n",
    "            print(j,end='')\n",
    "        print('\\n')"
   ]
  },
  {
   "cell_type": "code",
   "execution_count": null,
   "id": "c8e79bd9-005f-45d8-becb-a0a9cde78fd6",
   "metadata": {},
   "outputs": [],
   "source": []
  }
 ],
 "metadata": {
  "kernelspec": {
   "display_name": "Python 3 (ipykernel)",
   "language": "python",
   "name": "python3"
  },
  "language_info": {
   "codemirror_mode": {
    "name": "ipython",
    "version": 3
   },
   "file_extension": ".py",
   "mimetype": "text/x-python",
   "name": "python",
   "nbconvert_exporter": "python",
   "pygments_lexer": "ipython3",
   "version": "3.11.7"
  }
 },
 "nbformat": 4,
 "nbformat_minor": 5
}
