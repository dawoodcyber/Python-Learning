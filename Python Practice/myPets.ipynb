{
 "cells": [
  {
   "cell_type": "code",
   "execution_count": 1,
   "id": "5066b58a-24e8-4b43-ab81-4fa3c34d20d1",
   "metadata": {},
   "outputs": [
    {
     "name": "stdout",
     "output_type": "stream",
     "text": [
      "enter a pen name: \n"
     ]
    },
    {
     "name": "stdin",
     "output_type": "stream",
     "text": [
      " fatfoot\n"
     ]
    },
    {
     "name": "stdout",
     "output_type": "stream",
     "text": [
      "I do not have a pet named: fatfoot\n"
     ]
    }
   ],
   "source": [
    "myPets = ['zoophie', 'pooka', 'fat-tail']\n",
    "print('enter a pen name: ')\n",
    "name = input()\n",
    "if name not in myPets:\n",
    "    print('I do not have a pet named: ' + name)\n",
    "\n",
    "else:\n",
    "    print(name + ' is my pet')"
   ]
  },
  {
   "cell_type": "code",
   "execution_count": null,
   "id": "45c9e0da-5b93-40aa-b9e0-9c42d324420f",
   "metadata": {},
   "outputs": [],
   "source": []
  }
 ],
 "metadata": {
  "kernelspec": {
   "display_name": "Python 3 (ipykernel)",
   "language": "python",
   "name": "python3"
  },
  "language_info": {
   "codemirror_mode": {
    "name": "ipython",
    "version": 3
   },
   "file_extension": ".py",
   "mimetype": "text/x-python",
   "name": "python",
   "nbconvert_exporter": "python",
   "pygments_lexer": "ipython3",
   "version": "3.11.7"
  }
 },
 "nbformat": 4,
 "nbformat_minor": 5
}
