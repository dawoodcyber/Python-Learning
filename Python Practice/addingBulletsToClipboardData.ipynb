{
 "cells": [
  {
   "cell_type": "code",
   "execution_count": 14,
   "id": "f8561915-d2ed-4e73-8d93-16be763360ad",
   "metadata": {},
   "outputs": [],
   "source": [
    "import pyperclip\n",
    "data = pyperclip.paste()\n",
    "lines = data.split('\\n')\n",
    "\n",
    "for i in range(len(lines)):\n",
    "    lines[i] = '* '+lines[i]\n",
    "    \n",
    "data = '\\n'.join(lines)\n",
    "pyperclip.copy(data)\n"
   ]
  },
  {
   "cell_type": "code",
   "execution_count": null,
   "id": "fde8c0a7-0165-4e90-8734-2483e980a98a",
   "metadata": {},
   "outputs": [],
   "source": []
  }
 ],
 "metadata": {
  "kernelspec": {
   "display_name": "Python 3 (ipykernel)",
   "language": "python",
   "name": "python3"
  },
  "language_info": {
   "codemirror_mode": {
    "name": "ipython",
    "version": 3
   },
   "file_extension": ".py",
   "mimetype": "text/x-python",
   "name": "python",
   "nbconvert_exporter": "python",
   "pygments_lexer": "ipython3",
   "version": "3.11.7"
  }
 },
 "nbformat": 4,
 "nbformat_minor": 5
}
